{
 "cells": [
  {
   "cell_type": "markdown",
   "metadata": {},
   "source": [
    "### Code for Creating Cultivar Lookup Table\n",
    "* MAC Season 4 Cultivars (2017)\n",
    "* MAC Season 6 Cultivars (2018)\n",
    "* KSU Cultivars (2016)\n",
    "* Clemson Cultivars (2014)"
   ]
  },
  {
   "cell_type": "code",
   "execution_count": null,
   "metadata": {},
   "outputs": [],
   "source": [
    "import datetime\n",
    "import numpy as np\n",
    "import pandas as pd"
   ]
  },
  {
   "cell_type": "code",
   "execution_count": null,
   "metadata": {},
   "outputs": [],
   "source": [
    "season_4 = pd.read_csv('data/interim/season_4_cultivars.csv')\n",
    "print(season_4.shape)\n",
    "# season_4.head()"
   ]
  },
  {
   "cell_type": "code",
   "execution_count": null,
   "metadata": {},
   "outputs": [],
   "source": [
    "season_6 = pd.read_csv('data/interim/season_6_cultivars.csv')\n",
    "print(season_6.shape)\n",
    "# season_6.head()"
   ]
  },
  {
   "cell_type": "code",
   "execution_count": null,
   "metadata": {},
   "outputs": [],
   "source": [
    "ksu = pd.read_csv('data/interim/ksu_cultivars.csv')\n",
    "print(ksu.shape)\n",
    "# ksu.head()"
   ]
  },
  {
   "cell_type": "code",
   "execution_count": null,
   "metadata": {},
   "outputs": [],
   "source": [
    "genomics = pd.read_csv('data/interim/genomics_cultivars.csv')\n",
    "print(genomics.shape)\n",
    "# genomics.head()"
   ]
  },
  {
   "cell_type": "code",
   "execution_count": null,
   "metadata": {},
   "outputs": [],
   "source": [
    "clemson = pd.read_csv('data/interim/clemson_cultivars.csv')\n",
    "print(clemson.shape)\n",
    "# clemson.head()"
   ]
  },
  {
   "cell_type": "code",
   "execution_count": null,
   "metadata": {},
   "outputs": [],
   "source": [
    "clemson_1 = clemson.drop(labels='Unnamed: 0', axis=1)\n",
    "print(clemson_1.shape)\n",
    "# clemson_1.head()"
   ]
  },
  {
   "cell_type": "code",
   "execution_count": null,
   "metadata": {},
   "outputs": [],
   "source": [
    "clemson_2 = clemson_1.sort_values(by=['clemson_cultivars'], ignore_index=True)\n",
    "print(clemson_2.shape)\n",
    "# clemson_2.head()"
   ]
  },
  {
   "cell_type": "markdown",
   "metadata": {},
   "source": [
    "#### Create lists of all cultivar column values"
   ]
  },
  {
   "cell_type": "code",
   "execution_count": null,
   "metadata": {},
   "outputs": [],
   "source": [
    "s4_values = season_4.season_4_cultivars.values\n",
    "s6_values = season_6.season_6_cultivars.values\n",
    "ksu_values = ksu.ksu_cultivars.values\n",
    "genomics_values = genomics.with_genomic_data.values\n",
    "clemson_values = clemson_2.clemson_cultivars.values"
   ]
  },
  {
   "cell_type": "markdown",
   "metadata": {},
   "source": [
    "#### Create Union of all cultivars for new index"
   ]
  },
  {
   "cell_type": "code",
   "execution_count": null,
   "metadata": {},
   "outputs": [],
   "source": [
    "all_cultivars = list(set(s4_values) | set(s6_values) | set(ksu_values) | set(genomics_values) | set(clemson_values))"
   ]
  },
  {
   "cell_type": "code",
   "execution_count": null,
   "metadata": {},
   "outputs": [],
   "source": [
    "len(all_cultivars)"
   ]
  },
  {
   "cell_type": "markdown",
   "metadata": {},
   "source": [
    "#### Create boolean lists for new column values"
   ]
  },
  {
   "cell_type": "code",
   "execution_count": null,
   "metadata": {},
   "outputs": [],
   "source": [
    "# season 4\n",
    "\n",
    "new_s4 = []\n",
    "\n",
    "for cultivar in all_cultivars:    \n",
    "    if cultivar in s4_values:        \n",
    "        new_s4.append(1)   \n",
    "    else:       \n",
    "        new_s4.append(0)   \n",
    "\n",
    "print(len(new_s4))"
   ]
  },
  {
   "cell_type": "code",
   "execution_count": null,
   "metadata": {},
   "outputs": [],
   "source": [
    "# season 6\n",
    "\n",
    "new_s6 = []\n",
    "\n",
    "for cultivar in all_cultivars:    \n",
    "    if cultivar in s6_values:        \n",
    "        new_s6.append(1)   \n",
    "    else:       \n",
    "        new_s6.append(0)   \n",
    "\n",
    "print(len(new_s6))"
   ]
  },
  {
   "cell_type": "code",
   "execution_count": null,
   "metadata": {},
   "outputs": [],
   "source": [
    "# ksu\n",
    "\n",
    "new_ksu = []\n",
    "\n",
    "for cultivar in all_cultivars:    \n",
    "    if cultivar in ksu_values:        \n",
    "        new_ksu.append(1)   \n",
    "    else:       \n",
    "        new_ksu.append(0)   \n",
    "\n",
    "print(len(new_ksu))"
   ]
  },
  {
   "cell_type": "code",
   "execution_count": null,
   "metadata": {},
   "outputs": [],
   "source": [
    "# cultivars with genomics data\n",
    "\n",
    "new_geno = []\n",
    "\n",
    "for cultivar in all_cultivars:    \n",
    "    if cultivar in genomics_values:        \n",
    "        new_geno.append(1)   \n",
    "    else:       \n",
    "        new_geno.append(0)   \n",
    "\n",
    "print(len(new_geno))"
   ]
  },
  {
   "cell_type": "code",
   "execution_count": null,
   "metadata": {},
   "outputs": [],
   "source": [
    "# clemson\n",
    "\n",
    "new_clemson = []\n",
    "\n",
    "for cultivar in all_cultivars:    \n",
    "    if cultivar in clemson_values:        \n",
    "        new_clemson.append(1)   \n",
    "    else:       \n",
    "        new_clemson.append(0)   \n",
    "\n",
    "print(len(new_clemson))"
   ]
  },
  {
   "cell_type": "markdown",
   "metadata": {},
   "source": [
    "#### New DataFrame with All Cultivars"
   ]
  },
  {
   "cell_type": "code",
   "execution_count": null,
   "metadata": {},
   "outputs": [],
   "source": [
    "cultivar_df = pd.DataFrame(index=all_cultivars, \n",
    "                           data={'season_4': new_s4, 'season_6': new_s6, 'ksu': new_ksu, 'clemson': new_clemson,\n",
    "                                'genomic_data': new_geno}).sort_index()\n",
    "\n",
    "print(cultivar_df.shape)\n",
    "# cultivar_df.head()"
   ]
  },
  {
   "cell_type": "markdown",
   "metadata": {},
   "source": [
    "#### New column with total value for each other (i.e. a value of 2 would indicate that the cultivar is present in 2 columns)"
   ]
  },
  {
   "cell_type": "code",
   "execution_count": null,
   "metadata": {},
   "outputs": [],
   "source": [
    "totals = []\n",
    "for index, row in cultivar_df.iterrows():\n",
    "    totals.append(row.season_4 + row.season_6 + row.ksu + row.clemson + row.genomic_data)\n",
    "\n",
    "print(len(totals))\n",
    "print(totals[:5])"
   ]
  },
  {
   "cell_type": "code",
   "execution_count": null,
   "metadata": {},
   "outputs": [],
   "source": [
    "cultivar_df_1 = cultivar_df.copy()\n",
    "\n",
    "cultivar_df_1['total_count'] = totals\n",
    "print(cultivar_df_1.shape)\n",
    "cultivar_df_1.tail(3)"
   ]
  },
  {
   "cell_type": "code",
   "execution_count": null,
   "metadata": {},
   "outputs": [],
   "source": [
    "# cultivar_df_1.sample(n=10)"
   ]
  },
  {
   "cell_type": "markdown",
   "metadata": {},
   "source": [
    "#### Write to `.csv`"
   ]
  },
  {
   "cell_type": "code",
   "execution_count": null,
   "metadata": {},
   "outputs": [],
   "source": [
    "timestamp = datetime.datetime.now().replace(microsecond=0).isoformat()\n",
    "output_filename = f'data/processed/cultivar_lookup_table_{timestamp}.csv'.replace(':', '')\n",
    "\n",
    "cultivar_df_1.to_csv(output_filename, index=True)"
   ]
  }
 ],
 "metadata": {
  "kernelspec": {
   "display_name": "Python 3",
   "language": "python",
   "name": "python3"
  },
  "language_info": {
   "codemirror_mode": {
    "name": "ipython",
    "version": 3
   },
   "file_extension": ".py",
   "mimetype": "text/x-python",
   "name": "python",
   "nbconvert_exporter": "python",
   "pygments_lexer": "ipython3",
   "version": "3.8.3"
  }
 },
 "nbformat": 4,
 "nbformat_minor": 4
}
