{
 "cells": [
  {
   "cell_type": "markdown",
   "metadata": {},
   "source": [
    "### Maricopa Agricultural Center Season 4"
   ]
  },
  {
   "cell_type": "markdown",
   "metadata": {},
   "source": [
    "### Citation for Input Trait Data\n",
    "\n",
    "LeBauer, David et al. (2020), Data From: TERRA-REF, An open reference data set from high resolution genomics, phenomics, and imaging sensors, v6, Dryad, Dataset, https://doi.org/10.5061/dryad.4b8gtht99\n",
    "\n",
    "#### Environmental weather data \n",
    "- Raw data downloaded from the MAC weather station [website](https://cals.arizona.edu/azmet/06.htm)\n",
    "- Processed using the code from [`weather_data_cleaning.py`](/iplant/home/shared/genophenoenvo/scripts/weather_data_cleaning.py)\n",
    "- Processed MAC Season 4 [weather data](https://de.cyverse.org/dl/d/6D959379-0442-41FE-8BEE-890866ACF037/mac_season_4_weather.csv)\n",
    "\n",
    "Please email dlebauer@email.arizona.edu or ejcain@arizona.edu with any questions or comments, or create an issue in this [repository](https://github.com/genophenoenvo/terraref-datasets) "
   ]
  },
  {
   "cell_type": "code",
   "execution_count": 19,
   "metadata": {},
   "outputs": [],
   "source": [
    "import datetime\n",
    "import numpy as np\n",
    "import os\n",
    "import pandas as pd\n",
    "import requests\n",
    "import sqlite3"
   ]
  },
  {
   "cell_type": "code",
   "execution_count": null,
   "metadata": {},
   "outputs": [],
   "source": []
  },
  {
   "cell_type": "code",
   "execution_count": 2,
   "metadata": {},
   "outputs": [],
   "source": [
    "def download_csv(url, folder_name, file_name):\n",
    "    response = requests.get(url)\n",
    "    with open(os.path.join(folder_name, file_name), 'wb') as f:\n",
    "        f.write(response.content)"
   ]
  },
  {
   "cell_type": "code",
   "execution_count": 3,
   "metadata": {},
   "outputs": [],
   "source": [
    "def read_in_csv(folder_name, file_name):\n",
    "    df = pd.read_csv(folder_name + '/' + file_name, low_memory=False)\n",
    "    return df"
   ]
  },
  {
   "cell_type": "code",
   "execution_count": 4,
   "metadata": {},
   "outputs": [],
   "source": [
    "def plot_hist(df, value_column, trait_column):\n",
    "    \n",
    "    trait_name = df[trait_column].unique()[0]\n",
    "    return df[value_column].hist(color='navy').set_xlabel(trait_name);"
   ]
  },
  {
   "cell_type": "code",
   "execution_count": 5,
   "metadata": {},
   "outputs": [],
   "source": [
    "def check_for_nulls_duplicates(df):\n",
    "    \n",
    "    print(\n",
    "        f'Sum of null values:\\n{df.isnull().sum()}\\n-----\\n'\n",
    "        f'Value counts for duplicates:\\n{df.duplicated().value_counts()}'\n",
    "    )"
   ]
  },
  {
   "cell_type": "code",
   "execution_count": 6,
   "metadata": {},
   "outputs": [],
   "source": [
    "def check_unique_values(df):\n",
    "\n",
    "    for col in df.columns:\n",
    "        if df[col].nunique() < 5:\n",
    "            print(f'{df[col].nunique()} unique value(s) for {col} column: {df[col].unique()}')    \n",
    "        else:\n",
    "            print(f'{df[col].nunique()} values for {col} column')"
   ]
  },
  {
   "cell_type": "code",
   "execution_count": 7,
   "metadata": {},
   "outputs": [],
   "source": [
    "def extract_range_column_values(working_df, plot_column):\n",
    "    \n",
    "    new_df = working_df.copy()\n",
    "    new_df['range'] = new_df[plot_column].str.extract(\"Range (\\d+)\").astype(int)\n",
    "    new_df['column'] = new_df[plot_column].str.extract(\"Column (\\d+)\").astype(int)\n",
    "    \n",
    "    return new_df"
   ]
  },
  {
   "cell_type": "code",
   "execution_count": 8,
   "metadata": {},
   "outputs": [],
   "source": [
    "def convert_datetime_column(working_df, date_column):\n",
    "    \n",
    "    new_datetimes = pd.to_datetime(working_df[date_column])\n",
    "    new_df_0 = working_df.drop(labels=date_column, axis=1)\n",
    "    new_df_1 = new_df_0.copy()\n",
    "    new_df_1['date'] = new_datetimes\n",
    "    \n",
    "    return new_df_1"
   ]
  },
  {
   "cell_type": "code",
   "execution_count": 9,
   "metadata": {},
   "outputs": [],
   "source": [
    "def rename_value_column(working_df, value_column, trait_column):\n",
    "    \n",
    "    trait = working_df[trait_column].unique()[0]\n",
    "    new_df_0 = working_df.rename({value_column: trait}, axis=1)\n",
    "    new_df_1 = new_df_0.drop(labels=trait_column, axis=1)\n",
    "    \n",
    "    return new_df_1"
   ]
  },
  {
   "cell_type": "markdown",
   "metadata": {},
   "source": [
    "Blocking height experiment description for season 4 can be found [here](https://terraref.ncsa.illinois.edu/bety/api/v1/experiments?name=~MAC+Season+4:+All+BAP+With+Late+Season+Drought)\n"
   ]
  },
  {
   "cell_type": "code",
   "execution_count": 10,
   "metadata": {},
   "outputs": [],
   "source": [
    "def add_season_4_blocking_height(working_df, range_column):\n",
    "    \n",
    "    short_blocks = [11, 20, 46, 50]\n",
    "    medium_blocks = [10, 12, 18, 24, 27, 29, 31, 33, 38, 51]\n",
    "    tall_blocks = [3, 4, 5, 6, 7, 8, 9, 13, 14, 15, 16, 17, 19, 21, 22, 23, 25, 26, 28, 30, 32, 34, 35, 36, 37, \n",
    "                   39, 40, 41, 42, 43, 44, 45, 47, 48, 49, 52]\n",
    "    border = [1, 2, 53, 54]\n",
    "    \n",
    "    range_values = working_df[range_column].values\n",
    "    blocking_heights = []\n",
    "    \n",
    "    for r in range_values:\n",
    "        \n",
    "        if r in short_blocks:\n",
    "            blocking_heights.append('short')\n",
    "            \n",
    "        elif r in medium_blocks:\n",
    "            blocking_heights.append('medium')\n",
    "            \n",
    "        elif r in tall_blocks:\n",
    "            blocking_heights.append('tall')\n",
    "            \n",
    "        elif r in border:\n",
    "            blocking_heights.append('border')\n",
    "            \n",
    "        else:\n",
    "            print(f'Error with range value {r}')\n",
    "        \n",
    "    working_df_1 = working_df.copy()\n",
    "    working_df_1['blocking_height'] = blocking_heights\n",
    "    \n",
    "    return working_df_1"
   ]
  },
  {
   "cell_type": "code",
   "execution_count": 11,
   "metadata": {},
   "outputs": [],
   "source": [
    "def reorder_columns(working_df, new_col_order_list):\n",
    "    \n",
    "    working_df_1 = pd.DataFrame(data=working_df, columns=new_col_order_list)\n",
    "    return working_df_1"
   ]
  },
  {
   "cell_type": "code",
   "execution_count": 71,
   "metadata": {},
   "outputs": [],
   "source": [
    "def check_for_subplots(df, plot_col):\n",
    "\n",
    "    for name in df[plot_col].values:\n",
    "        if (name.endswith(' E')) | (name.endswith(' W')):\n",
    "             return 'This dataset contains subplot designations'\n",
    "        else:\n",
    "            return 'No subplot designations'"
   ]
  },
  {
   "cell_type": "code",
   "execution_count": 13,
   "metadata": {},
   "outputs": [],
   "source": [
    "def strip_subplots(working_df, plot_col, new_plot_col_name):\n",
    "    \n",
    "    plot_names = working_df[plot_col].values\n",
    "    new_plot_names = []\n",
    "    \n",
    "    for n in plot_names:\n",
    "        if (n.endswith(' E') | (n.endswith(' W'))):\n",
    "            new_plot_names.append(n[:-2])    \n",
    "        else:\n",
    "            new_plot_names.append(n)\n",
    "            \n",
    "    working_df_1 = working_df.drop(labels=plot_col, axis=1)\n",
    "    working_df_2 = working_df_1.copy()\n",
    "    \n",
    "    working_df_2[new_plot_col_name] = new_plot_names\n",
    "    return working_df_2"
   ]
  },
  {
   "cell_type": "code",
   "execution_count": 14,
   "metadata": {},
   "outputs": [],
   "source": [
    "def save_to_csv_with_timestamp(df, name_of_dataset):\n",
    "    \n",
    "    timestamp = datetime.datetime.now().replace(microsecond=0).isoformat()\n",
    "    output_filename = ('data/processed/' + f'{name_of_dataset}_' + f'{timestamp}.csv').replace(':', '')\n",
    "\n",
    "    df.to_csv(output_filename, index=False)"
   ]
  },
  {
   "cell_type": "code",
   "execution_count": 15,
   "metadata": {},
   "outputs": [],
   "source": [
    "def save_to_csv_without_timestamp(list_of_dfs, list_of_output_filenames):\n",
    "\n",
    "    for i,j in zip(list_of_dfs, list_of_output_filenames):\n",
    "        i.to_csv(j, index=False)"
   ]
  },
  {
   "cell_type": "code",
   "execution_count": null,
   "metadata": {},
   "outputs": [],
   "source": []
  },
  {
   "cell_type": "markdown",
   "metadata": {},
   "source": [
    "#### A. Aboveground Dry Biomass"
   ]
  },
  {
   "cell_type": "code",
   "execution_count": 20,
   "metadata": {},
   "outputs": [],
   "source": [
    "folder_name = 'data'\n",
    "if not os.path.exists(folder_name):\n",
    "    os.makedirs(folder_name)"
   ]
  },
  {
   "cell_type": "code",
   "execution_count": 21,
   "metadata": {},
   "outputs": [],
   "source": [
    "aboveground_dry_biomass_s4_url = 'https://de.cyverse.org/dl/d/6FB820CF-25A8-4691-AEB4-3B2B17BF3DDE/season_4_aboveground_dry_biomass_manual.csv'\n",
    "aboveground_dry_biomass_s4_input_filename = 'aboveground_dry_biomass_s4.csv'"
   ]
  },
  {
   "cell_type": "code",
   "execution_count": 22,
   "metadata": {},
   "outputs": [],
   "source": [
    "download_csv(aboveground_dry_biomass_s4_url, folder_name=folder_name, file_name=aboveground_dry_biomass_s4_input_filename)"
   ]
  },
  {
   "cell_type": "code",
   "execution_count": 25,
   "metadata": {},
   "outputs": [
    {
     "name": "stdout",
     "output_type": "stream",
     "text": [
      "(719, 12)\n"
     ]
    },
    {
     "data": {
      "text/html": [
       "<div>\n",
       "<style scoped>\n",
       "    .dataframe tbody tr th:only-of-type {\n",
       "        vertical-align: middle;\n",
       "    }\n",
       "\n",
       "    .dataframe tbody tr th {\n",
       "        vertical-align: top;\n",
       "    }\n",
       "\n",
       "    .dataframe thead th {\n",
       "        text-align: right;\n",
       "    }\n",
       "</style>\n",
       "<table border=\"1\" class=\"dataframe\">\n",
       "  <thead>\n",
       "    <tr style=\"text-align: right;\">\n",
       "      <th></th>\n",
       "      <th>plot</th>\n",
       "      <th>scientificname</th>\n",
       "      <th>genotype</th>\n",
       "      <th>treatment</th>\n",
       "      <th>date</th>\n",
       "      <th>trait</th>\n",
       "      <th>method</th>\n",
       "      <th>mean</th>\n",
       "      <th>checked</th>\n",
       "      <th>author</th>\n",
       "      <th>season</th>\n",
       "      <th>method_type</th>\n",
       "    </tr>\n",
       "  </thead>\n",
       "  <tbody>\n",
       "    <tr>\n",
       "      <th>0</th>\n",
       "      <td>MAC Field Scanner Season 4 Range 50 Column 4</td>\n",
       "      <td>Sorghum bicolor</td>\n",
       "      <td>PI535794</td>\n",
       "      <td>MAC Season 4: BAP water-deficit stress Aug 15-30</td>\n",
       "      <td>2017-09-10</td>\n",
       "      <td>aboveground_dry_biomass</td>\n",
       "      <td>Whole above ground biomass at harvest</td>\n",
       "      <td>11470</td>\n",
       "      <td>0</td>\n",
       "      <td>Newcomb, Maria</td>\n",
       "      <td>Season 4</td>\n",
       "      <td>manual</td>\n",
       "    </tr>\n",
       "    <tr>\n",
       "      <th>1</th>\n",
       "      <td>MAC Field Scanner Season 4 Range 51 Column 4</td>\n",
       "      <td>Sorghum bicolor</td>\n",
       "      <td>PI586435</td>\n",
       "      <td>MAC Season 4: BAP water-deficit stress Aug 15-30</td>\n",
       "      <td>2017-09-10</td>\n",
       "      <td>aboveground_dry_biomass</td>\n",
       "      <td>Whole above ground biomass at harvest</td>\n",
       "      <td>22790</td>\n",
       "      <td>0</td>\n",
       "      <td>Newcomb, Maria</td>\n",
       "      <td>Season 4</td>\n",
       "      <td>manual</td>\n",
       "    </tr>\n",
       "    <tr>\n",
       "      <th>2</th>\n",
       "      <td>MAC Field Scanner Season 4 Range 10 Column 5</td>\n",
       "      <td>Sorghum bicolor</td>\n",
       "      <td>PI641821</td>\n",
       "      <td>MAC Season 4: BAP water-deficit stress Aug 1-14</td>\n",
       "      <td>2017-09-11</td>\n",
       "      <td>aboveground_dry_biomass</td>\n",
       "      <td>Whole above ground biomass at harvest</td>\n",
       "      <td>43730</td>\n",
       "      <td>0</td>\n",
       "      <td>Newcomb, Maria</td>\n",
       "      <td>Season 4</td>\n",
       "      <td>manual</td>\n",
       "    </tr>\n",
       "    <tr>\n",
       "      <th>3</th>\n",
       "      <td>MAC Field Scanner Season 4 Range 13 Column 5</td>\n",
       "      <td>Sorghum bicolor</td>\n",
       "      <td>PI586443</td>\n",
       "      <td>MAC Season 4: BAP water-deficit stress Aug 1-14</td>\n",
       "      <td>2017-09-11</td>\n",
       "      <td>aboveground_dry_biomass</td>\n",
       "      <td>Whole above ground biomass at harvest</td>\n",
       "      <td>8775</td>\n",
       "      <td>0</td>\n",
       "      <td>Newcomb, Maria</td>\n",
       "      <td>Season 4</td>\n",
       "      <td>manual</td>\n",
       "    </tr>\n",
       "    <tr>\n",
       "      <th>4</th>\n",
       "      <td>MAC Field Scanner Season 4 Range 14 Column 5</td>\n",
       "      <td>Sorghum bicolor</td>\n",
       "      <td>PI562997</td>\n",
       "      <td>MAC Season 4: BAP water-deficit stress Aug 1-14</td>\n",
       "      <td>2017-09-11</td>\n",
       "      <td>aboveground_dry_biomass</td>\n",
       "      <td>Whole above ground biomass at harvest</td>\n",
       "      <td>32520</td>\n",
       "      <td>0</td>\n",
       "      <td>Newcomb, Maria</td>\n",
       "      <td>Season 4</td>\n",
       "      <td>manual</td>\n",
       "    </tr>\n",
       "  </tbody>\n",
       "</table>\n",
       "</div>"
      ],
      "text/plain": [
       "                                           plot   scientificname  genotype  \\\n",
       "0  MAC Field Scanner Season 4 Range 50 Column 4  Sorghum bicolor  PI535794   \n",
       "1  MAC Field Scanner Season 4 Range 51 Column 4  Sorghum bicolor  PI586435   \n",
       "2  MAC Field Scanner Season 4 Range 10 Column 5  Sorghum bicolor  PI641821   \n",
       "3  MAC Field Scanner Season 4 Range 13 Column 5  Sorghum bicolor  PI586443   \n",
       "4  MAC Field Scanner Season 4 Range 14 Column 5  Sorghum bicolor  PI562997   \n",
       "\n",
       "                                          treatment        date  \\\n",
       "0  MAC Season 4: BAP water-deficit stress Aug 15-30  2017-09-10   \n",
       "1  MAC Season 4: BAP water-deficit stress Aug 15-30  2017-09-10   \n",
       "2   MAC Season 4: BAP water-deficit stress Aug 1-14  2017-09-11   \n",
       "3   MAC Season 4: BAP water-deficit stress Aug 1-14  2017-09-11   \n",
       "4   MAC Season 4: BAP water-deficit stress Aug 1-14  2017-09-11   \n",
       "\n",
       "                     trait                                 method   mean  \\\n",
       "0  aboveground_dry_biomass  Whole above ground biomass at harvest  11470   \n",
       "1  aboveground_dry_biomass  Whole above ground biomass at harvest  22790   \n",
       "2  aboveground_dry_biomass  Whole above ground biomass at harvest  43730   \n",
       "3  aboveground_dry_biomass  Whole above ground biomass at harvest   8775   \n",
       "4  aboveground_dry_biomass  Whole above ground biomass at harvest  32520   \n",
       "\n",
       "   checked          author    season method_type  \n",
       "0        0  Newcomb, Maria  Season 4      manual  \n",
       "1        0  Newcomb, Maria  Season 4      manual  \n",
       "2        0  Newcomb, Maria  Season 4      manual  \n",
       "3        0  Newcomb, Maria  Season 4      manual  \n",
       "4        0  Newcomb, Maria  Season 4      manual  "
      ]
     },
     "execution_count": 25,
     "metadata": {},
     "output_type": "execute_result"
    }
   ],
   "source": [
    "adb_0 = read_in_csv(folder_name=folder_name, file_name=aboveground_dry_biomass_s4_input_filename)\n",
    "# print(adb_0.shape)\n",
    "# adb_0.head()"
   ]
  },
  {
   "cell_type": "code",
   "execution_count": 26,
   "metadata": {},
   "outputs": [
    {
     "data": {
      "text/plain": [
       "Text(0.5, 0, 'aboveground_dry_biomass')"
      ]
     },
     "execution_count": 26,
     "metadata": {},
     "output_type": "execute_result"
    },
    {
     "data": {
      "image/png": "[encoded data removed]",
      "text/plain": [
       "<Figure size 432x288 with 1 Axes>"
      ]
     },
     "metadata": {
      "needs_background": "light"
     },
     "output_type": "display_data"
    }
   ],
   "source": [
    "# plot_hist(adb_0, 'mean', 'trait')"
   ]
  },
  {
   "cell_type": "code",
   "execution_count": 27,
   "metadata": {},
   "outputs": [
    {
     "name": "stdout",
     "output_type": "stream",
     "text": [
      "Sum of null values:\n",
      "plot              0\n",
      "scientificname    0\n",
      "genotype          0\n",
      "treatment         0\n",
      "date              0\n",
      "trait             0\n",
      "method            0\n",
      "mean              0\n",
      "checked           0\n",
      "author            0\n",
      "season            0\n",
      "method_type       0\n",
      "dtype: int64\n",
      "-----\n",
      "Value counts for duplicates:\n",
      "False    719\n",
      "dtype: int64\n"
     ]
    }
   ],
   "source": [
    "# check_for_nulls_duplicates(adb_0)"
   ]
  },
  {
   "cell_type": "code",
   "execution_count": 28,
   "metadata": {},
   "outputs": [],
   "source": [
    "# check_unique_values(adb_0)"
   ]
  },
  {
   "cell_type": "code",
   "execution_count": 29,
   "metadata": {},
   "outputs": [
    {
     "name": "stdout",
     "output_type": "stream",
     "text": [
      "(719, 14)\n"
     ]
    },
    {
     "data": {
      "text/html": [
       "<div>\n",
       "<style scoped>\n",
       "    .dataframe tbody tr th:only-of-type {\n",
       "        vertical-align: middle;\n",
       "    }\n",
       "\n",
       "    .dataframe tbody tr th {\n",
       "        vertical-align: top;\n",
       "    }\n",
       "\n",
       "    .dataframe thead th {\n",
       "        text-align: right;\n",
       "    }\n",
       "</style>\n",
       "<table border=\"1\" class=\"dataframe\">\n",
       "  <thead>\n",
       "    <tr style=\"text-align: right;\">\n",
       "      <th></th>\n",
       "      <th>plot</th>\n",
       "      <th>scientificname</th>\n",
       "      <th>genotype</th>\n",
       "      <th>treatment</th>\n",
       "      <th>date</th>\n",
       "      <th>trait</th>\n",
       "      <th>method</th>\n",
       "      <th>mean</th>\n",
       "      <th>checked</th>\n",
       "      <th>author</th>\n",
       "      <th>season</th>\n",
       "      <th>method_type</th>\n",
       "      <th>range</th>\n",
       "      <th>column</th>\n",
       "    </tr>\n",
       "  </thead>\n",
       "  <tbody>\n",
       "    <tr>\n",
       "      <th>716</th>\n",
       "      <td>MAC Field Scanner Season 4 Range 4 Column 3</td>\n",
       "      <td>Sorghum bicolor</td>\n",
       "      <td>PI646251</td>\n",
       "      <td>MAC Season 4: BAP water-deficit stress Aug 15-30</td>\n",
       "      <td>2017-09-10</td>\n",
       "      <td>aboveground_dry_biomass</td>\n",
       "      <td>Whole above ground biomass at harvest</td>\n",
       "      <td>6660</td>\n",
       "      <td>0</td>\n",
       "      <td>Newcomb, Maria</td>\n",
       "      <td>Season 4</td>\n",
       "      <td>manual</td>\n",
       "      <td>4</td>\n",
       "      <td>3</td>\n",
       "    </tr>\n",
       "    <tr>\n",
       "      <th>365</th>\n",
       "      <td>MAC Field Scanner Season 4 Range 6 Column 4</td>\n",
       "      <td>Sorghum bicolor</td>\n",
       "      <td>PI329286</td>\n",
       "      <td>MAC Season 4: BAP water-deficit stress Aug 15-30</td>\n",
       "      <td>2017-09-10</td>\n",
       "      <td>aboveground_dry_biomass</td>\n",
       "      <td>Whole above ground biomass at harvest</td>\n",
       "      <td>17300</td>\n",
       "      <td>0</td>\n",
       "      <td>Newcomb, Maria</td>\n",
       "      <td>Season 4</td>\n",
       "      <td>manual</td>\n",
       "      <td>6</td>\n",
       "      <td>4</td>\n",
       "    </tr>\n",
       "    <tr>\n",
       "      <th>304</th>\n",
       "      <td>MAC Field Scanner Season 4 Range 18 Column 11</td>\n",
       "      <td>Sorghum bicolor</td>\n",
       "      <td>PI641862</td>\n",
       "      <td>MAC Season 4: BAP water-deficit stress Aug 15-30</td>\n",
       "      <td>2017-09-14</td>\n",
       "      <td>aboveground_dry_biomass</td>\n",
       "      <td>Whole above ground biomass at harvest</td>\n",
       "      <td>24030</td>\n",
       "      <td>0</td>\n",
       "      <td>Newcomb, Maria</td>\n",
       "      <td>Season 4</td>\n",
       "      <td>manual</td>\n",
       "      <td>18</td>\n",
       "      <td>11</td>\n",
       "    </tr>\n",
       "  </tbody>\n",
       "</table>\n",
       "</div>"
      ],
      "text/plain": [
       "                                              plot   scientificname  genotype  \\\n",
       "716    MAC Field Scanner Season 4 Range 4 Column 3  Sorghum bicolor  PI646251   \n",
       "365    MAC Field Scanner Season 4 Range 6 Column 4  Sorghum bicolor  PI329286   \n",
       "304  MAC Field Scanner Season 4 Range 18 Column 11  Sorghum bicolor  PI641862   \n",
       "\n",
       "                                            treatment        date  \\\n",
       "716  MAC Season 4: BAP water-deficit stress Aug 15-30  2017-09-10   \n",
       "365  MAC Season 4: BAP water-deficit stress Aug 15-30  2017-09-10   \n",
       "304  MAC Season 4: BAP water-deficit stress Aug 15-30  2017-09-14   \n",
       "\n",
       "                       trait                                 method   mean  \\\n",
       "716  aboveground_dry_biomass  Whole above ground biomass at harvest   6660   \n",
       "365  aboveground_dry_biomass  Whole above ground biomass at harvest  17300   \n",
       "304  aboveground_dry_biomass  Whole above ground biomass at harvest  24030   \n",
       "\n",
       "     checked          author    season method_type  range  column  \n",
       "716        0  Newcomb, Maria  Season 4      manual      4       3  \n",
       "365        0  Newcomb, Maria  Season 4      manual      6       4  \n",
       "304        0  Newcomb, Maria  Season 4      manual     18      11  "
      ]
     },
     "execution_count": 29,
     "metadata": {},
     "output_type": "execute_result"
    }
   ],
   "source": [
    "adb_1 = extract_range_column_values(adb_0, 'plot')\n",
    "# print(adb_1.shape)\n",
    "# adb_1.sample(n=3)"
   ]
  },
  {
   "cell_type": "code",
   "execution_count": 30,
   "metadata": {},
   "outputs": [
    {
     "name": "stdout",
     "output_type": "stream",
     "text": [
      "(719, 14)\n"
     ]
    },
    {
     "data": {
      "text/html": [
       "<div>\n",
       "<style scoped>\n",
       "    .dataframe tbody tr th:only-of-type {\n",
       "        vertical-align: middle;\n",
       "    }\n",
       "\n",
       "    .dataframe tbody tr th {\n",
       "        vertical-align: top;\n",
       "    }\n",
       "\n",
       "    .dataframe thead th {\n",
       "        text-align: right;\n",
       "    }\n",
       "</style>\n",
       "<table border=\"1\" class=\"dataframe\">\n",
       "  <thead>\n",
       "    <tr style=\"text-align: right;\">\n",
       "      <th></th>\n",
       "      <th>plot</th>\n",
       "      <th>scientificname</th>\n",
       "      <th>genotype</th>\n",
       "      <th>treatment</th>\n",
       "      <th>trait</th>\n",
       "      <th>method</th>\n",
       "      <th>mean</th>\n",
       "      <th>checked</th>\n",
       "      <th>author</th>\n",
       "      <th>season</th>\n",
       "      <th>method_type</th>\n",
       "      <th>range</th>\n",
       "      <th>column</th>\n",
       "      <th>date</th>\n",
       "    </tr>\n",
       "  </thead>\n",
       "  <tbody>\n",
       "    <tr>\n",
       "      <th>0</th>\n",
       "      <td>MAC Field Scanner Season 4 Range 50 Column 4</td>\n",
       "      <td>Sorghum bicolor</td>\n",
       "      <td>PI535794</td>\n",
       "      <td>MAC Season 4: BAP water-deficit stress Aug 15-30</td>\n",
       "      <td>aboveground_dry_biomass</td>\n",
       "      <td>Whole above ground biomass at harvest</td>\n",
       "      <td>11470</td>\n",
       "      <td>0</td>\n",
       "      <td>Newcomb, Maria</td>\n",
       "      <td>Season 4</td>\n",
       "      <td>manual</td>\n",
       "      <td>50</td>\n",
       "      <td>4</td>\n",
       "      <td>2017-09-10</td>\n",
       "    </tr>\n",
       "    <tr>\n",
       "      <th>1</th>\n",
       "      <td>MAC Field Scanner Season 4 Range 51 Column 4</td>\n",
       "      <td>Sorghum bicolor</td>\n",
       "      <td>PI586435</td>\n",
       "      <td>MAC Season 4: BAP water-deficit stress Aug 15-30</td>\n",
       "      <td>aboveground_dry_biomass</td>\n",
       "      <td>Whole above ground biomass at harvest</td>\n",
       "      <td>22790</td>\n",
       "      <td>0</td>\n",
       "      <td>Newcomb, Maria</td>\n",
       "      <td>Season 4</td>\n",
       "      <td>manual</td>\n",
       "      <td>51</td>\n",
       "      <td>4</td>\n",
       "      <td>2017-09-10</td>\n",
       "    </tr>\n",
       "    <tr>\n",
       "      <th>2</th>\n",
       "      <td>MAC Field Scanner Season 4 Range 10 Column 5</td>\n",
       "      <td>Sorghum bicolor</td>\n",
       "      <td>PI641821</td>\n",
       "      <td>MAC Season 4: BAP water-deficit stress Aug 1-14</td>\n",
       "      <td>aboveground_dry_biomass</td>\n",
       "      <td>Whole above ground biomass at harvest</td>\n",
       "      <td>43730</td>\n",
       "      <td>0</td>\n",
       "      <td>Newcomb, Maria</td>\n",
       "      <td>Season 4</td>\n",
       "      <td>manual</td>\n",
       "      <td>10</td>\n",
       "      <td>5</td>\n",
       "      <td>2017-09-11</td>\n",
       "    </tr>\n",
       "    <tr>\n",
       "      <th>3</th>\n",
       "      <td>MAC Field Scanner Season 4 Range 13 Column 5</td>\n",
       "      <td>Sorghum bicolor</td>\n",
       "      <td>PI586443</td>\n",
       "      <td>MAC Season 4: BAP water-deficit stress Aug 1-14</td>\n",
       "      <td>aboveground_dry_biomass</td>\n",
       "      <td>Whole above ground biomass at harvest</td>\n",
       "      <td>8775</td>\n",
       "      <td>0</td>\n",
       "      <td>Newcomb, Maria</td>\n",
       "      <td>Season 4</td>\n",
       "      <td>manual</td>\n",
       "      <td>13</td>\n",
       "      <td>5</td>\n",
       "      <td>2017-09-11</td>\n",
       "    </tr>\n",
       "    <tr>\n",
       "      <th>4</th>\n",
       "      <td>MAC Field Scanner Season 4 Range 14 Column 5</td>\n",
       "      <td>Sorghum bicolor</td>\n",
       "      <td>PI562997</td>\n",
       "      <td>MAC Season 4: BAP water-deficit stress Aug 1-14</td>\n",
       "      <td>aboveground_dry_biomass</td>\n",
       "      <td>Whole above ground biomass at harvest</td>\n",
       "      <td>32520</td>\n",
       "      <td>0</td>\n",
       "      <td>Newcomb, Maria</td>\n",
       "      <td>Season 4</td>\n",
       "      <td>manual</td>\n",
       "      <td>14</td>\n",
       "      <td>5</td>\n",
       "      <td>2017-09-11</td>\n",
       "    </tr>\n",
       "  </tbody>\n",
       "</table>\n",
       "</div>"
      ],
      "text/plain": [
       "                                           plot   scientificname  genotype  \\\n",
       "0  MAC Field Scanner Season 4 Range 50 Column 4  Sorghum bicolor  PI535794   \n",
       "1  MAC Field Scanner Season 4 Range 51 Column 4  Sorghum bicolor  PI586435   \n",
       "2  MAC Field Scanner Season 4 Range 10 Column 5  Sorghum bicolor  PI641821   \n",
       "3  MAC Field Scanner Season 4 Range 13 Column 5  Sorghum bicolor  PI586443   \n",
       "4  MAC Field Scanner Season 4 Range 14 Column 5  Sorghum bicolor  PI562997   \n",
       "\n",
       "                                          treatment                    trait  \\\n",
       "0  MAC Season 4: BAP water-deficit stress Aug 15-30  aboveground_dry_biomass   \n",
       "1  MAC Season 4: BAP water-deficit stress Aug 15-30  aboveground_dry_biomass   \n",
       "2   MAC Season 4: BAP water-deficit stress Aug 1-14  aboveground_dry_biomass   \n",
       "3   MAC Season 4: BAP water-deficit stress Aug 1-14  aboveground_dry_biomass   \n",
       "4   MAC Season 4: BAP water-deficit stress Aug 1-14  aboveground_dry_biomass   \n",
       "\n",
       "                                  method   mean  checked          author  \\\n",
       "0  Whole above ground biomass at harvest  11470        0  Newcomb, Maria   \n",
       "1  Whole above ground biomass at harvest  22790        0  Newcomb, Maria   \n",
       "2  Whole above ground biomass at harvest  43730        0  Newcomb, Maria   \n",
       "3  Whole above ground biomass at harvest   8775        0  Newcomb, Maria   \n",
       "4  Whole above ground biomass at harvest  32520        0  Newcomb, Maria   \n",
       "\n",
       "     season method_type  range  column       date  \n",
       "0  Season 4      manual     50       4 2017-09-10  \n",
       "1  Season 4      manual     51       4 2017-09-10  \n",
       "2  Season 4      manual     10       5 2017-09-11  \n",
       "3  Season 4      manual     13       5 2017-09-11  \n",
       "4  Season 4      manual     14       5 2017-09-11  "
      ]
     },
     "execution_count": 30,
     "metadata": {},
     "output_type": "execute_result"
    }
   ],
   "source": [
    "adb_2 = convert_datetime_column(adb_1, 'date')\n",
    "# print(adb_2.shape)\n",
    "# adb_2.head()"
   ]
  },
  {
   "cell_type": "code",
   "execution_count": 32,
   "metadata": {},
   "outputs": [
    {
     "name": "stdout",
     "output_type": "stream",
     "text": [
      "(719, 13)\n"
     ]
    },
    {
     "data": {
      "text/html": [
       "<div>\n",
       "<style scoped>\n",
       "    .dataframe tbody tr th:only-of-type {\n",
       "        vertical-align: middle;\n",
       "    }\n",
       "\n",
       "    .dataframe tbody tr th {\n",
       "        vertical-align: top;\n",
       "    }\n",
       "\n",
       "    .dataframe thead th {\n",
       "        text-align: right;\n",
       "    }\n",
       "</style>\n",
       "<table border=\"1\" class=\"dataframe\">\n",
       "  <thead>\n",
       "    <tr style=\"text-align: right;\">\n",
       "      <th></th>\n",
       "      <th>plot</th>\n",
       "      <th>scientificname</th>\n",
       "      <th>genotype</th>\n",
       "      <th>treatment</th>\n",
       "      <th>method</th>\n",
       "      <th>aboveground_dry_biomass</th>\n",
       "      <th>checked</th>\n",
       "      <th>author</th>\n",
       "      <th>season</th>\n",
       "      <th>method_type</th>\n",
       "      <th>range</th>\n",
       "      <th>column</th>\n",
       "      <th>date</th>\n",
       "    </tr>\n",
       "  </thead>\n",
       "  <tbody>\n",
       "    <tr>\n",
       "      <th>714</th>\n",
       "      <td>MAC Field Scanner Season 4 Range 39 Column 3</td>\n",
       "      <td>Sorghum bicolor</td>\n",
       "      <td>PI651496</td>\n",
       "      <td>MAC Season 4: BAP water-deficit stress Aug 15-30</td>\n",
       "      <td>Whole above ground biomass at harvest</td>\n",
       "      <td>17910</td>\n",
       "      <td>0</td>\n",
       "      <td>Newcomb, Maria</td>\n",
       "      <td>Season 4</td>\n",
       "      <td>manual</td>\n",
       "      <td>39</td>\n",
       "      <td>3</td>\n",
       "      <td>2017-09-10</td>\n",
       "    </tr>\n",
       "    <tr>\n",
       "      <th>715</th>\n",
       "      <td>MAC Field Scanner Season 4 Range 40 Column 3</td>\n",
       "      <td>Sorghum bicolor</td>\n",
       "      <td>PI330858</td>\n",
       "      <td>MAC Season 4: BAP water-deficit stress Aug 15-30</td>\n",
       "      <td>Whole above ground biomass at harvest</td>\n",
       "      <td>26110</td>\n",
       "      <td>0</td>\n",
       "      <td>Newcomb, Maria</td>\n",
       "      <td>Season 4</td>\n",
       "      <td>manual</td>\n",
       "      <td>40</td>\n",
       "      <td>3</td>\n",
       "      <td>2017-09-10</td>\n",
       "    </tr>\n",
       "    <tr>\n",
       "      <th>716</th>\n",
       "      <td>MAC Field Scanner Season 4 Range 4 Column 3</td>\n",
       "      <td>Sorghum bicolor</td>\n",
       "      <td>PI646251</td>\n",
       "      <td>MAC Season 4: BAP water-deficit stress Aug 15-30</td>\n",
       "      <td>Whole above ground biomass at harvest</td>\n",
       "      <td>6660</td>\n",
       "      <td>0</td>\n",
       "      <td>Newcomb, Maria</td>\n",
       "      <td>Season 4</td>\n",
       "      <td>manual</td>\n",
       "      <td>4</td>\n",
       "      <td>3</td>\n",
       "      <td>2017-09-10</td>\n",
       "    </tr>\n",
       "    <tr>\n",
       "      <th>717</th>\n",
       "      <td>MAC Field Scanner Season 4 Range 13 Column 4</td>\n",
       "      <td>Sorghum bicolor</td>\n",
       "      <td>PI569244</td>\n",
       "      <td>MAC Season 4: BAP water-deficit stress Aug 15-30</td>\n",
       "      <td>Whole above ground biomass at harvest</td>\n",
       "      <td>26630</td>\n",
       "      <td>0</td>\n",
       "      <td>Newcomb, Maria</td>\n",
       "      <td>Season 4</td>\n",
       "      <td>manual</td>\n",
       "      <td>13</td>\n",
       "      <td>4</td>\n",
       "      <td>2017-09-10</td>\n",
       "    </tr>\n",
       "    <tr>\n",
       "      <th>718</th>\n",
       "      <td>MAC Field Scanner Season 4 Range 5 Column 4</td>\n",
       "      <td>Sorghum bicolor</td>\n",
       "      <td>PI525049</td>\n",
       "      <td>MAC Season 4: BAP water-deficit stress Aug 15-30</td>\n",
       "      <td>Whole above ground biomass at harvest</td>\n",
       "      <td>26000</td>\n",
       "      <td>0</td>\n",
       "      <td>Newcomb, Maria</td>\n",
       "      <td>Season 4</td>\n",
       "      <td>manual</td>\n",
       "      <td>5</td>\n",
       "      <td>4</td>\n",
       "      <td>2017-09-10</td>\n",
       "    </tr>\n",
       "  </tbody>\n",
       "</table>\n",
       "</div>"
      ],
      "text/plain": [
       "                                             plot   scientificname  genotype  \\\n",
       "714  MAC Field Scanner Season 4 Range 39 Column 3  Sorghum bicolor  PI651496   \n",
       "715  MAC Field Scanner Season 4 Range 40 Column 3  Sorghum bicolor  PI330858   \n",
       "716   MAC Field Scanner Season 4 Range 4 Column 3  Sorghum bicolor  PI646251   \n",
       "717  MAC Field Scanner Season 4 Range 13 Column 4  Sorghum bicolor  PI569244   \n",
       "718   MAC Field Scanner Season 4 Range 5 Column 4  Sorghum bicolor  PI525049   \n",
       "\n",
       "                                            treatment  \\\n",
       "714  MAC Season 4: BAP water-deficit stress Aug 15-30   \n",
       "715  MAC Season 4: BAP water-deficit stress Aug 15-30   \n",
       "716  MAC Season 4: BAP water-deficit stress Aug 15-30   \n",
       "717  MAC Season 4: BAP water-deficit stress Aug 15-30   \n",
       "718  MAC Season 4: BAP water-deficit stress Aug 15-30   \n",
       "\n",
       "                                    method  aboveground_dry_biomass  checked  \\\n",
       "714  Whole above ground biomass at harvest                    17910        0   \n",
       "715  Whole above ground biomass at harvest                    26110        0   \n",
       "716  Whole above ground biomass at harvest                     6660        0   \n",
       "717  Whole above ground biomass at harvest                    26630        0   \n",
       "718  Whole above ground biomass at harvest                    26000        0   \n",
       "\n",
       "             author    season method_type  range  column       date  \n",
       "714  Newcomb, Maria  Season 4      manual     39       3 2017-09-10  \n",
       "715  Newcomb, Maria  Season 4      manual     40       3 2017-09-10  \n",
       "716  Newcomb, Maria  Season 4      manual      4       3 2017-09-10  \n",
       "717  Newcomb, Maria  Season 4      manual     13       4 2017-09-10  \n",
       "718  Newcomb, Maria  Season 4      manual      5       4 2017-09-10  "
      ]
     },
     "execution_count": 32,
     "metadata": {},
     "output_type": "execute_result"
    }
   ],
   "source": [
    "adb_3 = rename_value_column(adb_2, 'mean', 'trait')\n",
    "# print(adb_3.shape)\n",
    "# adb_3.tail()"
   ]
  },
  {
   "cell_type": "code",
   "execution_count": 33,
   "metadata": {},
   "outputs": [
    {
     "name": "stdout",
     "output_type": "stream",
     "text": [
      "(719, 10)\n"
     ]
    },
    {
     "data": {
      "text/html": [
       "<div>\n",
       "<style scoped>\n",
       "    .dataframe tbody tr th:only-of-type {\n",
       "        vertical-align: middle;\n",
       "    }\n",
       "\n",
       "    .dataframe tbody tr th {\n",
       "        vertical-align: top;\n",
       "    }\n",
       "\n",
       "    .dataframe thead th {\n",
       "        text-align: right;\n",
       "    }\n",
       "</style>\n",
       "<table border=\"1\" class=\"dataframe\">\n",
       "  <thead>\n",
       "    <tr style=\"text-align: right;\">\n",
       "      <th></th>\n",
       "      <th>plot</th>\n",
       "      <th>scientificname</th>\n",
       "      <th>genotype</th>\n",
       "      <th>treatment</th>\n",
       "      <th>method</th>\n",
       "      <th>aboveground_dry_biomass</th>\n",
       "      <th>method_type</th>\n",
       "      <th>range</th>\n",
       "      <th>column</th>\n",
       "      <th>date</th>\n",
       "    </tr>\n",
       "  </thead>\n",
       "  <tbody>\n",
       "    <tr>\n",
       "      <th>0</th>\n",
       "      <td>MAC Field Scanner Season 4 Range 50 Column 4</td>\n",
       "      <td>Sorghum bicolor</td>\n",
       "      <td>PI535794</td>\n",
       "      <td>MAC Season 4: BAP water-deficit stress Aug 15-30</td>\n",
       "      <td>Whole above ground biomass at harvest</td>\n",
       "      <td>11470</td>\n",
       "      <td>manual</td>\n",
       "      <td>50</td>\n",
       "      <td>4</td>\n",
       "      <td>2017-09-10</td>\n",
       "    </tr>\n",
       "    <tr>\n",
       "      <th>1</th>\n",
       "      <td>MAC Field Scanner Season 4 Range 51 Column 4</td>\n",
       "      <td>Sorghum bicolor</td>\n",
       "      <td>PI586435</td>\n",
       "      <td>MAC Season 4: BAP water-deficit stress Aug 15-30</td>\n",
       "      <td>Whole above ground biomass at harvest</td>\n",
       "      <td>22790</td>\n",
       "      <td>manual</td>\n",
       "      <td>51</td>\n",
       "      <td>4</td>\n",
       "      <td>2017-09-10</td>\n",
       "    </tr>\n",
       "    <tr>\n",
       "      <th>2</th>\n",
       "      <td>MAC Field Scanner Season 4 Range 10 Column 5</td>\n",
       "      <td>Sorghum bicolor</td>\n",
       "      <td>PI641821</td>\n",
       "      <td>MAC Season 4: BAP water-deficit stress Aug 1-14</td>\n",
       "      <td>Whole above ground biomass at harvest</td>\n",
       "      <td>43730</td>\n",
       "      <td>manual</td>\n",
       "      <td>10</td>\n",
       "      <td>5</td>\n",
       "      <td>2017-09-11</td>\n",
       "    </tr>\n",
       "  </tbody>\n",
       "</table>\n",
       "</div>"
      ],
      "text/plain": [
       "                                           plot   scientificname  genotype  \\\n",
       "0  MAC Field Scanner Season 4 Range 50 Column 4  Sorghum bicolor  PI535794   \n",
       "1  MAC Field Scanner Season 4 Range 51 Column 4  Sorghum bicolor  PI586435   \n",
       "2  MAC Field Scanner Season 4 Range 10 Column 5  Sorghum bicolor  PI641821   \n",
       "\n",
       "                                          treatment  \\\n",
       "0  MAC Season 4: BAP water-deficit stress Aug 15-30   \n",
       "1  MAC Season 4: BAP water-deficit stress Aug 15-30   \n",
       "2   MAC Season 4: BAP water-deficit stress Aug 1-14   \n",
       "\n",
       "                                  method  aboveground_dry_biomass method_type  \\\n",
       "0  Whole above ground biomass at harvest                    11470      manual   \n",
       "1  Whole above ground biomass at harvest                    22790      manual   \n",
       "2  Whole above ground biomass at harvest                    43730      manual   \n",
       "\n",
       "   range  column       date  \n",
       "0     50       4 2017-09-10  \n",
       "1     51       4 2017-09-10  \n",
       "2     10       5 2017-09-11  "
      ]
     },
     "execution_count": 33,
     "metadata": {},
     "output_type": "execute_result"
    }
   ],
   "source": [
    "cols_to_drop = ['checked', 'author', 'season']\n",
    "\n",
    "adb_4 = adb_3.drop(labels=cols_to_drop, axis=1)\n",
    "# print(adb_4.shape)\n",
    "# adb_4.head(3)"
   ]
  },
  {
   "cell_type": "code",
   "execution_count": 34,
   "metadata": {},
   "outputs": [
    {
     "name": "stdout",
     "output_type": "stream",
     "text": [
      "(719, 11)\n"
     ]
    },
    {
     "data": {
      "text/html": [
       "<div>\n",
       "<style scoped>\n",
       "    .dataframe tbody tr th:only-of-type {\n",
       "        vertical-align: middle;\n",
       "    }\n",
       "\n",
       "    .dataframe tbody tr th {\n",
       "        vertical-align: top;\n",
       "    }\n",
       "\n",
       "    .dataframe thead th {\n",
       "        text-align: right;\n",
       "    }\n",
       "</style>\n",
       "<table border=\"1\" class=\"dataframe\">\n",
       "  <thead>\n",
       "    <tr style=\"text-align: right;\">\n",
       "      <th></th>\n",
       "      <th>plot</th>\n",
       "      <th>scientificname</th>\n",
       "      <th>genotype</th>\n",
       "      <th>treatment</th>\n",
       "      <th>method</th>\n",
       "      <th>aboveground_dry_biomass</th>\n",
       "      <th>method_type</th>\n",
       "      <th>range</th>\n",
       "      <th>column</th>\n",
       "      <th>date</th>\n",
       "      <th>blocking_height</th>\n",
       "    </tr>\n",
       "  </thead>\n",
       "  <tbody>\n",
       "    <tr>\n",
       "      <th>1</th>\n",
       "      <td>MAC Field Scanner Season 4 Range 51 Column 4</td>\n",
       "      <td>Sorghum bicolor</td>\n",
       "      <td>PI586435</td>\n",
       "      <td>MAC Season 4: BAP water-deficit stress Aug 15-30</td>\n",
       "      <td>Whole above ground biomass at harvest</td>\n",
       "      <td>22790</td>\n",
       "      <td>manual</td>\n",
       "      <td>51</td>\n",
       "      <td>4</td>\n",
       "      <td>2017-09-10</td>\n",
       "      <td>medium</td>\n",
       "    </tr>\n",
       "    <tr>\n",
       "      <th>172</th>\n",
       "      <td>MAC Field Scanner Season 4 Range 9 Column 2</td>\n",
       "      <td>Sorghum bicolor</td>\n",
       "      <td>PI569416</td>\n",
       "      <td>MAC Season 4: BAP water-deficit stress Aug 15-30</td>\n",
       "      <td>Whole above ground biomass at harvest</td>\n",
       "      <td>9052</td>\n",
       "      <td>manual</td>\n",
       "      <td>9</td>\n",
       "      <td>2</td>\n",
       "      <td>2017-09-10</td>\n",
       "      <td>tall</td>\n",
       "    </tr>\n",
       "    <tr>\n",
       "      <th>166</th>\n",
       "      <td>MAC Field Scanner Season 4 Range 18 Column 15</td>\n",
       "      <td>Sorghum bicolor</td>\n",
       "      <td>PI218112</td>\n",
       "      <td>MAC Season 4: BAP water-deficit stress Aug 1-14</td>\n",
       "      <td>Whole above ground biomass at harvest</td>\n",
       "      <td>14890</td>\n",
       "      <td>manual</td>\n",
       "      <td>18</td>\n",
       "      <td>15</td>\n",
       "      <td>2017-09-15</td>\n",
       "      <td>medium</td>\n",
       "    </tr>\n",
       "  </tbody>\n",
       "</table>\n",
       "</div>"
      ],
      "text/plain": [
       "                                              plot   scientificname  genotype  \\\n",
       "1     MAC Field Scanner Season 4 Range 51 Column 4  Sorghum bicolor  PI586435   \n",
       "172    MAC Field Scanner Season 4 Range 9 Column 2  Sorghum bicolor  PI569416   \n",
       "166  MAC Field Scanner Season 4 Range 18 Column 15  Sorghum bicolor  PI218112   \n",
       "\n",
       "                                            treatment  \\\n",
       "1    MAC Season 4: BAP water-deficit stress Aug 15-30   \n",
       "172  MAC Season 4: BAP water-deficit stress Aug 15-30   \n",
       "166   MAC Season 4: BAP water-deficit stress Aug 1-14   \n",
       "\n",
       "                                    method  aboveground_dry_biomass  \\\n",
       "1    Whole above ground biomass at harvest                    22790   \n",
       "172  Whole above ground biomass at harvest                     9052   \n",
       "166  Whole above ground biomass at harvest                    14890   \n",
       "\n",
       "    method_type  range  column       date blocking_height  \n",
       "1        manual     51       4 2017-09-10          medium  \n",
       "172      manual      9       2 2017-09-10            tall  \n",
       "166      manual     18      15 2017-09-15          medium  "
      ]
     },
     "execution_count": 34,
     "metadata": {},
     "output_type": "execute_result"
    }
   ],
   "source": [
    "adb_5 = add_season_4_blocking_height(adb_4, 'range')\n",
    "# print(adb_5.shape)\n",
    "# adb_5.sample(n=3)"
   ]
  },
  {
   "cell_type": "markdown",
   "metadata": {},
   "source": [
    "##### Add units (kg/ha) column to aboveground dry biomass dataset"
   ]
  },
  {
   "cell_type": "code",
   "execution_count": 35,
   "metadata": {},
   "outputs": [
    {
     "name": "stdout",
     "output_type": "stream",
     "text": [
      "(719, 12)\n"
     ]
    },
    {
     "data": {
      "text/html": [
       "<div>\n",
       "<style scoped>\n",
       "    .dataframe tbody tr th:only-of-type {\n",
       "        vertical-align: middle;\n",
       "    }\n",
       "\n",
       "    .dataframe tbody tr th {\n",
       "        vertical-align: top;\n",
       "    }\n",
       "\n",
       "    .dataframe thead th {\n",
       "        text-align: right;\n",
       "    }\n",
       "</style>\n",
       "<table border=\"1\" class=\"dataframe\">\n",
       "  <thead>\n",
       "    <tr style=\"text-align: right;\">\n",
       "      <th></th>\n",
       "      <th>plot</th>\n",
       "      <th>scientificname</th>\n",
       "      <th>genotype</th>\n",
       "      <th>treatment</th>\n",
       "      <th>method</th>\n",
       "      <th>aboveground_dry_biomass</th>\n",
       "      <th>method_type</th>\n",
       "      <th>range</th>\n",
       "      <th>column</th>\n",
       "      <th>date</th>\n",
       "      <th>blocking_height</th>\n",
       "      <th>units</th>\n",
       "    </tr>\n",
       "  </thead>\n",
       "  <tbody>\n",
       "    <tr>\n",
       "      <th>716</th>\n",
       "      <td>MAC Field Scanner Season 4 Range 4 Column 3</td>\n",
       "      <td>Sorghum bicolor</td>\n",
       "      <td>PI646251</td>\n",
       "      <td>MAC Season 4: BAP water-deficit stress Aug 15-30</td>\n",
       "      <td>Whole above ground biomass at harvest</td>\n",
       "      <td>6660</td>\n",
       "      <td>manual</td>\n",
       "      <td>4</td>\n",
       "      <td>3</td>\n",
       "      <td>2017-09-10</td>\n",
       "      <td>tall</td>\n",
       "      <td>kg/ha</td>\n",
       "    </tr>\n",
       "    <tr>\n",
       "      <th>717</th>\n",
       "      <td>MAC Field Scanner Season 4 Range 13 Column 4</td>\n",
       "      <td>Sorghum bicolor</td>\n",
       "      <td>PI569244</td>\n",
       "      <td>MAC Season 4: BAP water-deficit stress Aug 15-30</td>\n",
       "      <td>Whole above ground biomass at harvest</td>\n",
       "      <td>26630</td>\n",
       "      <td>manual</td>\n",
       "      <td>13</td>\n",
       "      <td>4</td>\n",
       "      <td>2017-09-10</td>\n",
       "      <td>tall</td>\n",
       "      <td>kg/ha</td>\n",
       "    </tr>\n",
       "    <tr>\n",
       "      <th>718</th>\n",
       "      <td>MAC Field Scanner Season 4 Range 5 Column 4</td>\n",
       "      <td>Sorghum bicolor</td>\n",
       "      <td>PI525049</td>\n",
       "      <td>MAC Season 4: BAP water-deficit stress Aug 15-30</td>\n",
       "      <td>Whole above ground biomass at harvest</td>\n",
       "      <td>26000</td>\n",
       "      <td>manual</td>\n",
       "      <td>5</td>\n",
       "      <td>4</td>\n",
       "      <td>2017-09-10</td>\n",
       "      <td>tall</td>\n",
       "      <td>kg/ha</td>\n",
       "    </tr>\n",
       "  </tbody>\n",
       "</table>\n",
       "</div>"
      ],
      "text/plain": [
       "                                             plot   scientificname  genotype  \\\n",
       "716   MAC Field Scanner Season 4 Range 4 Column 3  Sorghum bicolor  PI646251   \n",
       "717  MAC Field Scanner Season 4 Range 13 Column 4  Sorghum bicolor  PI569244   \n",
       "718   MAC Field Scanner Season 4 Range 5 Column 4  Sorghum bicolor  PI525049   \n",
       "\n",
       "                                            treatment  \\\n",
       "716  MAC Season 4: BAP water-deficit stress Aug 15-30   \n",
       "717  MAC Season 4: BAP water-deficit stress Aug 15-30   \n",
       "718  MAC Season 4: BAP water-deficit stress Aug 15-30   \n",
       "\n",
       "                                    method  aboveground_dry_biomass  \\\n",
       "716  Whole above ground biomass at harvest                     6660   \n",
       "717  Whole above ground biomass at harvest                    26630   \n",
       "718  Whole above ground biomass at harvest                    26000   \n",
       "\n",
       "    method_type  range  column       date blocking_height  units  \n",
       "716      manual      4       3 2017-09-10            tall  kg/ha  \n",
       "717      manual     13       4 2017-09-10            tall  kg/ha  \n",
       "718      manual      5       4 2017-09-10            tall  kg/ha  "
      ]
     },
     "execution_count": 35,
     "metadata": {},
     "output_type": "execute_result"
    }
   ],
   "source": [
    "adb_6 = adb_5.copy()\n",
    "adb_6['units'] = 'kg/ha'\n",
    "\n",
    "# print(adb_6.shape)\n",
    "# adb_6.tail(3)"
   ]
  },
  {
   "cell_type": "code",
   "execution_count": 36,
   "metadata": {},
   "outputs": [
    {
     "name": "stdout",
     "output_type": "stream",
     "text": [
      "(719, 12)\n"
     ]
    },
    {
     "data": {
      "text/html": [
       "<div>\n",
       "<style scoped>\n",
       "    .dataframe tbody tr th:only-of-type {\n",
       "        vertical-align: middle;\n",
       "    }\n",
       "\n",
       "    .dataframe tbody tr th {\n",
       "        vertical-align: top;\n",
       "    }\n",
       "\n",
       "    .dataframe thead th {\n",
       "        text-align: right;\n",
       "    }\n",
       "</style>\n",
       "<table border=\"1\" class=\"dataframe\">\n",
       "  <thead>\n",
       "    <tr style=\"text-align: right;\">\n",
       "      <th></th>\n",
       "      <th>date</th>\n",
       "      <th>plot</th>\n",
       "      <th>range</th>\n",
       "      <th>column</th>\n",
       "      <th>scientificname</th>\n",
       "      <th>genotype</th>\n",
       "      <th>treatment</th>\n",
       "      <th>blocking_height</th>\n",
       "      <th>method</th>\n",
       "      <th>aboveground_dry_biomass</th>\n",
       "      <th>units</th>\n",
       "      <th>method_type</th>\n",
       "    </tr>\n",
       "  </thead>\n",
       "  <tbody>\n",
       "    <tr>\n",
       "      <th>0</th>\n",
       "      <td>2017-09-10</td>\n",
       "      <td>MAC Field Scanner Season 4 Range 50 Column 4</td>\n",
       "      <td>50</td>\n",
       "      <td>4</td>\n",
       "      <td>Sorghum bicolor</td>\n",
       "      <td>PI535794</td>\n",
       "      <td>MAC Season 4: BAP water-deficit stress Aug 15-30</td>\n",
       "      <td>short</td>\n",
       "      <td>Whole above ground biomass at harvest</td>\n",
       "      <td>11470</td>\n",
       "      <td>kg/ha</td>\n",
       "      <td>manual</td>\n",
       "    </tr>\n",
       "    <tr>\n",
       "      <th>1</th>\n",
       "      <td>2017-09-10</td>\n",
       "      <td>MAC Field Scanner Season 4 Range 51 Column 4</td>\n",
       "      <td>51</td>\n",
       "      <td>4</td>\n",
       "      <td>Sorghum bicolor</td>\n",
       "      <td>PI586435</td>\n",
       "      <td>MAC Season 4: BAP water-deficit stress Aug 15-30</td>\n",
       "      <td>medium</td>\n",
       "      <td>Whole above ground biomass at harvest</td>\n",
       "      <td>22790</td>\n",
       "      <td>kg/ha</td>\n",
       "      <td>manual</td>\n",
       "    </tr>\n",
       "    <tr>\n",
       "      <th>2</th>\n",
       "      <td>2017-09-11</td>\n",
       "      <td>MAC Field Scanner Season 4 Range 10 Column 5</td>\n",
       "      <td>10</td>\n",
       "      <td>5</td>\n",
       "      <td>Sorghum bicolor</td>\n",
       "      <td>PI641821</td>\n",
       "      <td>MAC Season 4: BAP water-deficit stress Aug 1-14</td>\n",
       "      <td>medium</td>\n",
       "      <td>Whole above ground biomass at harvest</td>\n",
       "      <td>43730</td>\n",
       "      <td>kg/ha</td>\n",
       "      <td>manual</td>\n",
       "    </tr>\n",
       "  </tbody>\n",
       "</table>\n",
       "</div>"
      ],
      "text/plain": [
       "        date                                          plot  range  column  \\\n",
       "0 2017-09-10  MAC Field Scanner Season 4 Range 50 Column 4     50       4   \n",
       "1 2017-09-10  MAC Field Scanner Season 4 Range 51 Column 4     51       4   \n",
       "2 2017-09-11  MAC Field Scanner Season 4 Range 10 Column 5     10       5   \n",
       "\n",
       "    scientificname  genotype  \\\n",
       "0  Sorghum bicolor  PI535794   \n",
       "1  Sorghum bicolor  PI586435   \n",
       "2  Sorghum bicolor  PI641821   \n",
       "\n",
       "                                          treatment blocking_height  \\\n",
       "0  MAC Season 4: BAP water-deficit stress Aug 15-30           short   \n",
       "1  MAC Season 4: BAP water-deficit stress Aug 15-30          medium   \n",
       "2   MAC Season 4: BAP water-deficit stress Aug 1-14          medium   \n",
       "\n",
       "                                  method  aboveground_dry_biomass  units  \\\n",
       "0  Whole above ground biomass at harvest                    11470  kg/ha   \n",
       "1  Whole above ground biomass at harvest                    22790  kg/ha   \n",
       "2  Whole above ground biomass at harvest                    43730  kg/ha   \n",
       "\n",
       "  method_type  \n",
       "0      manual  \n",
       "1      manual  \n",
       "2      manual  "
      ]
     },
     "execution_count": 36,
     "metadata": {},
     "output_type": "execute_result"
    }
   ],
   "source": [
    "new_col_order = ['date', 'plot', 'range', 'column', 'scientificname', 'genotype', 'treatment', 'blocking_height', \n",
    "                 'method', 'aboveground_dry_biomass', 'units', 'method_type']\n",
    "\n",
    "adb_7 = reorder_columns(adb_6, new_col_order)\n",
    "# print(adb_7.shape)\n",
    "# adb_7.head(3)"
   ]
  },
  {
   "cell_type": "markdown",
   "metadata": {},
   "source": [
    "#### B. Canopy Height - Sensor"
   ]
  },
  {
   "cell_type": "code",
   "execution_count": 39,
   "metadata": {},
   "outputs": [],
   "source": [
    "canopy_height_sensor_s4_url = 'https://de.cyverse.org/dl/d/CD0093FE-7576-4BDC-B309-51C592A528DF/season_4_canopy_height_sensor.csv'\n",
    "canopy_height_sensor_s4_input_filename = 'canopy_height_sensor_s4.csv'"
   ]
  },
  {
   "cell_type": "code",
   "execution_count": 40,
   "metadata": {},
   "outputs": [],
   "source": [
    "download_csv(canopy_height_sensor_s4_url, folder_name=folder_name, file_name=canopy_height_sensor_s4_input_filename)"
   ]
  },
  {
   "cell_type": "code",
   "execution_count": 41,
   "metadata": {},
   "outputs": [
    {
     "name": "stdout",
     "output_type": "stream",
     "text": [
      "(40173, 12)\n"
     ]
    },
    {
     "data": {
      "text/html": [
       "<div>\n",
       "<style scoped>\n",
       "    .dataframe tbody tr th:only-of-type {\n",
       "        vertical-align: middle;\n",
       "    }\n",
       "\n",
       "    .dataframe tbody tr th {\n",
       "        vertical-align: top;\n",
       "    }\n",
       "\n",
       "    .dataframe thead th {\n",
       "        text-align: right;\n",
       "    }\n",
       "</style>\n",
       "<table border=\"1\" class=\"dataframe\">\n",
       "  <thead>\n",
       "    <tr style=\"text-align: right;\">\n",
       "      <th></th>\n",
       "      <th>plot</th>\n",
       "      <th>scientificname</th>\n",
       "      <th>genotype</th>\n",
       "      <th>treatment</th>\n",
       "      <th>date</th>\n",
       "      <th>trait</th>\n",
       "      <th>method</th>\n",
       "      <th>mean</th>\n",
       "      <th>checked</th>\n",
       "      <th>author</th>\n",
       "      <th>season</th>\n",
       "      <th>method_type</th>\n",
       "    </tr>\n",
       "  </thead>\n",
       "  <tbody>\n",
       "    <tr>\n",
       "      <th>0</th>\n",
       "      <td>MAC Field Scanner Season 4 Range 11 Column 4</td>\n",
       "      <td>Sorghum bicolor</td>\n",
       "      <td>PI180348</td>\n",
       "      <td>MAC Season 4: BAP water-deficit stress Aug 15-30</td>\n",
       "      <td>2017-05-01</td>\n",
       "      <td>canopy_height</td>\n",
       "      <td>3D scanner to 98th quantile height</td>\n",
       "      <td>12</td>\n",
       "      <td>0</td>\n",
       "      <td>Zongyang, Li</td>\n",
       "      <td>Season 4</td>\n",
       "      <td>sensor</td>\n",
       "    </tr>\n",
       "    <tr>\n",
       "      <th>1</th>\n",
       "      <td>MAC Field Scanner Season 4 Range 11 Column 4</td>\n",
       "      <td>Sorghum bicolor</td>\n",
       "      <td>PI180348</td>\n",
       "      <td>MAC Season 4: BAP water-deficit stress Aug 15-30</td>\n",
       "      <td>2017-05-03</td>\n",
       "      <td>canopy_height</td>\n",
       "      <td>3D scanner to 98th quantile height</td>\n",
       "      <td>12</td>\n",
       "      <td>0</td>\n",
       "      <td>Zongyang, Li</td>\n",
       "      <td>Season 4</td>\n",
       "      <td>sensor</td>\n",
       "    </tr>\n",
       "    <tr>\n",
       "      <th>2</th>\n",
       "      <td>MAC Field Scanner Season 4 Range 11 Column 4</td>\n",
       "      <td>Sorghum bicolor</td>\n",
       "      <td>PI180348</td>\n",
       "      <td>MAC Season 4: BAP water-deficit stress Aug 15-30</td>\n",
       "      <td>2017-05-04</td>\n",
       "      <td>canopy_height</td>\n",
       "      <td>3D scanner to 98th quantile height</td>\n",
       "      <td>11</td>\n",
       "      <td>0</td>\n",
       "      <td>Zongyang, Li</td>\n",
       "      <td>Season 4</td>\n",
       "      <td>sensor</td>\n",
       "    </tr>\n",
       "    <tr>\n",
       "      <th>3</th>\n",
       "      <td>MAC Field Scanner Season 4 Range 11 Column 4</td>\n",
       "      <td>Sorghum bicolor</td>\n",
       "      <td>PI180348</td>\n",
       "      <td>MAC Season 4: BAP water-deficit stress Aug 15-30</td>\n",
       "      <td>2017-05-05</td>\n",
       "      <td>canopy_height</td>\n",
       "      <td>3D scanner to 98th quantile height</td>\n",
       "      <td>12</td>\n",
       "      <td>0</td>\n",
       "      <td>Zongyang, Li</td>\n",
       "      <td>Season 4</td>\n",
       "      <td>sensor</td>\n",
       "    </tr>\n",
       "    <tr>\n",
       "      <th>4</th>\n",
       "      <td>MAC Field Scanner Season 4 Range 11 Column 4</td>\n",
       "      <td>Sorghum bicolor</td>\n",
       "      <td>PI180348</td>\n",
       "      <td>MAC Season 4: BAP water-deficit stress Aug 15-30</td>\n",
       "      <td>2017-05-06</td>\n",
       "      <td>canopy_height</td>\n",
       "      <td>3D scanner to 98th quantile height</td>\n",
       "      <td>12</td>\n",
       "      <td>0</td>\n",
       "      <td>Zongyang, Li</td>\n",
       "      <td>Season 4</td>\n",
       "      <td>sensor</td>\n",
       "    </tr>\n",
       "  </tbody>\n",
       "</table>\n",
       "</div>"
      ],
      "text/plain": [
       "                                           plot   scientificname  genotype  \\\n",
       "0  MAC Field Scanner Season 4 Range 11 Column 4  Sorghum bicolor  PI180348   \n",
       "1  MAC Field Scanner Season 4 Range 11 Column 4  Sorghum bicolor  PI180348   \n",
       "2  MAC Field Scanner Season 4 Range 11 Column 4  Sorghum bicolor  PI180348   \n",
       "3  MAC Field Scanner Season 4 Range 11 Column 4  Sorghum bicolor  PI180348   \n",
       "4  MAC Field Scanner Season 4 Range 11 Column 4  Sorghum bicolor  PI180348   \n",
       "\n",
       "                                          treatment        date  \\\n",
       "0  MAC Season 4: BAP water-deficit stress Aug 15-30  2017-05-01   \n",
       "1  MAC Season 4: BAP water-deficit stress Aug 15-30  2017-05-03   \n",
       "2  MAC Season 4: BAP water-deficit stress Aug 15-30  2017-05-04   \n",
       "3  MAC Season 4: BAP water-deficit stress Aug 15-30  2017-05-05   \n",
       "4  MAC Season 4: BAP water-deficit stress Aug 15-30  2017-05-06   \n",
       "\n",
       "           trait                              method  mean  checked  \\\n",
       "0  canopy_height  3D scanner to 98th quantile height    12        0   \n",
       "1  canopy_height  3D scanner to 98th quantile height    12        0   \n",
       "2  canopy_height  3D scanner to 98th quantile height    11        0   \n",
       "3  canopy_height  3D scanner to 98th quantile height    12        0   \n",
       "4  canopy_height  3D scanner to 98th quantile height    12        0   \n",
       "\n",
       "         author    season method_type  \n",
       "0  Zongyang, Li  Season 4      sensor  \n",
       "1  Zongyang, Li  Season 4      sensor  \n",
       "2  Zongyang, Li  Season 4      sensor  \n",
       "3  Zongyang, Li  Season 4      sensor  \n",
       "4  Zongyang, Li  Season 4      sensor  "
      ]
     },
     "execution_count": 41,
     "metadata": {},
     "output_type": "execute_result"
    }
   ],
   "source": [
    "ch_0 = read_in_csv(folder_name=folder_name, file_name=canopy_height_sensor_s4_input_filename)\n",
    "# print(ch_0.shape)\n",
    "# ch_0.head()"
   ]
  },
  {
   "cell_type": "code",
   "execution_count": 42,
   "metadata": {},
   "outputs": [],
   "source": [
    "# check_unique_values(ch_0)"
   ]
  },
  {
   "cell_type": "code",
   "execution_count": 43,
   "metadata": {},
   "outputs": [
    {
     "name": "stdout",
     "output_type": "stream",
     "text": [
      "Sum of null values:\n",
      "plot              0\n",
      "scientificname    0\n",
      "genotype          0\n",
      "treatment         0\n",
      "date              0\n",
      "trait             0\n",
      "method            0\n",
      "mean              0\n",
      "checked           0\n",
      "author            0\n",
      "season            0\n",
      "method_type       0\n",
      "dtype: int64\n",
      "-----\n",
      "Value counts for duplicates:\n",
      "False    39511\n",
      "True       662\n",
      "dtype: int64\n"
     ]
    }
   ],
   "source": [
    "# check_for_nulls_duplicates(ch_0)"
   ]
  },
  {
   "cell_type": "markdown",
   "metadata": {},
   "source": [
    "#### Drop duplicates"
   ]
  },
  {
   "cell_type": "code",
   "execution_count": 44,
   "metadata": {},
   "outputs": [
    {
     "name": "stdout",
     "output_type": "stream",
     "text": [
      "(39511, 12)\n",
      "Sum of null values:\n",
      "plot              0\n",
      "scientificname    0\n",
      "genotype          0\n",
      "treatment         0\n",
      "date              0\n",
      "trait             0\n",
      "method            0\n",
      "mean              0\n",
      "checked           0\n",
      "author            0\n",
      "season            0\n",
      "method_type       0\n",
      "dtype: int64\n",
      "-----\n",
      "Value counts for duplicates:\n",
      "False    39511\n",
      "dtype: int64\n"
     ]
    }
   ],
   "source": [
    "ch_1 = ch_0.drop_duplicates(ignore_index=True)\n",
    "# print(ch_1.shape)\n",
    "# check_for_nulls_duplicates(ch_1)"
   ]
  },
  {
   "cell_type": "code",
   "execution_count": 72,
   "metadata": {},
   "outputs": [
    {
     "data": {
      "text/plain": [
       "'No subplot designations'"
      ]
     },
     "execution_count": 72,
     "metadata": {},
     "output_type": "execute_result"
    }
   ],
   "source": [
    "check_for_subplots(ch_1, 'plot')"
   ]
  },
  {
   "cell_type": "code",
   "execution_count": 46,
   "metadata": {},
   "outputs": [
    {
     "name": "stdout",
     "output_type": "stream",
     "text": [
      "(39511, 14)\n"
     ]
    },
    {
     "data": {
      "text/html": [
       "<div>\n",
       "<style scoped>\n",
       "    .dataframe tbody tr th:only-of-type {\n",
       "        vertical-align: middle;\n",
       "    }\n",
       "\n",
       "    .dataframe tbody tr th {\n",
       "        vertical-align: top;\n",
       "    }\n",
       "\n",
       "    .dataframe thead th {\n",
       "        text-align: right;\n",
       "    }\n",
       "</style>\n",
       "<table border=\"1\" class=\"dataframe\">\n",
       "  <thead>\n",
       "    <tr style=\"text-align: right;\">\n",
       "      <th></th>\n",
       "      <th>plot</th>\n",
       "      <th>scientificname</th>\n",
       "      <th>genotype</th>\n",
       "      <th>treatment</th>\n",
       "      <th>date</th>\n",
       "      <th>trait</th>\n",
       "      <th>method</th>\n",
       "      <th>mean</th>\n",
       "      <th>checked</th>\n",
       "      <th>author</th>\n",
       "      <th>season</th>\n",
       "      <th>method_type</th>\n",
       "      <th>range</th>\n",
       "      <th>column</th>\n",
       "    </tr>\n",
       "  </thead>\n",
       "  <tbody>\n",
       "    <tr>\n",
       "      <th>13462</th>\n",
       "      <td>MAC Field Scanner Season 4 Range 52 Column 14</td>\n",
       "      <td>Sorghum bicolor</td>\n",
       "      <td>PI329618</td>\n",
       "      <td>MAC Season 4: BAP water-deficit stress Aug 1-14</td>\n",
       "      <td>2017-05-15</td>\n",
       "      <td>canopy_height</td>\n",
       "      <td>3D scanner to 98th quantile height</td>\n",
       "      <td>18</td>\n",
       "      <td>0</td>\n",
       "      <td>Zongyang, Li</td>\n",
       "      <td>Season 4</td>\n",
       "      <td>sensor</td>\n",
       "      <td>52</td>\n",
       "      <td>14</td>\n",
       "    </tr>\n",
       "    <tr>\n",
       "      <th>19145</th>\n",
       "      <td>MAC Field Scanner Season 4 Range 16 Column 4</td>\n",
       "      <td>Sorghum bicolor</td>\n",
       "      <td>PI562970</td>\n",
       "      <td>MAC Season 4: BAP water-deficit stress Aug 15-30</td>\n",
       "      <td>2017-05-05</td>\n",
       "      <td>canopy_height</td>\n",
       "      <td>3D scanner to 98th quantile height</td>\n",
       "      <td>11</td>\n",
       "      <td>0</td>\n",
       "      <td>Zongyang, Li</td>\n",
       "      <td>Season 4</td>\n",
       "      <td>sensor</td>\n",
       "      <td>16</td>\n",
       "      <td>4</td>\n",
       "    </tr>\n",
       "    <tr>\n",
       "      <th>33961</th>\n",
       "      <td>MAC Field Scanner Season 4 Range 24 Column 14</td>\n",
       "      <td>Sorghum bicolor</td>\n",
       "      <td>PI157804</td>\n",
       "      <td>MAC Season 4: BAP water-deficit stress Aug 1-14</td>\n",
       "      <td>2017-06-20</td>\n",
       "      <td>canopy_height</td>\n",
       "      <td>3D scanner to 98th quantile height</td>\n",
       "      <td>254</td>\n",
       "      <td>0</td>\n",
       "      <td>Zongyang, Li</td>\n",
       "      <td>Season 4</td>\n",
       "      <td>sensor</td>\n",
       "      <td>24</td>\n",
       "      <td>14</td>\n",
       "    </tr>\n",
       "  </tbody>\n",
       "</table>\n",
       "</div>"
      ],
      "text/plain": [
       "                                                plot   scientificname  \\\n",
       "13462  MAC Field Scanner Season 4 Range 52 Column 14  Sorghum bicolor   \n",
       "19145   MAC Field Scanner Season 4 Range 16 Column 4  Sorghum bicolor   \n",
       "33961  MAC Field Scanner Season 4 Range 24 Column 14  Sorghum bicolor   \n",
       "\n",
       "       genotype                                         treatment        date  \\\n",
       "13462  PI329618   MAC Season 4: BAP water-deficit stress Aug 1-14  2017-05-15   \n",
       "19145  PI562970  MAC Season 4: BAP water-deficit stress Aug 15-30  2017-05-05   \n",
       "33961  PI157804   MAC Season 4: BAP water-deficit stress Aug 1-14  2017-06-20   \n",
       "\n",
       "               trait                              method  mean  checked  \\\n",
       "13462  canopy_height  3D scanner to 98th quantile height    18        0   \n",
       "19145  canopy_height  3D scanner to 98th quantile height    11        0   \n",
       "33961  canopy_height  3D scanner to 98th quantile height   254        0   \n",
       "\n",
       "             author    season method_type  range  column  \n",
       "13462  Zongyang, Li  Season 4      sensor     52      14  \n",
       "19145  Zongyang, Li  Season 4      sensor     16       4  \n",
       "33961  Zongyang, Li  Season 4      sensor     24      14  "
      ]
     },
     "execution_count": 46,
     "metadata": {},
     "output_type": "execute_result"
    }
   ],
   "source": [
    "ch_2 = extract_range_column_values(ch_1, 'plot')\n",
    "# print(ch_2.shape)\n",
    "# ch_2.sample(n=3)"
   ]
  },
  {
   "cell_type": "code",
   "execution_count": 47,
   "metadata": {},
   "outputs": [
    {
     "name": "stdout",
     "output_type": "stream",
     "text": [
      "(39511, 14)\n"
     ]
    }
   ],
   "source": [
    "ch_3 = convert_datetime_column(ch_2, 'date')\n",
    "# print(ch_3.shape)\n",
    "# ch_3.dtypes"
   ]
  },
  {
   "cell_type": "code",
   "execution_count": 48,
   "metadata": {},
   "outputs": [],
   "source": [
    "ch_4 = rename_value_column(ch_3, 'mean', 'trait')\n",
    "# print(ch_4.shape)\n",
    "# ch_4.tail(3)"
   ]
  },
  {
   "cell_type": "code",
   "execution_count": 49,
   "metadata": {},
   "outputs": [],
   "source": [
    "ch_5 = add_season_4_blocking_height(ch_4, 'range')\n",
    "# ch_5.sample(n=3)"
   ]
  },
  {
   "cell_type": "code",
   "execution_count": 50,
   "metadata": {},
   "outputs": [],
   "source": [
    "ch_6 = ch_5.drop(labels=['checked', 'author', 'season'], axis=1)\n",
    "# print(ch_6.shape)"
   ]
  },
  {
   "cell_type": "markdown",
   "metadata": {},
   "source": [
    "#### Add units column\n",
    "- cm"
   ]
  },
  {
   "cell_type": "code",
   "execution_count": 51,
   "metadata": {},
   "outputs": [
    {
     "name": "stdout",
     "output_type": "stream",
     "text": [
      "(39511, 12)\n"
     ]
    },
    {
     "data": {
      "text/html": [
       "<div>\n",
       "<style scoped>\n",
       "    .dataframe tbody tr th:only-of-type {\n",
       "        vertical-align: middle;\n",
       "    }\n",
       "\n",
       "    .dataframe tbody tr th {\n",
       "        vertical-align: top;\n",
       "    }\n",
       "\n",
       "    .dataframe thead th {\n",
       "        text-align: right;\n",
       "    }\n",
       "</style>\n",
       "<table border=\"1\" class=\"dataframe\">\n",
       "  <thead>\n",
       "    <tr style=\"text-align: right;\">\n",
       "      <th></th>\n",
       "      <th>plot</th>\n",
       "      <th>scientificname</th>\n",
       "      <th>genotype</th>\n",
       "      <th>treatment</th>\n",
       "      <th>method</th>\n",
       "      <th>canopy_height</th>\n",
       "      <th>method_type</th>\n",
       "      <th>range</th>\n",
       "      <th>column</th>\n",
       "      <th>date</th>\n",
       "      <th>blocking_height</th>\n",
       "      <th>units</th>\n",
       "    </tr>\n",
       "  </thead>\n",
       "  <tbody>\n",
       "    <tr>\n",
       "      <th>0</th>\n",
       "      <td>MAC Field Scanner Season 4 Range 11 Column 4</td>\n",
       "      <td>Sorghum bicolor</td>\n",
       "      <td>PI180348</td>\n",
       "      <td>MAC Season 4: BAP water-deficit stress Aug 15-30</td>\n",
       "      <td>3D scanner to 98th quantile height</td>\n",
       "      <td>12</td>\n",
       "      <td>sensor</td>\n",
       "      <td>11</td>\n",
       "      <td>4</td>\n",
       "      <td>2017-05-01</td>\n",
       "      <td>short</td>\n",
       "      <td>cm</td>\n",
       "    </tr>\n",
       "    <tr>\n",
       "      <th>1</th>\n",
       "      <td>MAC Field Scanner Season 4 Range 11 Column 4</td>\n",
       "      <td>Sorghum bicolor</td>\n",
       "      <td>PI180348</td>\n",
       "      <td>MAC Season 4: BAP water-deficit stress Aug 15-30</td>\n",
       "      <td>3D scanner to 98th quantile height</td>\n",
       "      <td>12</td>\n",
       "      <td>sensor</td>\n",
       "      <td>11</td>\n",
       "      <td>4</td>\n",
       "      <td>2017-05-03</td>\n",
       "      <td>short</td>\n",
       "      <td>cm</td>\n",
       "    </tr>\n",
       "    <tr>\n",
       "      <th>2</th>\n",
       "      <td>MAC Field Scanner Season 4 Range 11 Column 4</td>\n",
       "      <td>Sorghum bicolor</td>\n",
       "      <td>PI180348</td>\n",
       "      <td>MAC Season 4: BAP water-deficit stress Aug 15-30</td>\n",
       "      <td>3D scanner to 98th quantile height</td>\n",
       "      <td>11</td>\n",
       "      <td>sensor</td>\n",
       "      <td>11</td>\n",
       "      <td>4</td>\n",
       "      <td>2017-05-04</td>\n",
       "      <td>short</td>\n",
       "      <td>cm</td>\n",
       "    </tr>\n",
       "  </tbody>\n",
       "</table>\n",
       "</div>"
      ],
      "text/plain": [
       "                                           plot   scientificname  genotype  \\\n",
       "0  MAC Field Scanner Season 4 Range 11 Column 4  Sorghum bicolor  PI180348   \n",
       "1  MAC Field Scanner Season 4 Range 11 Column 4  Sorghum bicolor  PI180348   \n",
       "2  MAC Field Scanner Season 4 Range 11 Column 4  Sorghum bicolor  PI180348   \n",
       "\n",
       "                                          treatment  \\\n",
       "0  MAC Season 4: BAP water-deficit stress Aug 15-30   \n",
       "1  MAC Season 4: BAP water-deficit stress Aug 15-30   \n",
       "2  MAC Season 4: BAP water-deficit stress Aug 15-30   \n",
       "\n",
       "                               method  canopy_height method_type  range  \\\n",
       "0  3D scanner to 98th quantile height             12      sensor     11   \n",
       "1  3D scanner to 98th quantile height             12      sensor     11   \n",
       "2  3D scanner to 98th quantile height             11      sensor     11   \n",
       "\n",
       "   column       date blocking_height units  \n",
       "0       4 2017-05-01           short    cm  \n",
       "1       4 2017-05-03           short    cm  \n",
       "2       4 2017-05-04           short    cm  "
      ]
     },
     "execution_count": 51,
     "metadata": {},
     "output_type": "execute_result"
    }
   ],
   "source": [
    "ch_7 = ch_6.copy()\n",
    "ch_7['units'] = 'cm'\n",
    "# print(ch_7.shape)\n",
    "# ch_7.head(3)"
   ]
  },
  {
   "cell_type": "code",
   "execution_count": 52,
   "metadata": {},
   "outputs": [],
   "source": [
    "new_col_order = ['date', 'plot', 'range', 'column', 'scientificname', 'genotype', 'treatment', 'blocking_height', \n",
    "                 'method', 'canopy_height', 'units', 'method_type']\n",
    "\n",
    "ch_8 = reorder_columns(ch_7, new_col_order)\n",
    "# print(ch_8.shape)\n",
    "# ch_8.head(3)"
   ]
  },
  {
   "cell_type": "markdown",
   "metadata": {},
   "source": [
    "#### C. Canopy Height - Manual\n",
    "- using SQLite for `groupby`"
   ]
  },
  {
   "cell_type": "code",
   "execution_count": 54,
   "metadata": {},
   "outputs": [],
   "source": [
    "canopy_height_manual_s4_url = 'https://de.cyverse.org/dl/d/AE10E379-BBBA-428C-AAC6-7B27296316B7/season_4_canopy_height_manual.csv'\n",
    "canopy_height_manual_s4_input_filename = 'canopy_height_manual_s4.csv'"
   ]
  },
  {
   "cell_type": "code",
   "execution_count": 55,
   "metadata": {},
   "outputs": [],
   "source": [
    "download_csv(canopy_height_manual_s4_url, folder_name=folder_name, file_name=canopy_height_manual_s4_input_filename)"
   ]
  },
  {
   "cell_type": "code",
   "execution_count": 56,
   "metadata": {},
   "outputs": [],
   "source": [
    "chm_0 = read_in_csv(folder_name=folder_name, file_name=canopy_height_manual_s4_input_filename)\n",
    "# print(ch_0.shape)\n",
    "# ch_0.head()"
   ]
  },
  {
   "cell_type": "code",
   "execution_count": 57,
   "metadata": {},
   "outputs": [
    {
     "name": "stdout",
     "output_type": "stream",
     "text": [
      "Sum of null values:\n",
      "plot              0\n",
      "scientificname    0\n",
      "genotype          0\n",
      "treatment         0\n",
      "date              0\n",
      "trait             0\n",
      "method            0\n",
      "mean              0\n",
      "checked           0\n",
      "author            0\n",
      "season            0\n",
      "method_type       0\n",
      "dtype: int64\n",
      "-----\n",
      "Value counts for duplicates:\n",
      "False    6501\n",
      "dtype: int64\n"
     ]
    }
   ],
   "source": [
    "# check_for_nulls_duplicates(chm_0)"
   ]
  },
  {
   "cell_type": "code",
   "execution_count": null,
   "metadata": {},
   "outputs": [],
   "source": [
    "# check_unique_values(chm_0)"
   ]
  },
  {
   "cell_type": "code",
   "execution_count": 58,
   "metadata": {},
   "outputs": [
    {
     "name": "stdout",
     "output_type": "stream",
     "text": [
      "(6501, 14)\n"
     ]
    }
   ],
   "source": [
    "chm_1 = extract_range_column_values(chm_0, 'plot')\n",
    "# print(chm_1.shape)\n",
    "# chm_1.sample(n=3)"
   ]
  },
  {
   "cell_type": "code",
   "execution_count": 59,
   "metadata": {},
   "outputs": [],
   "source": [
    "chm_2 = convert_datetime_column(chm_1, 'date')\n",
    "# print(chm_2.shape)\n",
    "# chm_2.head()"
   ]
  },
  {
   "cell_type": "markdown",
   "metadata": {},
   "source": [
    "#### Identify and Remove Subplot Designations"
   ]
  },
  {
   "cell_type": "code",
   "execution_count": 74,
   "metadata": {},
   "outputs": [],
   "source": [
    "# check_for_subplots(chm_2, 'plot')\n",
    "# incorrectly returns 'No subplot designations'"
   ]
  },
  {
   "cell_type": "code",
   "execution_count": 75,
   "metadata": {},
   "outputs": [
    {
     "data": {
      "text/plain": [
       "(5803, 14)"
      ]
     },
     "execution_count": 75,
     "metadata": {},
     "output_type": "execute_result"
    }
   ],
   "source": [
    "chm_2.loc[(chm_2['plot'].str.endswith(' W')) | (chm_2['plot'].str.endswith(' E'))].shape"
   ]
  },
  {
   "cell_type": "code",
   "execution_count": 76,
   "metadata": {},
   "outputs": [
    {
     "name": "stdout",
     "output_type": "stream",
     "text": [
      "(6501, 14)\n"
     ]
    },
    {
     "data": {
      "text/html": [
       "<div>\n",
       "<style scoped>\n",
       "    .dataframe tbody tr th:only-of-type {\n",
       "        vertical-align: middle;\n",
       "    }\n",
       "\n",
       "    .dataframe tbody tr th {\n",
       "        vertical-align: top;\n",
       "    }\n",
       "\n",
       "    .dataframe thead th {\n",
       "        text-align: right;\n",
       "    }\n",
       "</style>\n",
       "<table border=\"1\" class=\"dataframe\">\n",
       "  <thead>\n",
       "    <tr style=\"text-align: right;\">\n",
       "      <th></th>\n",
       "      <th>scientificname</th>\n",
       "      <th>genotype</th>\n",
       "      <th>treatment</th>\n",
       "      <th>trait</th>\n",
       "      <th>method</th>\n",
       "      <th>mean</th>\n",
       "      <th>checked</th>\n",
       "      <th>author</th>\n",
       "      <th>season</th>\n",
       "      <th>method_type</th>\n",
       "      <th>range</th>\n",
       "      <th>column</th>\n",
       "      <th>date</th>\n",
       "      <th>plot</th>\n",
       "    </tr>\n",
       "  </thead>\n",
       "  <tbody>\n",
       "    <tr>\n",
       "      <th>1921</th>\n",
       "      <td>Sorghum bicolor</td>\n",
       "      <td>PI653617</td>\n",
       "      <td>MAC Season 4: BAP water-deficit stress Aug 1-14</td>\n",
       "      <td>canopy_height</td>\n",
       "      <td>Manual canopy height</td>\n",
       "      <td>250</td>\n",
       "      <td>0</td>\n",
       "      <td>Newcomb, Maria</td>\n",
       "      <td>Season 4</td>\n",
       "      <td>manual</td>\n",
       "      <td>5</td>\n",
       "      <td>14</td>\n",
       "      <td>2017-06-19</td>\n",
       "      <td>MAC Field Scanner Season 4 Range 5 Column 14</td>\n",
       "    </tr>\n",
       "    <tr>\n",
       "      <th>2588</th>\n",
       "      <td>Sorghum bicolor</td>\n",
       "      <td>PI570085</td>\n",
       "      <td>MAC Season 4: BAP water-deficit stress Aug 1-14</td>\n",
       "      <td>canopy_height</td>\n",
       "      <td>Manual canopy height</td>\n",
       "      <td>89</td>\n",
       "      <td>0</td>\n",
       "      <td>Newcomb, Maria</td>\n",
       "      <td>Season 4</td>\n",
       "      <td>manual</td>\n",
       "      <td>48</td>\n",
       "      <td>14</td>\n",
       "      <td>2017-06-04</td>\n",
       "      <td>MAC Field Scanner Season 4 Range 48 Column 14</td>\n",
       "    </tr>\n",
       "    <tr>\n",
       "      <th>564</th>\n",
       "      <td>Sorghum bicolor</td>\n",
       "      <td>PI297155</td>\n",
       "      <td>MAC Season 4: BAP water-deficit stress Aug 15-30</td>\n",
       "      <td>canopy_height</td>\n",
       "      <td>Manual canopy height</td>\n",
       "      <td>117</td>\n",
       "      <td>0</td>\n",
       "      <td>Newcomb, Maria</td>\n",
       "      <td>Season 4</td>\n",
       "      <td>manual</td>\n",
       "      <td>10</td>\n",
       "      <td>4</td>\n",
       "      <td>2017-06-14</td>\n",
       "      <td>MAC Field Scanner Season 4 Range 10 Column 4</td>\n",
       "    </tr>\n",
       "  </tbody>\n",
       "</table>\n",
       "</div>"
      ],
      "text/plain": [
       "       scientificname  genotype  \\\n",
       "1921  Sorghum bicolor  PI653617   \n",
       "2588  Sorghum bicolor  PI570085   \n",
       "564   Sorghum bicolor  PI297155   \n",
       "\n",
       "                                             treatment          trait  \\\n",
       "1921   MAC Season 4: BAP water-deficit stress Aug 1-14  canopy_height   \n",
       "2588   MAC Season 4: BAP water-deficit stress Aug 1-14  canopy_height   \n",
       "564   MAC Season 4: BAP water-deficit stress Aug 15-30  canopy_height   \n",
       "\n",
       "                    method  mean  checked          author    season  \\\n",
       "1921  Manual canopy height   250        0  Newcomb, Maria  Season 4   \n",
       "2588  Manual canopy height    89        0  Newcomb, Maria  Season 4   \n",
       "564   Manual canopy height   117        0  Newcomb, Maria  Season 4   \n",
       "\n",
       "     method_type  range  column       date  \\\n",
       "1921      manual      5      14 2017-06-19   \n",
       "2588      manual     48      14 2017-06-04   \n",
       "564       manual     10       4 2017-06-14   \n",
       "\n",
       "                                               plot  \n",
       "1921   MAC Field Scanner Season 4 Range 5 Column 14  \n",
       "2588  MAC Field Scanner Season 4 Range 48 Column 14  \n",
       "564    MAC Field Scanner Season 4 Range 10 Column 4  "
      ]
     },
     "execution_count": 76,
     "metadata": {},
     "output_type": "execute_result"
    }
   ],
   "source": [
    "chm_3 = strip_subplots(chm_2, 'plot', 'plot')\n",
    "# print(chm_3.shape)\n",
    "# chm_3.sample(n=3)"
   ]
  },
  {
   "cell_type": "code",
   "execution_count": 78,
   "metadata": {},
   "outputs": [],
   "source": [
    "# check_for_subplots(chm_3, 'plot')"
   ]
  },
  {
   "cell_type": "code",
   "execution_count": 79,
   "metadata": {},
   "outputs": [
    {
     "data": {
      "text/plain": [
       "False    5789\n",
       "True      712\n",
       "dtype: int64"
      ]
     },
     "execution_count": 79,
     "metadata": {},
     "output_type": "execute_result"
    }
   ],
   "source": [
    "# check for plot/date/mean/treatment duplicates\n",
    "\n",
    "# chm_3.duplicated(subset=['plot', 'date', 'mean', 'treatment']).value_counts()"
   ]
  },
  {
   "cell_type": "code",
   "execution_count": 80,
   "metadata": {},
   "outputs": [
    {
     "name": "stdout",
     "output_type": "stream",
     "text": [
      "(5789, 14)\n"
     ]
    },
    {
     "data": {
      "text/plain": [
       "False    5789\n",
       "dtype: int64"
      ]
     },
     "execution_count": 80,
     "metadata": {},
     "output_type": "execute_result"
    }
   ],
   "source": [
    "# Drop Duplicates\n",
    "\n",
    "chm_4 = chm_3.drop_duplicates(ignore_index=True, subset=['plot', 'genotype', 'treatment', 'mean', 'range', 'column',\n",
    "                                                        'date'])\n",
    "\n",
    "# print(chm_4.shape)\n",
    "# chm_4.duplicated().value_counts()"
   ]
  },
  {
   "cell_type": "code",
   "execution_count": 86,
   "metadata": {},
   "outputs": [
    {
     "name": "stdout",
     "output_type": "stream",
     "text": [
      "(5789, 15)\n"
     ]
    },
    {
     "data": {
      "text/html": [
       "<div>\n",
       "<style scoped>\n",
       "    .dataframe tbody tr th:only-of-type {\n",
       "        vertical-align: middle;\n",
       "    }\n",
       "\n",
       "    .dataframe tbody tr th {\n",
       "        vertical-align: top;\n",
       "    }\n",
       "\n",
       "    .dataframe thead th {\n",
       "        text-align: right;\n",
       "    }\n",
       "</style>\n",
       "<table border=\"1\" class=\"dataframe\">\n",
       "  <thead>\n",
       "    <tr style=\"text-align: right;\">\n",
       "      <th></th>\n",
       "      <th>scientificname</th>\n",
       "      <th>genotype</th>\n",
       "      <th>treatment</th>\n",
       "      <th>trait</th>\n",
       "      <th>method</th>\n",
       "      <th>mean</th>\n",
       "      <th>checked</th>\n",
       "      <th>author</th>\n",
       "      <th>season</th>\n",
       "      <th>method_type</th>\n",
       "      <th>range</th>\n",
       "      <th>column</th>\n",
       "      <th>date</th>\n",
       "      <th>plot</th>\n",
       "      <th>blocking_height</th>\n",
       "    </tr>\n",
       "  </thead>\n",
       "  <tbody>\n",
       "    <tr>\n",
       "      <th>3670</th>\n",
       "      <td>Sorghum bicolor</td>\n",
       "      <td>PI562990</td>\n",
       "      <td>MAC Season 4: BAP water-deficit stress Aug 15-30</td>\n",
       "      <td>canopy_height</td>\n",
       "      <td>Manual canopy height</td>\n",
       "      <td>96</td>\n",
       "      <td>0</td>\n",
       "      <td>Newcomb, Maria</td>\n",
       "      <td>Season 4</td>\n",
       "      <td>manual</td>\n",
       "      <td>28</td>\n",
       "      <td>3</td>\n",
       "      <td>2017-06-04</td>\n",
       "      <td>MAC Field Scanner Season 4 Range 28 Column 3</td>\n",
       "      <td>tall</td>\n",
       "    </tr>\n",
       "    <tr>\n",
       "      <th>1894</th>\n",
       "      <td>Sorghum bicolor</td>\n",
       "      <td>PI586443</td>\n",
       "      <td>MAC Season 4: BAP water-deficit stress Aug 1-14</td>\n",
       "      <td>canopy_height</td>\n",
       "      <td>Manual canopy height</td>\n",
       "      <td>264</td>\n",
       "      <td>0</td>\n",
       "      <td>Newcomb, Maria</td>\n",
       "      <td>Season 4</td>\n",
       "      <td>manual</td>\n",
       "      <td>13</td>\n",
       "      <td>5</td>\n",
       "      <td>2017-07-05</td>\n",
       "      <td>MAC Field Scanner Season 4 Range 13 Column 5</td>\n",
       "      <td>tall</td>\n",
       "    </tr>\n",
       "    <tr>\n",
       "      <th>935</th>\n",
       "      <td>Sorghum bicolor</td>\n",
       "      <td>PI152771</td>\n",
       "      <td>MAC Season 4: BAP water-deficit stress Aug 1-14</td>\n",
       "      <td>canopy_height</td>\n",
       "      <td>Manual canopy height</td>\n",
       "      <td>57</td>\n",
       "      <td>0</td>\n",
       "      <td>Newcomb, Maria</td>\n",
       "      <td>Season 4</td>\n",
       "      <td>manual</td>\n",
       "      <td>3</td>\n",
       "      <td>12</td>\n",
       "      <td>2017-05-29</td>\n",
       "      <td>MAC Field Scanner Season 4 Range 3 Column 12</td>\n",
       "      <td>tall</td>\n",
       "    </tr>\n",
       "  </tbody>\n",
       "</table>\n",
       "</div>"
      ],
      "text/plain": [
       "       scientificname  genotype  \\\n",
       "3670  Sorghum bicolor  PI562990   \n",
       "1894  Sorghum bicolor  PI586443   \n",
       "935   Sorghum bicolor  PI152771   \n",
       "\n",
       "                                             treatment          trait  \\\n",
       "3670  MAC Season 4: BAP water-deficit stress Aug 15-30  canopy_height   \n",
       "1894   MAC Season 4: BAP water-deficit stress Aug 1-14  canopy_height   \n",
       "935    MAC Season 4: BAP water-deficit stress Aug 1-14  canopy_height   \n",
       "\n",
       "                    method  mean  checked          author    season  \\\n",
       "3670  Manual canopy height    96        0  Newcomb, Maria  Season 4   \n",
       "1894  Manual canopy height   264        0  Newcomb, Maria  Season 4   \n",
       "935   Manual canopy height    57        0  Newcomb, Maria  Season 4   \n",
       "\n",
       "     method_type  range  column       date  \\\n",
       "3670      manual     28       3 2017-06-04   \n",
       "1894      manual     13       5 2017-07-05   \n",
       "935       manual      3      12 2017-05-29   \n",
       "\n",
       "                                              plot blocking_height  \n",
       "3670  MAC Field Scanner Season 4 Range 28 Column 3            tall  \n",
       "1894  MAC Field Scanner Season 4 Range 13 Column 5            tall  \n",
       "935   MAC Field Scanner Season 4 Range 3 Column 12            tall  "
      ]
     },
     "execution_count": 86,
     "metadata": {},
     "output_type": "execute_result"
    }
   ],
   "source": [
    "chm_5 = add_season_4_blocking_height(chm_4, 'range')\n",
    "# print(chm_5.shape)\n",
    "# chm_5.sample(n=3)"
   ]
  },
  {
   "cell_type": "markdown",
   "metadata": {},
   "source": [
    "#### Use sqlite database to group by `plot`, `date`, and `mean` \n",
    "- rename `mean` to `canopy_height_cm`\n",
    "- can also drop and reorder columns at this time"
   ]
  },
  {
   "cell_type": "code",
   "execution_count": 88,
   "metadata": {},
   "outputs": [
    {
     "name": "stdout",
     "output_type": "stream",
     "text": [
      "Opened database successfully\n"
     ]
    }
   ],
   "source": [
    "conn = sqlite3.connect('data/canopy_heights_manual_season_4.sqlite')\n",
    "cursor = conn.cursor()\n",
    "print(\"Opened database successfully\")"
   ]
  },
  {
   "cell_type": "code",
   "execution_count": 89,
   "metadata": {},
   "outputs": [],
   "source": [
    "# comment next line out if db has already been created\n",
    "chm_5.to_sql('canopy_heights_manual_season_4.sqlite', conn)"
   ]
  },
  {
   "cell_type": "code",
   "execution_count": 90,
   "metadata": {},
   "outputs": [
    {
     "name": "stdout",
     "output_type": "stream",
     "text": [
      "(5789, 11)\n"
     ]
    },
    {
     "data": {
      "text/html": [
       "<div>\n",
       "<style scoped>\n",
       "    .dataframe tbody tr th:only-of-type {\n",
       "        vertical-align: middle;\n",
       "    }\n",
       "\n",
       "    .dataframe tbody tr th {\n",
       "        vertical-align: top;\n",
       "    }\n",
       "\n",
       "    .dataframe thead th {\n",
       "        text-align: right;\n",
       "    }\n",
       "</style>\n",
       "<table border=\"1\" class=\"dataframe\">\n",
       "  <thead>\n",
       "    <tr style=\"text-align: right;\">\n",
       "      <th></th>\n",
       "      <th>date</th>\n",
       "      <th>plot</th>\n",
       "      <th>range</th>\n",
       "      <th>column</th>\n",
       "      <th>scientificname</th>\n",
       "      <th>genotype</th>\n",
       "      <th>treatment</th>\n",
       "      <th>blocking_height</th>\n",
       "      <th>method</th>\n",
       "      <th>canopy_height_cm</th>\n",
       "      <th>method_type</th>\n",
       "    </tr>\n",
       "  </thead>\n",
       "  <tbody>\n",
       "    <tr>\n",
       "      <th>0</th>\n",
       "      <td>2017-05-24 00:00:00</td>\n",
       "      <td>MAC Field Scanner Season 4 Range 10 Column 11</td>\n",
       "      <td>10</td>\n",
       "      <td>11</td>\n",
       "      <td>Sorghum bicolor</td>\n",
       "      <td>PI195754</td>\n",
       "      <td>MAC Season 4: BAP water-deficit stress Aug 15-30</td>\n",
       "      <td>medium</td>\n",
       "      <td>Manual canopy height</td>\n",
       "      <td>47.0</td>\n",
       "      <td>manual</td>\n",
       "    </tr>\n",
       "    <tr>\n",
       "      <th>1</th>\n",
       "      <td>2017-05-24 00:00:00</td>\n",
       "      <td>MAC Field Scanner Season 4 Range 10 Column 12</td>\n",
       "      <td>10</td>\n",
       "      <td>12</td>\n",
       "      <td>Sorghum bicolor</td>\n",
       "      <td>PI329501</td>\n",
       "      <td>MAC Season 4: BAP water-deficit stress Aug 1-14</td>\n",
       "      <td>medium</td>\n",
       "      <td>Manual canopy height</td>\n",
       "      <td>26.0</td>\n",
       "      <td>manual</td>\n",
       "    </tr>\n",
       "    <tr>\n",
       "      <th>2</th>\n",
       "      <td>2017-05-24 00:00:00</td>\n",
       "      <td>MAC Field Scanner Season 4 Range 10 Column 12</td>\n",
       "      <td>10</td>\n",
       "      <td>12</td>\n",
       "      <td>Sorghum bicolor</td>\n",
       "      <td>PI329501</td>\n",
       "      <td>MAC Season 4: BAP water-deficit stress Aug 1-14</td>\n",
       "      <td>medium</td>\n",
       "      <td>Manual canopy height</td>\n",
       "      <td>31.0</td>\n",
       "      <td>manual</td>\n",
       "    </tr>\n",
       "  </tbody>\n",
       "</table>\n",
       "</div>"
      ],
      "text/plain": [
       "                  date                                           plot  range  \\\n",
       "0  2017-05-24 00:00:00  MAC Field Scanner Season 4 Range 10 Column 11     10   \n",
       "1  2017-05-24 00:00:00  MAC Field Scanner Season 4 Range 10 Column 12     10   \n",
       "2  2017-05-24 00:00:00  MAC Field Scanner Season 4 Range 10 Column 12     10   \n",
       "\n",
       "   column   scientificname  genotype  \\\n",
       "0      11  Sorghum bicolor  PI195754   \n",
       "1      12  Sorghum bicolor  PI329501   \n",
       "2      12  Sorghum bicolor  PI329501   \n",
       "\n",
       "                                          treatment blocking_height  \\\n",
       "0  MAC Season 4: BAP water-deficit stress Aug 15-30          medium   \n",
       "1   MAC Season 4: BAP water-deficit stress Aug 1-14          medium   \n",
       "2   MAC Season 4: BAP water-deficit stress Aug 1-14          medium   \n",
       "\n",
       "                 method  canopy_height_cm method_type  \n",
       "0  Manual canopy height              47.0      manual  \n",
       "1  Manual canopy height              26.0      manual  \n",
       "2  Manual canopy height              31.0      manual  "
      ]
     },
     "execution_count": 90,
     "metadata": {},
     "output_type": "execute_result"
    }
   ],
   "source": [
    "chm_6 = pd.read_sql_query(\"\"\"\n",
    "                            SELECT date, plot, range, column, scientificname, genotype, treatment, blocking_height,\n",
    "                            method, ROUND(AVG([mean]), 2) AS canopy_height_cm, method_type\n",
    "                            FROM 'canopy_heights_manual_season_4.sqlite'\n",
    "                            GROUP BY plot, date,[mean]\n",
    "                            ORDER BY date ASC;\n",
    "                            \"\"\", conn)\n",
    "\n",
    "print(chm_6.shape)\n",
    "chm_6.head(3)"
   ]
  },
  {
   "cell_type": "markdown",
   "metadata": {},
   "source": [
    "#### D. Days & GDD to Flowering"
   ]
  },
  {
   "cell_type": "code",
   "execution_count": null,
   "metadata": {},
   "outputs": [],
   "source": [
    "fl_0 = pd.read_csv('data/raw/season_4_traits/season_4_flowering_time_manual.csv')\n",
    "print(fl_0.shape)\n",
    "# fl_0.head()"
   ]
  },
  {
   "cell_type": "markdown",
   "metadata": {},
   "source": [
    "#### Read in updated processed weather dataset for season 4"
   ]
  },
  {
   "cell_type": "code",
   "execution_count": null,
   "metadata": {},
   "outputs": [],
   "source": [
    "weather_0 = pd.read_csv('data/processed/mac_season_4_daily_weather_2020-07-01T144735.csv')\n",
    "print(weather_0.shape)\n",
    "# weather_0.head()"
   ]
  },
  {
   "cell_type": "code",
   "execution_count": null,
   "metadata": {},
   "outputs": [],
   "source": [
    "plot_hist(fl_0, 'mean', 'trait')"
   ]
  },
  {
   "cell_type": "code",
   "execution_count": null,
   "metadata": {},
   "outputs": [],
   "source": [
    "check_for_nulls_duplicates(fl_0)"
   ]
  },
  {
   "cell_type": "code",
   "execution_count": null,
   "metadata": {},
   "outputs": [],
   "source": [
    "check_for_subplots(fl_0, 'plot')"
   ]
  },
  {
   "cell_type": "code",
   "execution_count": null,
   "metadata": {},
   "outputs": [],
   "source": [
    "# check_unique_values(fl_0)"
   ]
  },
  {
   "cell_type": "markdown",
   "metadata": {},
   "source": [
    "#### Add planting date 2017-04-20"
   ]
  },
  {
   "cell_type": "code",
   "execution_count": null,
   "metadata": {},
   "outputs": [],
   "source": [
    "day_of_planting = datetime.date(2017,4,20)\n",
    "flower_df_1 = fl_0.copy()\n",
    "\n",
    "flower_df_1['date_of_planting'] = day_of_planting\n",
    "print(flower_df_1.shape)\n",
    "# flower_df_1.head(3)"
   ]
  },
  {
   "cell_type": "markdown",
   "metadata": {},
   "source": [
    "#### Create datetime with days to flowering (`mean`)"
   ]
  },
  {
   "cell_type": "code",
   "execution_count": null,
   "metadata": {},
   "outputs": [],
   "source": [
    "timedelta = pd.Series([pd.Timedelta(days=i) for i in flower_df_1['mean'].values])\n",
    "dates_of_flowering = []\n",
    "\n",
    "for td in timedelta:\n",
    "    \n",
    "    date_of_flowering = day_of_planting + td\n",
    "    dates_of_flowering.append(date_of_flowering)\n",
    "    \n",
    "print(flower_df_1.shape[0])\n",
    "print(len(dates_of_flowering))"
   ]
  },
  {
   "cell_type": "code",
   "execution_count": null,
   "metadata": {},
   "outputs": [],
   "source": [
    "flower_df_2 = flower_df_1.copy()\n",
    "flower_df_2['date_of_flowering'] = dates_of_flowering\n",
    "print(flower_df_2.shape)\n",
    "# flower_df_2.head(3)"
   ]
  },
  {
   "cell_type": "markdown",
   "metadata": {},
   "source": [
    "#### Add GDD to flowering dataframe"
   ]
  },
  {
   "cell_type": "code",
   "execution_count": null,
   "metadata": {},
   "outputs": [],
   "source": [
    "# slice weather df for date and cumulative gdd values only\n",
    "\n",
    "season_4_gdd = weather_0[['date', 'gdd']]\n",
    "print(season_4_gdd.shape)\n",
    "# season_4_gdd.head(3)"
   ]
  },
  {
   "cell_type": "code",
   "execution_count": null,
   "metadata": {},
   "outputs": [],
   "source": [
    "season_4_gdd.dtypes"
   ]
  },
  {
   "cell_type": "code",
   "execution_count": null,
   "metadata": {},
   "outputs": [],
   "source": [
    "flower_df_3 = flower_df_2.copy()\n",
    "flower_df_3.date_of_flowering = pd.to_datetime(flower_df_3.date_of_flowering)\n",
    "# flower_df_3.dtypes"
   ]
  },
  {
   "cell_type": "code",
   "execution_count": null,
   "metadata": {},
   "outputs": [],
   "source": [
    "season_4_gdd_1 = season_4_gdd.copy()\n",
    "season_4_gdd_1['date'] = pd.to_datetime(season_4_gdd_1['date'])\n",
    "season_4_gdd_1.dtypes"
   ]
  },
  {
   "cell_type": "code",
   "execution_count": null,
   "metadata": {},
   "outputs": [],
   "source": [
    "flower_df_4 = flower_df_3.merge(season_4_gdd_1, how='left', left_on='date_of_flowering', right_on='date')\n",
    "print(flower_df_4.shape)\n",
    "# flower_df_4.head(3)"
   ]
  },
  {
   "cell_type": "code",
   "execution_count": null,
   "metadata": {},
   "outputs": [],
   "source": [
    "flower_df_5 = extract_range_column_values(flower_df_4, 'plot')\n",
    "flower_df_6 = add_season_4_blocking_height(flower_df_5, 'range')\n",
    "\n",
    "print(flower_df_6.shape)\n",
    "# flower_df_6.tail(3)"
   ]
  },
  {
   "cell_type": "code",
   "execution_count": null,
   "metadata": {},
   "outputs": [],
   "source": [
    "flower_df_7 = rename_value_column(flower_df_6, 'mean', 'trait')\n",
    "# flower_df_7.sample(n=3)"
   ]
  },
  {
   "cell_type": "code",
   "execution_count": null,
   "metadata": {},
   "outputs": [],
   "source": [
    "flower_df_8 = flower_df_7.rename({'flowering_time': 'days_to_flowering', 'gdd': 'gdd_to_flowering'}, axis=1)\n",
    "# flower_df_8.head(2)"
   ]
  },
  {
   "cell_type": "code",
   "execution_count": null,
   "metadata": {},
   "outputs": [],
   "source": [
    "cols_to_drop = ['date_x', 'checked', 'author', 'season', 'date_of_planting', 'date_y']\n",
    "\n",
    "flower_df_9 = flower_df_8.drop(labels=cols_to_drop, axis=1)\n",
    "print(flower_df_9.shape)\n",
    "# flower_df_9.sample(n=3)"
   ]
  },
  {
   "cell_type": "code",
   "execution_count": null,
   "metadata": {},
   "outputs": [],
   "source": [
    "new_col_order = ['plot', 'range', 'column', 'scientificname', 'genotype', 'treatment', 'blocking_height', \n",
    "                 'method', 'date_of_flowering', 'days_to_flowering', 'gdd_to_flowering', 'method_type']\n",
    "\n",
    "flower_df_10 = reorder_columns(flower_df_9, new_col_order)\n",
    "print(flower_df_10.shape)\n",
    "flower_df_10.head(3)"
   ]
  },
  {
   "cell_type": "markdown",
   "metadata": {},
   "source": [
    "#### E. Days & GDD to Flag Leaf Emergence"
   ]
  },
  {
   "cell_type": "code",
   "execution_count": null,
   "metadata": {},
   "outputs": [],
   "source": [
    "fle_0 = pd.read_csv('data/raw/season_4_traits/season_4_flag_leaf_emergence_time_manual.csv')\n",
    "print(fle_0.shape)\n",
    "# fle_0.head()"
   ]
  },
  {
   "cell_type": "markdown",
   "metadata": {},
   "source": [
    "#### Read in updated processed weather dataset for season 4\n",
    "Code used to process weather data for season 4 can be found in the `season_4_weather_data_cleaning` notebook in this repository"
   ]
  },
  {
   "cell_type": "code",
   "execution_count": null,
   "metadata": {},
   "outputs": [],
   "source": [
    "weather_0 = pd.read_csv('data/processed/mac_season_4_daily_weather_2020-07-01T144735.csv')\n",
    "print(weather_0.shape)\n",
    "# weather_0.head()"
   ]
  },
  {
   "cell_type": "code",
   "execution_count": null,
   "metadata": {},
   "outputs": [],
   "source": [
    "plot_hist(fle_0, 'mean', 'trait')"
   ]
  },
  {
   "cell_type": "code",
   "execution_count": null,
   "metadata": {},
   "outputs": [],
   "source": [
    "check_for_nulls_duplicates(fle_0)"
   ]
  },
  {
   "cell_type": "code",
   "execution_count": null,
   "metadata": {},
   "outputs": [],
   "source": [
    "check_for_subplots(fle_0, 'plot')"
   ]
  },
  {
   "cell_type": "code",
   "execution_count": null,
   "metadata": {},
   "outputs": [],
   "source": [
    "# check_unique_values(fle_0)"
   ]
  },
  {
   "cell_type": "markdown",
   "metadata": {},
   "source": [
    "#### Add planting date 2017-04-20"
   ]
  },
  {
   "cell_type": "code",
   "execution_count": null,
   "metadata": {},
   "outputs": [],
   "source": [
    "day_of_planting = datetime.date(2017,4,20)\n",
    "fle_df_1 = fle_0.copy()\n",
    "\n",
    "fle_df_1['date_of_planting'] = day_of_planting\n",
    "print(fle_df_1.shape)\n",
    "# fle_df_1.head(3)"
   ]
  },
  {
   "cell_type": "markdown",
   "metadata": {},
   "source": [
    "#### Create timedelta using days to flag leaf emergence (`mean`)"
   ]
  },
  {
   "cell_type": "code",
   "execution_count": null,
   "metadata": {},
   "outputs": [],
   "source": [
    "timedelta = pd.Series([pd.Timedelta(days=i) for i in fle_df_1['mean'].values])\n",
    "dates_of_flag_leaf_emergence = []\n",
    "\n",
    "for td in timedelta:\n",
    "    \n",
    "    date_of_flag_leaf_emergence = day_of_planting + td\n",
    "    dates_of_flag_leaf_emergence.append(date_of_flag_leaf_emergence)\n",
    "    \n",
    "print(fle_df_1.shape[0])\n",
    "print(len(dates_of_flag_leaf_emergence))"
   ]
  },
  {
   "cell_type": "code",
   "execution_count": null,
   "metadata": {},
   "outputs": [],
   "source": [
    "fle_df_2 = fle_df_1.copy()\n",
    "fle_df_2['date_of_flag_leaf_emergence'] = dates_of_flag_leaf_emergence\n",
    "print(fle_df_2.shape)\n",
    "# fle_df_2.head(3)"
   ]
  },
  {
   "cell_type": "markdown",
   "metadata": {},
   "source": [
    "#### Add GDD values to flag leaf emergence dataframe"
   ]
  },
  {
   "cell_type": "code",
   "execution_count": null,
   "metadata": {},
   "outputs": [],
   "source": [
    "# slice weather df for date and cumulative gdd values only\n",
    "\n",
    "season_4_gdd = weather_0[['date', 'gdd']]\n",
    "print(season_4_gdd.shape)\n",
    "# season_4_gdd.head(3)"
   ]
  },
  {
   "cell_type": "code",
   "execution_count": null,
   "metadata": {},
   "outputs": [],
   "source": [
    "fle_df_3 = fle_df_2.copy()\n",
    "fle_df_3.date_of_flag_leaf_emergence = pd.to_datetime(fle_df_3.date_of_flag_leaf_emergence)\n",
    "# fle_df_3.dtypes"
   ]
  },
  {
   "cell_type": "code",
   "execution_count": null,
   "metadata": {},
   "outputs": [],
   "source": [
    "season_4_gdd_1 = season_4_gdd.copy()\n",
    "season_4_gdd_1['date'] = pd.to_datetime(season_4_gdd_1['date'])\n",
    "season_4_gdd_1.dtypes"
   ]
  },
  {
   "cell_type": "code",
   "execution_count": null,
   "metadata": {},
   "outputs": [],
   "source": [
    "fle_df_4 = fle_df_3.merge(season_4_gdd_1, how='left', left_on='date_of_flag_leaf_emergence', right_on='date')\n",
    "print(fle_df_4.shape)\n",
    "# fle_df_4.head(3)"
   ]
  },
  {
   "cell_type": "code",
   "execution_count": null,
   "metadata": {},
   "outputs": [],
   "source": [
    "fle_df_5 = extract_range_column_values(fle_df_4, 'plot')\n",
    "fle_df_6 = add_season_4_blocking_height(fle_df_5, 'range')\n",
    "\n",
    "print(fle_df_6.shape)\n",
    "# fle_df_6.tail(3)"
   ]
  },
  {
   "cell_type": "code",
   "execution_count": null,
   "metadata": {},
   "outputs": [],
   "source": [
    "fle_df_7 = rename_value_column(fle_df_6, 'mean', 'trait')\n",
    "# fle_df_7.sample(n=3)"
   ]
  },
  {
   "cell_type": "code",
   "execution_count": null,
   "metadata": {},
   "outputs": [],
   "source": [
    "fle_df_8 = fle_df_7.rename({'flag_leaf_emergence_time': 'days_to_flag_leaf_emergence', 'gdd': 'gdd_to_flag_leaf_emergence'}, axis=1)\n",
    "# fle_df_8.head(2)"
   ]
  },
  {
   "cell_type": "code",
   "execution_count": null,
   "metadata": {},
   "outputs": [],
   "source": [
    "cols_to_drop = ['date_x', 'checked', 'author', 'season', 'date_of_planting', 'date_y']\n",
    "\n",
    "fle_df_9 = fle_df_8.drop(labels=cols_to_drop, axis=1)\n",
    "print(fle_df_9.shape)\n",
    "# fle_df_9.sample(n=3)"
   ]
  },
  {
   "cell_type": "code",
   "execution_count": null,
   "metadata": {},
   "outputs": [],
   "source": [
    "new_col_order = ['plot', 'range', 'column', 'scientificname', 'genotype', 'treatment', 'blocking_height', \n",
    "                 'method', 'date_of_flag_leaf_emergence', 'days_to_flag_leaf_emergence', \n",
    "                 'gdd_to_flag_leaf_emergence', 'method_type']\n",
    "\n",
    "fle_df_10 = reorder_columns(fle_df_9, new_col_order)\n",
    "print(fle_df_10.shape)\n",
    "fle_df_10.head(3)"
   ]
  },
  {
   "cell_type": "markdown",
   "metadata": {},
   "source": [
    "### Save all datasets to separate csv files"
   ]
  },
  {
   "cell_type": "code",
   "execution_count": null,
   "metadata": {},
   "outputs": [],
   "source": [
    "list_of_dfs = [adb_7, ch_8, chm_6, flower_df_10, fle_df_10]\n",
    "list_of_output_filenames = ['data/processed/mac_season_4_aboveground_dry_biomass.csv',\n",
    "                           'data/processed/mac_season_4_canopy_height_sensor.csv',\n",
    "                           'data/processed/mac_season_4_canopy_height_manual.csv',\n",
    "                           'data/processed/mac_season_4_days_gdd_to_flowering.csv',\n",
    "                           'data/processed/mac_season_4_days_gdd_to_flag_leaf_emergence.csv']"
   ]
  },
  {
   "cell_type": "code",
   "execution_count": null,
   "metadata": {},
   "outputs": [],
   "source": [
    "save_to_csv_without_timestamp(list_of_dfs, list_of_output_filenames)"
   ]
  }
 ],
 "metadata": {
  "kernelspec": {
   "display_name": "Python 3",
   "language": "python",
   "name": "python3"
  },
  "language_info": {
   "codemirror_mode": {
    "name": "ipython",
    "version": 3
   },
   "file_extension": ".py",
   "mimetype": "text/x-python",
   "name": "python",
   "nbconvert_exporter": "python",
   "pygments_lexer": "ipython3",
   "version": "3.8.3"
  }
 },
 "nbformat": 4,
 "nbformat_minor": 4
}
