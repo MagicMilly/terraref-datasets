{
 "cells": [
  {
   "cell_type": "markdown",
   "metadata": {},
   "source": [
    "Please e-mail ejcain@email.arizona.edu or dlebauer@email.arizona.edu with any questions, or create an issue in this GitHub [repository](https://github.com/genophenoenvo/terraref-datasets)."
   ]
  },
  {
   "cell_type": "markdown",
   "metadata": {},
   "source": [
    "### MAC Season 4 Data Cleaning\n",
    "\n",
    "#### Selected Traits\n",
    "- aboveground dry biomass\n",
    "- canopy height\n",
    "- days & growing degree days (GDD) to flowering\n",
    "- days & GDD to flag leaf emergence"
   ]
  },
  {
   "cell_type": "code",
   "execution_count": 14,
   "metadata": {},
   "outputs": [],
   "source": [
    "import datetime\n",
    "import numpy as np\n",
    "import os\n",
    "import pandas as pd\n",
    "import requests\n",
    "import sqlite3"
   ]
  },
  {
   "cell_type": "code",
   "execution_count": 9,
   "metadata": {},
   "outputs": [],
   "source": [
    "def download_csv(url, folder_name, file_name):\n",
    "    response = requests.get(url)\n",
    "    with open(os.path.join(folder_name, file_name), 'wb') as f:\n",
    "        f.write(response.content)"
   ]
  },
  {
   "cell_type": "code",
   "execution_count": 10,
   "metadata": {},
   "outputs": [],
   "source": [
    "def read_in_csv(folder_name, file_name):\n",
    "    df = pd.read_csv(folder_name + '/' + file_name, low_memory=False)\n",
    "    return df"
   ]
  },
  {
   "cell_type": "code",
   "execution_count": 15,
   "metadata": {},
   "outputs": [],
   "source": [
    "def plot_hist(df, value_column, trait_column):\n",
    "    \n",
    "    trait_name = df[trait_column].unique()[0]\n",
    "    return df[value_column].hist(color='navy').set_xlabel(trait_name);"
   ]
  },
  {
   "cell_type": "code",
   "execution_count": 16,
   "metadata": {},
   "outputs": [],
   "source": [
    "def check_for_nulls_duplicates(df):\n",
    "    \n",
    "    print(\n",
    "        f'Sum of null values:\\n{df.isnull().sum()}\\n-----\\n'\n",
    "        f'Value counts for duplicates:\\n{df.duplicated().value_counts()}'\n",
    "    )"
   ]
  },
  {
   "cell_type": "code",
   "execution_count": 17,
   "metadata": {},
   "outputs": [],
   "source": [
    "def check_unique_values(df):\n",
    "\n",
    "    for col in df.columns:\n",
    "        if df[col].nunique() < 5:\n",
    "            print(f'{df[col].nunique()} unique value(s) for {col} column: {df[col].unique()}')    \n",
    "        else:\n",
    "            print(f'{df[col].nunique()} values for {col} column')"
   ]
  },
  {
   "cell_type": "code",
   "execution_count": 18,
   "metadata": {},
   "outputs": [],
   "source": [
    "def extract_range_column_values(working_df, plot_column):\n",
    "    \n",
    "    new_df = working_df.copy()\n",
    "    new_df['range'] = new_df[plot_column].str.extract(\"Range (\\d+)\").astype(int)\n",
    "    new_df['column'] = new_df[plot_column].str.extract(\"Column (\\d+)\").astype(int)\n",
    "    \n",
    "    return new_df"
   ]
  },
  {
   "cell_type": "code",
   "execution_count": 19,
   "metadata": {},
   "outputs": [],
   "source": [
    "def convert_datetime_column(working_df, date_column):\n",
    "    \n",
    "    new_datetimes = pd.to_datetime(working_df[date_column])\n",
    "    new_df_0 = working_df.drop(labels=date_column, axis=1)\n",
    "    new_df_1 = new_df_0.copy()\n",
    "    new_df_1['date'] = new_datetimes\n",
    "    \n",
    "    return new_df_1"
   ]
  },
  {
   "cell_type": "code",
   "execution_count": 20,
   "metadata": {},
   "outputs": [],
   "source": [
    "def rename_value_column(working_df, value_column, trait_column):\n",
    "    \n",
    "    trait = working_df[trait_column].unique()[0]\n",
    "    new_df_0 = working_df.rename({value_column: trait}, axis=1)\n",
    "    new_df_1 = new_df_0.drop(labels=trait_column, axis=1)\n",
    "    \n",
    "    return new_df_1"
   ]
  },
  {
   "cell_type": "markdown",
   "metadata": {},
   "source": [
    "Blocking height experiment description for season 4 can be found [here](https://terraref.ncsa.illinois.edu/bety/api/v1/experiments?name=~MAC+Season+4:+All+BAP+With+Late+Season+Drought)\n"
   ]
  },
  {
   "cell_type": "code",
   "execution_count": 21,
   "metadata": {},
   "outputs": [],
   "source": [
    "def add_season_4_blocking_height(working_df, range_column):\n",
    "    \n",
    "    short_blocks = [11, 20, 46, 50]\n",
    "    medium_blocks = [10, 12, 18, 24, 27, 29, 31, 33, 38, 51]\n",
    "    tall_blocks = [3, 4, 5, 6, 7, 8, 9, 13, 14, 15, 16, 17, 19, 21, 22, 23, 25, 26, 28, 30, 32, 34, 35, 36, 37, \n",
    "                   39, 40, 41, 42, 43, 44, 45, 47, 48, 49, 52]\n",
    "    border = [1, 2, 53, 54]\n",
    "    \n",
    "    range_values = working_df[range_column].values\n",
    "    blocking_heights = []\n",
    "    \n",
    "    for r in range_values:\n",
    "        \n",
    "        if r in short_blocks:\n",
    "            blocking_heights.append('short')\n",
    "            \n",
    "        elif r in medium_blocks:\n",
    "            blocking_heights.append('medium')\n",
    "            \n",
    "        elif r in tall_blocks:\n",
    "            blocking_heights.append('tall')\n",
    "            \n",
    "        elif r in border:\n",
    "            blocking_heights.append('border')\n",
    "            \n",
    "        else:\n",
    "            print(f'Error with range value {r}')\n",
    "        \n",
    "    working_df_1 = working_df.copy()\n",
    "    working_df_1['blocking_height'] = blocking_heights\n",
    "    \n",
    "    return working_df_1"
   ]
  },
  {
   "cell_type": "code",
   "execution_count": 22,
   "metadata": {},
   "outputs": [],
   "source": [
    "def reorder_columns(working_df, new_col_order_list):\n",
    "    \n",
    "    working_df_1 = pd.DataFrame(data=working_df, columns=new_col_order_list)\n",
    "    return working_df_1"
   ]
  },
  {
   "cell_type": "code",
   "execution_count": 23,
   "metadata": {},
   "outputs": [],
   "source": [
    "def check_for_subplots(df, plot_col):\n",
    "\n",
    "    for name in df[plot_col].values:\n",
    "        if (name.endswith(' E')) | (name.endswith(' W')):\n",
    "             return 'This dataset contains subplot designations'\n",
    "        else:\n",
    "            return 'No subplot designations'"
   ]
  },
  {
   "cell_type": "code",
   "execution_count": 24,
   "metadata": {},
   "outputs": [],
   "source": [
    "def strip_subplots(working_df, plot_col, new_plot_col_name):\n",
    "    \n",
    "    plot_names = working_df[plot_col].values\n",
    "    new_plot_names = []\n",
    "    \n",
    "    for n in plot_names:\n",
    "        if (n.endswith(' E') | (n.endswith(' W'))):\n",
    "            new_plot_names.append(n[:-2])    \n",
    "        else:\n",
    "            new_plot_names.append(n)\n",
    "            \n",
    "    working_df_1 = working_df.drop(labels=plot_col, axis=1)\n",
    "    working_df_2 = working_df_1.copy()\n",
    "    \n",
    "    working_df_2[new_plot_col_name] = new_plot_names\n",
    "    return working_df_2"
   ]
  },
  {
   "cell_type": "code",
   "execution_count": 25,
   "metadata": {},
   "outputs": [],
   "source": [
    "def save_to_csv_with_timestamp(df, name_of_dataset):\n",
    "    \n",
    "    timestamp = datetime.datetime.now().replace(microsecond=0).isoformat()\n",
    "    output_filename = ('data/processed/' + f'{name_of_dataset}_' + f'{timestamp}.csv').replace(':', '')\n",
    "\n",
    "    df.to_csv(output_filename, index=False)"
   ]
  },
  {
   "cell_type": "code",
   "execution_count": 26,
   "metadata": {},
   "outputs": [],
   "source": [
    "def save_to_csv_without_timestamp(list_of_dfs, list_of_output_filenames):\n",
    "\n",
    "    for i,j in zip(list_of_dfs, list_of_output_filenames):\n",
    "        i.to_csv(j, index=False)"
   ]
  },
  {
   "cell_type": "markdown",
   "metadata": {},
   "source": [
    "#### MAC Season 4"
   ]
  },
  {
   "cell_type": "code",
   "execution_count": 4,
   "metadata": {},
   "outputs": [],
   "source": [
    "folder_name = 'data'\n",
    "if not os.path.exists(folder_name):\n",
    "    os.makedirs(folder_name)"
   ]
  },
  {
   "cell_type": "code",
   "execution_count": 3,
   "metadata": {},
   "outputs": [],
   "source": [
    "season_4_url = 'https://de.cyverse.org/dl/d/D3168AC5-82BE-436E-B8B5-AB8DD78CAF28/mac_season_four_2020-04-22.csv'\n",
    "season_4_input_filename = 'raw_mac_season_4_data.csv.'"
   ]
  },
  {
   "cell_type": "code",
   "execution_count": 13,
   "metadata": {},
   "outputs": [],
   "source": [
    "download_csv(season_4_url, folder_name=folder_name, file_name=season_4_input_filename)"
   ]
  },
  {
   "cell_type": "code",
   "execution_count": 50,
   "metadata": {},
   "outputs": [],
   "source": [
    "df = read_in_csv(folder_name=folder_name, file_name=season_4_input_filename)\n",
    "# print(df.shape)"
   ]
  },
  {
   "cell_type": "code",
   "execution_count": 51,
   "metadata": {},
   "outputs": [
    {
     "name": "stdout",
     "output_type": "stream",
     "text": [
      "(375150, 10)\n"
     ]
    },
    {
     "data": {
      "text/html": [
       "<div>\n",
       "<style scoped>\n",
       "    .dataframe tbody tr th:only-of-type {\n",
       "        vertical-align: middle;\n",
       "    }\n",
       "\n",
       "    .dataframe tbody tr th {\n",
       "        vertical-align: top;\n",
       "    }\n",
       "\n",
       "    .dataframe thead th {\n",
       "        text-align: right;\n",
       "    }\n",
       "</style>\n",
       "<table border=\"1\" class=\"dataframe\">\n",
       "  <thead>\n",
       "    <tr style=\"text-align: right;\">\n",
       "      <th></th>\n",
       "      <th>sitename</th>\n",
       "      <th>lat</th>\n",
       "      <th>lon</th>\n",
       "      <th>raw_date</th>\n",
       "      <th>trait</th>\n",
       "      <th>trait_description</th>\n",
       "      <th>mean</th>\n",
       "      <th>units</th>\n",
       "      <th>cultivar</th>\n",
       "      <th>method_name</th>\n",
       "    </tr>\n",
       "  </thead>\n",
       "  <tbody>\n",
       "    <tr>\n",
       "      <th>0</th>\n",
       "      <td>MAC Field Scanner Season 4 Range 40 Column 6</td>\n",
       "      <td>33.075949</td>\n",
       "      <td>-111.974966</td>\n",
       "      <td>2017-06-08 14:00:00 -0500</td>\n",
       "      <td>leaf_angle_beta</td>\n",
       "      <td>NaN</td>\n",
       "      <td>2.033237</td>\n",
       "      <td>NaN</td>\n",
       "      <td>PI329841</td>\n",
       "      <td>3D scanner to leaf angle distribution</td>\n",
       "    </tr>\n",
       "    <tr>\n",
       "      <th>1</th>\n",
       "      <td>MAC Field Scanner Season 4 Range 40 Column 6</td>\n",
       "      <td>33.075949</td>\n",
       "      <td>-111.974966</td>\n",
       "      <td>2017-06-08 14:00:00 -0500</td>\n",
       "      <td>leaf_angle_chi</td>\n",
       "      <td>NaN</td>\n",
       "      <td>2.523958</td>\n",
       "      <td>NaN</td>\n",
       "      <td>PI329841</td>\n",
       "      <td>3D scanner to leaf angle distribution</td>\n",
       "    </tr>\n",
       "    <tr>\n",
       "      <th>2</th>\n",
       "      <td>MAC Field Scanner Season 4 Range 40 Column 6</td>\n",
       "      <td>33.075949</td>\n",
       "      <td>-111.974966</td>\n",
       "      <td>2017-06-19 14:00:00 -0500</td>\n",
       "      <td>leaf_angle_mean</td>\n",
       "      <td>NaN</td>\n",
       "      <td>0.373537</td>\n",
       "      <td>normalized degrees</td>\n",
       "      <td>PI329841</td>\n",
       "      <td>3D scanner to leaf angle distribution</td>\n",
       "    </tr>\n",
       "  </tbody>\n",
       "</table>\n",
       "</div>"
      ],
      "text/plain": [
       "                                       sitename        lat         lon  \\\n",
       "0  MAC Field Scanner Season 4 Range 40 Column 6  33.075949 -111.974966   \n",
       "1  MAC Field Scanner Season 4 Range 40 Column 6  33.075949 -111.974966   \n",
       "2  MAC Field Scanner Season 4 Range 40 Column 6  33.075949 -111.974966   \n",
       "\n",
       "                    raw_date            trait trait_description      mean  \\\n",
       "0  2017-06-08 14:00:00 -0500  leaf_angle_beta               NaN  2.033237   \n",
       "1  2017-06-08 14:00:00 -0500   leaf_angle_chi               NaN  2.523958   \n",
       "2  2017-06-19 14:00:00 -0500  leaf_angle_mean               NaN  0.373537   \n",
       "\n",
       "                units  cultivar                            method_name  \n",
       "0                 NaN  PI329841  3D scanner to leaf angle distribution  \n",
       "1                 NaN  PI329841  3D scanner to leaf angle distribution  \n",
       "2  normalized degrees  PI329841  3D scanner to leaf angle distribution  "
      ]
     },
     "execution_count": 51,
     "metadata": {},
     "output_type": "execute_result"
    }
   ],
   "source": [
    "cols_to_drop = ['Unnamed: 0', 'checked', 'result_type', 'id', 'citation_id', 'site_id', 'treatment_id', \n",
    "                'scientificname', 'commonname', 'genus', 'species_id', 'cultivar_id', 'author', \n",
    "                'citation_year', 'time', 'month', 'year', 'n', 'statname', 'stat', 'notes', 'access_level', \n",
    "                'entity', 'view_url', 'edit_url', 'date', 'dateloc', 'city', 'treatment']\n",
    "\n",
    "df_1 = df.drop(labels=cols_to_drop, axis=1)\n",
    "# print(df_1.shape)\n",
    "# df_1.head(3)"
   ]
  },
  {
   "cell_type": "code",
   "execution_count": 52,
   "metadata": {},
   "outputs": [
    {
     "name": "stdout",
     "output_type": "stream",
     "text": [
      "(375150, 12)\n"
     ]
    },
    {
     "data": {
      "text/html": [
       "<div>\n",
       "<style scoped>\n",
       "    .dataframe tbody tr th:only-of-type {\n",
       "        vertical-align: middle;\n",
       "    }\n",
       "\n",
       "    .dataframe tbody tr th {\n",
       "        vertical-align: top;\n",
       "    }\n",
       "\n",
       "    .dataframe thead th {\n",
       "        text-align: right;\n",
       "    }\n",
       "</style>\n",
       "<table border=\"1\" class=\"dataframe\">\n",
       "  <thead>\n",
       "    <tr style=\"text-align: right;\">\n",
       "      <th></th>\n",
       "      <th>sitename</th>\n",
       "      <th>lat</th>\n",
       "      <th>lon</th>\n",
       "      <th>raw_date</th>\n",
       "      <th>trait</th>\n",
       "      <th>trait_description</th>\n",
       "      <th>mean</th>\n",
       "      <th>units</th>\n",
       "      <th>cultivar</th>\n",
       "      <th>method_name</th>\n",
       "      <th>range</th>\n",
       "      <th>column</th>\n",
       "    </tr>\n",
       "  </thead>\n",
       "  <tbody>\n",
       "    <tr>\n",
       "      <th>85611</th>\n",
       "      <td>MAC Field Scanner Season 4 Range 33 Column 2</td>\n",
       "      <td>33.075698</td>\n",
       "      <td>-111.975032</td>\n",
       "      <td>2017-06-24 14:00:00 -0500</td>\n",
       "      <td>leaf_angle_alpha</td>\n",
       "      <td>NaN</td>\n",
       "      <td>4.163588</td>\n",
       "      <td>NaN</td>\n",
       "      <td>PI181080</td>\n",
       "      <td>3D scanner to leaf angle distribution</td>\n",
       "      <td>33</td>\n",
       "      <td>2</td>\n",
       "    </tr>\n",
       "    <tr>\n",
       "      <th>269258</th>\n",
       "      <td>MAC Field Scanner Season 4 Range 53 Column 14</td>\n",
       "      <td>33.076417</td>\n",
       "      <td>-111.974836</td>\n",
       "      <td>2017-06-28 14:00:00 -0500</td>\n",
       "      <td>leaf_angle_alpha</td>\n",
       "      <td>NaN</td>\n",
       "      <td>3.189180</td>\n",
       "      <td>NaN</td>\n",
       "      <td>Big_Kahuna</td>\n",
       "      <td>3D scanner to leaf angle distribution</td>\n",
       "      <td>53</td>\n",
       "      <td>14</td>\n",
       "    </tr>\n",
       "    <tr>\n",
       "      <th>63923</th>\n",
       "      <td>MAC Field Scanner Season 4 Range 4 Column 3</td>\n",
       "      <td>33.074655</td>\n",
       "      <td>-111.975015</td>\n",
       "      <td>2017-08-29 14:00:00 -0500</td>\n",
       "      <td>leaf_angle_chi</td>\n",
       "      <td>NaN</td>\n",
       "      <td>1.807663</td>\n",
       "      <td>NaN</td>\n",
       "      <td>PI646251</td>\n",
       "      <td>3D scanner to leaf angle distribution</td>\n",
       "      <td>4</td>\n",
       "      <td>3</td>\n",
       "    </tr>\n",
       "  </tbody>\n",
       "</table>\n",
       "</div>"
      ],
      "text/plain": [
       "                                             sitename        lat         lon  \\\n",
       "85611    MAC Field Scanner Season 4 Range 33 Column 2  33.075698 -111.975032   \n",
       "269258  MAC Field Scanner Season 4 Range 53 Column 14  33.076417 -111.974836   \n",
       "63923     MAC Field Scanner Season 4 Range 4 Column 3  33.074655 -111.975015   \n",
       "\n",
       "                         raw_date             trait trait_description  \\\n",
       "85611   2017-06-24 14:00:00 -0500  leaf_angle_alpha               NaN   \n",
       "269258  2017-06-28 14:00:00 -0500  leaf_angle_alpha               NaN   \n",
       "63923   2017-08-29 14:00:00 -0500    leaf_angle_chi               NaN   \n",
       "\n",
       "            mean units    cultivar                            method_name  \\\n",
       "85611   4.163588   NaN    PI181080  3D scanner to leaf angle distribution   \n",
       "269258  3.189180   NaN  Big_Kahuna  3D scanner to leaf angle distribution   \n",
       "63923   1.807663   NaN    PI646251  3D scanner to leaf angle distribution   \n",
       "\n",
       "        range  column  \n",
       "85611      33       2  \n",
       "269258     53      14  \n",
       "63923       4       3  "
      ]
     },
     "execution_count": 52,
     "metadata": {},
     "output_type": "execute_result"
    }
   ],
   "source": [
    "df_2 = extract_range_column_values(df_1, 'sitename')\n",
    "# print(df_2.shape)\n",
    "# df_2.sample(n=3)"
   ]
  },
  {
   "cell_type": "code",
   "execution_count": 53,
   "metadata": {},
   "outputs": [
    {
     "data": {
      "text/html": [
       "<div>\n",
       "<style scoped>\n",
       "    .dataframe tbody tr th:only-of-type {\n",
       "        vertical-align: middle;\n",
       "    }\n",
       "\n",
       "    .dataframe tbody tr th {\n",
       "        vertical-align: top;\n",
       "    }\n",
       "\n",
       "    .dataframe thead th {\n",
       "        text-align: right;\n",
       "    }\n",
       "</style>\n",
       "<table border=\"1\" class=\"dataframe\">\n",
       "  <thead>\n",
       "    <tr style=\"text-align: right;\">\n",
       "      <th></th>\n",
       "      <th>sitename</th>\n",
       "      <th>lat</th>\n",
       "      <th>lon</th>\n",
       "      <th>trait</th>\n",
       "      <th>trait_description</th>\n",
       "      <th>mean</th>\n",
       "      <th>units</th>\n",
       "      <th>cultivar</th>\n",
       "      <th>method_name</th>\n",
       "      <th>range</th>\n",
       "      <th>column</th>\n",
       "      <th>date</th>\n",
       "    </tr>\n",
       "  </thead>\n",
       "  <tbody>\n",
       "    <tr>\n",
       "      <th>0</th>\n",
       "      <td>MAC Field Scanner Season 4 Range 40 Column 6</td>\n",
       "      <td>33.075949</td>\n",
       "      <td>-111.974966</td>\n",
       "      <td>leaf_angle_beta</td>\n",
       "      <td>NaN</td>\n",
       "      <td>2.033237</td>\n",
       "      <td>NaN</td>\n",
       "      <td>PI329841</td>\n",
       "      <td>3D scanner to leaf angle distribution</td>\n",
       "      <td>40</td>\n",
       "      <td>6</td>\n",
       "      <td>2017-06-08 14:00:00-05:00</td>\n",
       "    </tr>\n",
       "    <tr>\n",
       "      <th>1</th>\n",
       "      <td>MAC Field Scanner Season 4 Range 40 Column 6</td>\n",
       "      <td>33.075949</td>\n",
       "      <td>-111.974966</td>\n",
       "      <td>leaf_angle_chi</td>\n",
       "      <td>NaN</td>\n",
       "      <td>2.523958</td>\n",
       "      <td>NaN</td>\n",
       "      <td>PI329841</td>\n",
       "      <td>3D scanner to leaf angle distribution</td>\n",
       "      <td>40</td>\n",
       "      <td>6</td>\n",
       "      <td>2017-06-08 14:00:00-05:00</td>\n",
       "    </tr>\n",
       "    <tr>\n",
       "      <th>2</th>\n",
       "      <td>MAC Field Scanner Season 4 Range 40 Column 6</td>\n",
       "      <td>33.075949</td>\n",
       "      <td>-111.974966</td>\n",
       "      <td>leaf_angle_mean</td>\n",
       "      <td>NaN</td>\n",
       "      <td>0.373537</td>\n",
       "      <td>normalized degrees</td>\n",
       "      <td>PI329841</td>\n",
       "      <td>3D scanner to leaf angle distribution</td>\n",
       "      <td>40</td>\n",
       "      <td>6</td>\n",
       "      <td>2017-06-19 14:00:00-05:00</td>\n",
       "    </tr>\n",
       "  </tbody>\n",
       "</table>\n",
       "</div>"
      ],
      "text/plain": [
       "                                       sitename        lat         lon  \\\n",
       "0  MAC Field Scanner Season 4 Range 40 Column 6  33.075949 -111.974966   \n",
       "1  MAC Field Scanner Season 4 Range 40 Column 6  33.075949 -111.974966   \n",
       "2  MAC Field Scanner Season 4 Range 40 Column 6  33.075949 -111.974966   \n",
       "\n",
       "             trait trait_description      mean               units  cultivar  \\\n",
       "0  leaf_angle_beta               NaN  2.033237                 NaN  PI329841   \n",
       "1   leaf_angle_chi               NaN  2.523958                 NaN  PI329841   \n",
       "2  leaf_angle_mean               NaN  0.373537  normalized degrees  PI329841   \n",
       "\n",
       "                             method_name  range  column  \\\n",
       "0  3D scanner to leaf angle distribution     40       6   \n",
       "1  3D scanner to leaf angle distribution     40       6   \n",
       "2  3D scanner to leaf angle distribution     40       6   \n",
       "\n",
       "                       date  \n",
       "0 2017-06-08 14:00:00-05:00  \n",
       "1 2017-06-08 14:00:00-05:00  \n",
       "2 2017-06-19 14:00:00-05:00  "
      ]
     },
     "execution_count": 53,
     "metadata": {},
     "output_type": "execute_result"
    }
   ],
   "source": [
    "df_3 = convert_datetime_column(df_2, 'raw_date')\n",
    "# df_3.head(3)"
   ]
  },
  {
   "cell_type": "markdown",
   "metadata": {},
   "source": [
    "#### A. Aboveground Dry Biomass"
   ]
  },
  {
   "cell_type": "code",
   "execution_count": 54,
   "metadata": {},
   "outputs": [
    {
     "name": "stdout",
     "output_type": "stream",
     "text": [
      "(867, 12)\n"
     ]
    },
    {
     "data": {
      "text/html": [
       "<div>\n",
       "<style scoped>\n",
       "    .dataframe tbody tr th:only-of-type {\n",
       "        vertical-align: middle;\n",
       "    }\n",
       "\n",
       "    .dataframe tbody tr th {\n",
       "        vertical-align: top;\n",
       "    }\n",
       "\n",
       "    .dataframe thead th {\n",
       "        text-align: right;\n",
       "    }\n",
       "</style>\n",
       "<table border=\"1\" class=\"dataframe\">\n",
       "  <thead>\n",
       "    <tr style=\"text-align: right;\">\n",
       "      <th></th>\n",
       "      <th>sitename</th>\n",
       "      <th>lat</th>\n",
       "      <th>lon</th>\n",
       "      <th>trait</th>\n",
       "      <th>trait_description</th>\n",
       "      <th>mean</th>\n",
       "      <th>units</th>\n",
       "      <th>cultivar</th>\n",
       "      <th>method_name</th>\n",
       "      <th>range</th>\n",
       "      <th>column</th>\n",
       "      <th>date</th>\n",
       "    </tr>\n",
       "  </thead>\n",
       "  <tbody>\n",
       "    <tr>\n",
       "      <th>2799</th>\n",
       "      <td>MAC Field Scanner Season 4 Range 30 Column 5</td>\n",
       "      <td>33.075590</td>\n",
       "      <td>-111.974983</td>\n",
       "      <td>aboveground_dry_biomass</td>\n",
       "      <td>Aboveground Dry Biomass</td>\n",
       "      <td>22040.0</td>\n",
       "      <td>kg / ha</td>\n",
       "      <td>PI152727</td>\n",
       "      <td>Whole above ground biomass at harvest</td>\n",
       "      <td>30</td>\n",
       "      <td>5</td>\n",
       "      <td>2017-09-12 00:00:00-05:00</td>\n",
       "    </tr>\n",
       "    <tr>\n",
       "      <th>7651</th>\n",
       "      <td>MAC Field Scanner Season 4 Range 30 Column 9</td>\n",
       "      <td>33.075590</td>\n",
       "      <td>-111.974917</td>\n",
       "      <td>aboveground_dry_biomass</td>\n",
       "      <td>Aboveground Dry Biomass</td>\n",
       "      <td>12940.0</td>\n",
       "      <td>kg / ha</td>\n",
       "      <td>PI329518</td>\n",
       "      <td>Whole above ground biomass at harvest</td>\n",
       "      <td>30</td>\n",
       "      <td>9</td>\n",
       "      <td>2017-09-15 00:00:00-05:00</td>\n",
       "    </tr>\n",
       "    <tr>\n",
       "      <th>22687</th>\n",
       "      <td>MAC Field Scanner Season 4 Range 2 Column 5</td>\n",
       "      <td>33.074584</td>\n",
       "      <td>-111.974982</td>\n",
       "      <td>aboveground_dry_biomass</td>\n",
       "      <td>Aboveground Dry Biomass</td>\n",
       "      <td>37330.0</td>\n",
       "      <td>kg / ha</td>\n",
       "      <td>SP1615</td>\n",
       "      <td>Whole above ground biomass at harvest</td>\n",
       "      <td>2</td>\n",
       "      <td>5</td>\n",
       "      <td>2017-09-12 00:00:00-05:00</td>\n",
       "    </tr>\n",
       "    <tr>\n",
       "      <th>22688</th>\n",
       "      <td>MAC Field Scanner Season 4 Range 11 Column 7</td>\n",
       "      <td>33.074907</td>\n",
       "      <td>-111.974949</td>\n",
       "      <td>aboveground_dry_biomass</td>\n",
       "      <td>Aboveground Dry Biomass</td>\n",
       "      <td>22030.0</td>\n",
       "      <td>kg / ha</td>\n",
       "      <td>PI656015</td>\n",
       "      <td>Whole above ground biomass at harvest</td>\n",
       "      <td>11</td>\n",
       "      <td>7</td>\n",
       "      <td>2017-09-12 00:00:00-05:00</td>\n",
       "    </tr>\n",
       "    <tr>\n",
       "      <th>22689</th>\n",
       "      <td>MAC Field Scanner Season 4 Range 22 Column 7</td>\n",
       "      <td>33.075302</td>\n",
       "      <td>-111.974950</td>\n",
       "      <td>aboveground_dry_biomass</td>\n",
       "      <td>Aboveground Dry Biomass</td>\n",
       "      <td>32030.0</td>\n",
       "      <td>kg / ha</td>\n",
       "      <td>PI330196</td>\n",
       "      <td>Whole above ground biomass at harvest</td>\n",
       "      <td>22</td>\n",
       "      <td>7</td>\n",
       "      <td>2017-09-12 00:00:00-05:00</td>\n",
       "    </tr>\n",
       "  </tbody>\n",
       "</table>\n",
       "</div>"
      ],
      "text/plain": [
       "                                           sitename        lat         lon  \\\n",
       "2799   MAC Field Scanner Season 4 Range 30 Column 5  33.075590 -111.974983   \n",
       "7651   MAC Field Scanner Season 4 Range 30 Column 9  33.075590 -111.974917   \n",
       "22687   MAC Field Scanner Season 4 Range 2 Column 5  33.074584 -111.974982   \n",
       "22688  MAC Field Scanner Season 4 Range 11 Column 7  33.074907 -111.974949   \n",
       "22689  MAC Field Scanner Season 4 Range 22 Column 7  33.075302 -111.974950   \n",
       "\n",
       "                         trait        trait_description     mean    units  \\\n",
       "2799   aboveground_dry_biomass  Aboveground Dry Biomass  22040.0  kg / ha   \n",
       "7651   aboveground_dry_biomass  Aboveground Dry Biomass  12940.0  kg / ha   \n",
       "22687  aboveground_dry_biomass  Aboveground Dry Biomass  37330.0  kg / ha   \n",
       "22688  aboveground_dry_biomass  Aboveground Dry Biomass  22030.0  kg / ha   \n",
       "22689  aboveground_dry_biomass  Aboveground Dry Biomass  32030.0  kg / ha   \n",
       "\n",
       "       cultivar                            method_name  range  column  \\\n",
       "2799   PI152727  Whole above ground biomass at harvest     30       5   \n",
       "7651   PI329518  Whole above ground biomass at harvest     30       9   \n",
       "22687    SP1615  Whole above ground biomass at harvest      2       5   \n",
       "22688  PI656015  Whole above ground biomass at harvest     11       7   \n",
       "22689  PI330196  Whole above ground biomass at harvest     22       7   \n",
       "\n",
       "                           date  \n",
       "2799  2017-09-12 00:00:00-05:00  \n",
       "7651  2017-09-15 00:00:00-05:00  \n",
       "22687 2017-09-12 00:00:00-05:00  \n",
       "22688 2017-09-12 00:00:00-05:00  \n",
       "22689 2017-09-12 00:00:00-05:00  "
      ]
     },
     "execution_count": 54,
     "metadata": {},
     "output_type": "execute_result"
    }
   ],
   "source": [
    "adb_0 = df_3.loc[df['trait'] == 'aboveground_dry_biomass']\n",
    "# print(adb_0.shape)\n",
    "# adb_0.head()"
   ]
  },
  {
   "cell_type": "code",
   "execution_count": 55,
   "metadata": {},
   "outputs": [
    {
     "data": {
      "text/plain": [
       "Text(0.5, 0, 'aboveground_dry_biomass')"
      ]
     },
     "execution_count": 55,
     "metadata": {},
     "output_type": "execute_result"
    },
    {
     "data": {
      "image/png": "[encoded data removed]",
      "text/plain": [
       "<Figure size 432x288 with 1 Axes>"
      ]
     },
     "metadata": {
      "needs_background": "light"
     },
     "output_type": "display_data"
    }
   ],
   "source": [
    "# plot_hist(adb_0, 'mean', 'trait')"
   ]
  },
  {
   "cell_type": "code",
   "execution_count": 56,
   "metadata": {},
   "outputs": [
    {
     "name": "stdout",
     "output_type": "stream",
     "text": [
      "Sum of null values:\n",
      "sitename             0\n",
      "lat                  0\n",
      "lon                  0\n",
      "trait                0\n",
      "trait_description    0\n",
      "mean                 0\n",
      "units                0\n",
      "cultivar             0\n",
      "method_name          0\n",
      "range                0\n",
      "column               0\n",
      "date                 0\n",
      "dtype: int64\n",
      "-----\n",
      "Value counts for duplicates:\n",
      "False    544\n",
      "True     323\n",
      "dtype: int64\n"
     ]
    }
   ],
   "source": [
    "# check_for_nulls_duplicates(adb_0)"
   ]
  },
  {
   "cell_type": "code",
   "execution_count": 65,
   "metadata": {},
   "outputs": [
    {
     "name": "stdout",
     "output_type": "stream",
     "text": [
      "(544, 12)\n"
     ]
    },
    {
     "data": {
      "text/html": [
       "<div>\n",
       "<style scoped>\n",
       "    .dataframe tbody tr th:only-of-type {\n",
       "        vertical-align: middle;\n",
       "    }\n",
       "\n",
       "    .dataframe tbody tr th {\n",
       "        vertical-align: top;\n",
       "    }\n",
       "\n",
       "    .dataframe thead th {\n",
       "        text-align: right;\n",
       "    }\n",
       "</style>\n",
       "<table border=\"1\" class=\"dataframe\">\n",
       "  <thead>\n",
       "    <tr style=\"text-align: right;\">\n",
       "      <th></th>\n",
       "      <th>sitename</th>\n",
       "      <th>lat</th>\n",
       "      <th>lon</th>\n",
       "      <th>trait</th>\n",
       "      <th>trait_description</th>\n",
       "      <th>mean</th>\n",
       "      <th>units</th>\n",
       "      <th>cultivar</th>\n",
       "      <th>method_name</th>\n",
       "      <th>range</th>\n",
       "      <th>column</th>\n",
       "      <th>date</th>\n",
       "    </tr>\n",
       "  </thead>\n",
       "  <tbody>\n",
       "    <tr>\n",
       "      <th>0</th>\n",
       "      <td>MAC Field Scanner Season 4 Range 30 Column 5</td>\n",
       "      <td>33.075590</td>\n",
       "      <td>-111.974983</td>\n",
       "      <td>aboveground_dry_biomass</td>\n",
       "      <td>Aboveground Dry Biomass</td>\n",
       "      <td>22040.0</td>\n",
       "      <td>kg / ha</td>\n",
       "      <td>PI152727</td>\n",
       "      <td>Whole above ground biomass at harvest</td>\n",
       "      <td>30</td>\n",
       "      <td>5</td>\n",
       "      <td>2017-09-12 00:00:00-05:00</td>\n",
       "    </tr>\n",
       "    <tr>\n",
       "      <th>1</th>\n",
       "      <td>MAC Field Scanner Season 4 Range 30 Column 9</td>\n",
       "      <td>33.075590</td>\n",
       "      <td>-111.974917</td>\n",
       "      <td>aboveground_dry_biomass</td>\n",
       "      <td>Aboveground Dry Biomass</td>\n",
       "      <td>12940.0</td>\n",
       "      <td>kg / ha</td>\n",
       "      <td>PI329518</td>\n",
       "      <td>Whole above ground biomass at harvest</td>\n",
       "      <td>30</td>\n",
       "      <td>9</td>\n",
       "      <td>2017-09-15 00:00:00-05:00</td>\n",
       "    </tr>\n",
       "    <tr>\n",
       "      <th>2</th>\n",
       "      <td>MAC Field Scanner Season 4 Range 2 Column 5</td>\n",
       "      <td>33.074584</td>\n",
       "      <td>-111.974982</td>\n",
       "      <td>aboveground_dry_biomass</td>\n",
       "      <td>Aboveground Dry Biomass</td>\n",
       "      <td>37330.0</td>\n",
       "      <td>kg / ha</td>\n",
       "      <td>SP1615</td>\n",
       "      <td>Whole above ground biomass at harvest</td>\n",
       "      <td>2</td>\n",
       "      <td>5</td>\n",
       "      <td>2017-09-12 00:00:00-05:00</td>\n",
       "    </tr>\n",
       "  </tbody>\n",
       "</table>\n",
       "</div>"
      ],
      "text/plain": [
       "                                       sitename        lat         lon  \\\n",
       "0  MAC Field Scanner Season 4 Range 30 Column 5  33.075590 -111.974983   \n",
       "1  MAC Field Scanner Season 4 Range 30 Column 9  33.075590 -111.974917   \n",
       "2   MAC Field Scanner Season 4 Range 2 Column 5  33.074584 -111.974982   \n",
       "\n",
       "                     trait        trait_description     mean    units  \\\n",
       "0  aboveground_dry_biomass  Aboveground Dry Biomass  22040.0  kg / ha   \n",
       "1  aboveground_dry_biomass  Aboveground Dry Biomass  12940.0  kg / ha   \n",
       "2  aboveground_dry_biomass  Aboveground Dry Biomass  37330.0  kg / ha   \n",
       "\n",
       "   cultivar                            method_name  range  column  \\\n",
       "0  PI152727  Whole above ground biomass at harvest     30       5   \n",
       "1  PI329518  Whole above ground biomass at harvest     30       9   \n",
       "2    SP1615  Whole above ground biomass at harvest      2       5   \n",
       "\n",
       "                       date  \n",
       "0 2017-09-12 00:00:00-05:00  \n",
       "1 2017-09-15 00:00:00-05:00  \n",
       "2 2017-09-12 00:00:00-05:00  "
      ]
     },
     "execution_count": 65,
     "metadata": {},
     "output_type": "execute_result"
    }
   ],
   "source": [
    "adb_1 = adb_0.drop_duplicates(ignore_index=True)\n",
    "# print(adb_1.shape)\n",
    "# adb_1.head(3)"
   ]
  },
  {
   "cell_type": "code",
   "execution_count": 66,
   "metadata": {},
   "outputs": [
    {
     "data": {
      "text/plain": [
       "'No subplot designations'"
      ]
     },
     "execution_count": 66,
     "metadata": {},
     "output_type": "execute_result"
    }
   ],
   "source": [
    "# check_for_subplots(adb_1, 'sitename')"
   ]
  },
  {
   "cell_type": "code",
   "execution_count": 67,
   "metadata": {},
   "outputs": [
    {
     "name": "stdout",
     "output_type": "stream",
     "text": [
      "(544, 11)\n"
     ]
    },
    {
     "data": {
      "text/html": [
       "<div>\n",
       "<style scoped>\n",
       "    .dataframe tbody tr th:only-of-type {\n",
       "        vertical-align: middle;\n",
       "    }\n",
       "\n",
       "    .dataframe tbody tr th {\n",
       "        vertical-align: top;\n",
       "    }\n",
       "\n",
       "    .dataframe thead th {\n",
       "        text-align: right;\n",
       "    }\n",
       "</style>\n",
       "<table border=\"1\" class=\"dataframe\">\n",
       "  <thead>\n",
       "    <tr style=\"text-align: right;\">\n",
       "      <th></th>\n",
       "      <th>sitename</th>\n",
       "      <th>lat</th>\n",
       "      <th>lon</th>\n",
       "      <th>trait_description</th>\n",
       "      <th>aboveground_dry_biomass</th>\n",
       "      <th>units</th>\n",
       "      <th>cultivar</th>\n",
       "      <th>method_name</th>\n",
       "      <th>range</th>\n",
       "      <th>column</th>\n",
       "      <th>date</th>\n",
       "    </tr>\n",
       "  </thead>\n",
       "  <tbody>\n",
       "    <tr>\n",
       "      <th>539</th>\n",
       "      <td>MAC Field Scanner Season 4 Range 44 Column 5</td>\n",
       "      <td>33.076093</td>\n",
       "      <td>-111.974983</td>\n",
       "      <td>Aboveground Dry Biomass</td>\n",
       "      <td>33770.0</td>\n",
       "      <td>kg / ha</td>\n",
       "      <td>PI156268</td>\n",
       "      <td>Whole above ground biomass at harvest</td>\n",
       "      <td>44</td>\n",
       "      <td>5</td>\n",
       "      <td>2017-09-12 00:00:00-05:00</td>\n",
       "    </tr>\n",
       "    <tr>\n",
       "      <th>540</th>\n",
       "      <td>MAC Field Scanner Season 4 Range 40 Column 13</td>\n",
       "      <td>33.075949</td>\n",
       "      <td>-111.974852</td>\n",
       "      <td>Aboveground Dry Biomass</td>\n",
       "      <td>22540.0</td>\n",
       "      <td>kg / ha</td>\n",
       "      <td>PI569148</td>\n",
       "      <td>Whole above ground biomass at harvest</td>\n",
       "      <td>40</td>\n",
       "      <td>13</td>\n",
       "      <td>2017-09-16 00:00:00-05:00</td>\n",
       "    </tr>\n",
       "    <tr>\n",
       "      <th>541</th>\n",
       "      <td>MAC Field Scanner Season 4 Range 50 Column 7</td>\n",
       "      <td>33.076309</td>\n",
       "      <td>-111.974950</td>\n",
       "      <td>Aboveground Dry Biomass</td>\n",
       "      <td>22150.0</td>\n",
       "      <td>kg / ha</td>\n",
       "      <td>PI154988</td>\n",
       "      <td>Whole above ground biomass at harvest</td>\n",
       "      <td>50</td>\n",
       "      <td>7</td>\n",
       "      <td>2017-09-12 00:00:00-05:00</td>\n",
       "    </tr>\n",
       "    <tr>\n",
       "      <th>542</th>\n",
       "      <td>MAC Field Scanner Season 4 Range 52 Column 6</td>\n",
       "      <td>33.076381</td>\n",
       "      <td>-111.974967</td>\n",
       "      <td>Aboveground Dry Biomass</td>\n",
       "      <td>30780.0</td>\n",
       "      <td>kg / ha</td>\n",
       "      <td>PI152751</td>\n",
       "      <td>Whole above ground biomass at harvest</td>\n",
       "      <td>52</td>\n",
       "      <td>6</td>\n",
       "      <td>2017-09-12 00:00:00-05:00</td>\n",
       "    </tr>\n",
       "    <tr>\n",
       "      <th>543</th>\n",
       "      <td>MAC Field Scanner Season 4 Range 52 Column 7</td>\n",
       "      <td>33.076381</td>\n",
       "      <td>-111.974950</td>\n",
       "      <td>Aboveground Dry Biomass</td>\n",
       "      <td>35770.0</td>\n",
       "      <td>kg / ha</td>\n",
       "      <td>PI329299</td>\n",
       "      <td>Whole above ground biomass at harvest</td>\n",
       "      <td>52</td>\n",
       "      <td>7</td>\n",
       "      <td>2017-09-12 00:00:00-05:00</td>\n",
       "    </tr>\n",
       "  </tbody>\n",
       "</table>\n",
       "</div>"
      ],
      "text/plain": [
       "                                          sitename        lat         lon  \\\n",
       "539   MAC Field Scanner Season 4 Range 44 Column 5  33.076093 -111.974983   \n",
       "540  MAC Field Scanner Season 4 Range 40 Column 13  33.075949 -111.974852   \n",
       "541   MAC Field Scanner Season 4 Range 50 Column 7  33.076309 -111.974950   \n",
       "542   MAC Field Scanner Season 4 Range 52 Column 6  33.076381 -111.974967   \n",
       "543   MAC Field Scanner Season 4 Range 52 Column 7  33.076381 -111.974950   \n",
       "\n",
       "           trait_description  aboveground_dry_biomass    units  cultivar  \\\n",
       "539  Aboveground Dry Biomass                  33770.0  kg / ha  PI156268   \n",
       "540  Aboveground Dry Biomass                  22540.0  kg / ha  PI569148   \n",
       "541  Aboveground Dry Biomass                  22150.0  kg / ha  PI154988   \n",
       "542  Aboveground Dry Biomass                  30780.0  kg / ha  PI152751   \n",
       "543  Aboveground Dry Biomass                  35770.0  kg / ha  PI329299   \n",
       "\n",
       "                               method_name  range  column  \\\n",
       "539  Whole above ground biomass at harvest     44       5   \n",
       "540  Whole above ground biomass at harvest     40      13   \n",
       "541  Whole above ground biomass at harvest     50       7   \n",
       "542  Whole above ground biomass at harvest     52       6   \n",
       "543  Whole above ground biomass at harvest     52       7   \n",
       "\n",
       "                         date  \n",
       "539 2017-09-12 00:00:00-05:00  \n",
       "540 2017-09-16 00:00:00-05:00  \n",
       "541 2017-09-12 00:00:00-05:00  \n",
       "542 2017-09-12 00:00:00-05:00  \n",
       "543 2017-09-12 00:00:00-05:00  "
      ]
     },
     "execution_count": 67,
     "metadata": {},
     "output_type": "execute_result"
    }
   ],
   "source": [
    "adb_2 = rename_value_column(adb_1, 'mean', 'trait')\n",
    "# print(adb_2.shape)\n",
    "# adb_2.tail()"
   ]
  },
  {
   "cell_type": "code",
   "execution_count": 68,
   "metadata": {},
   "outputs": [
    {
     "name": "stdout",
     "output_type": "stream",
     "text": [
      "(544, 12)\n"
     ]
    },
    {
     "data": {
      "text/html": [
       "<div>\n",
       "<style scoped>\n",
       "    .dataframe tbody tr th:only-of-type {\n",
       "        vertical-align: middle;\n",
       "    }\n",
       "\n",
       "    .dataframe tbody tr th {\n",
       "        vertical-align: top;\n",
       "    }\n",
       "\n",
       "    .dataframe thead th {\n",
       "        text-align: right;\n",
       "    }\n",
       "</style>\n",
       "<table border=\"1\" class=\"dataframe\">\n",
       "  <thead>\n",
       "    <tr style=\"text-align: right;\">\n",
       "      <th></th>\n",
       "      <th>sitename</th>\n",
       "      <th>lat</th>\n",
       "      <th>lon</th>\n",
       "      <th>trait_description</th>\n",
       "      <th>aboveground_dry_biomass</th>\n",
       "      <th>units</th>\n",
       "      <th>cultivar</th>\n",
       "      <th>method_name</th>\n",
       "      <th>range</th>\n",
       "      <th>column</th>\n",
       "      <th>date</th>\n",
       "      <th>blocking_height</th>\n",
       "    </tr>\n",
       "  </thead>\n",
       "  <tbody>\n",
       "    <tr>\n",
       "      <th>457</th>\n",
       "      <td>MAC Field Scanner Season 4 Range 49 Column 6</td>\n",
       "      <td>33.076273</td>\n",
       "      <td>-111.974966</td>\n",
       "      <td>Aboveground Dry Biomass</td>\n",
       "      <td>23670.0</td>\n",
       "      <td>kg / ha</td>\n",
       "      <td>PI570038</td>\n",
       "      <td>Whole above ground biomass at harvest</td>\n",
       "      <td>49</td>\n",
       "      <td>6</td>\n",
       "      <td>2017-09-12 00:00:00-05:00</td>\n",
       "      <td>tall</td>\n",
       "    </tr>\n",
       "    <tr>\n",
       "      <th>484</th>\n",
       "      <td>MAC Field Scanner Season 4 Range 40 Column 2</td>\n",
       "      <td>33.075949</td>\n",
       "      <td>-111.975032</td>\n",
       "      <td>Aboveground Dry Biomass</td>\n",
       "      <td>27310.0</td>\n",
       "      <td>kg / ha</td>\n",
       "      <td>PI329310</td>\n",
       "      <td>Whole above ground biomass at harvest</td>\n",
       "      <td>40</td>\n",
       "      <td>2</td>\n",
       "      <td>2017-09-11 00:00:00-05:00</td>\n",
       "      <td>tall</td>\n",
       "    </tr>\n",
       "    <tr>\n",
       "      <th>415</th>\n",
       "      <td>MAC Field Scanner Season 4 Range 37 Column 8</td>\n",
       "      <td>33.075842</td>\n",
       "      <td>-111.974934</td>\n",
       "      <td>Aboveground Dry Biomass</td>\n",
       "      <td>20910.0</td>\n",
       "      <td>kg / ha</td>\n",
       "      <td>PI562970</td>\n",
       "      <td>Whole above ground biomass at harvest</td>\n",
       "      <td>37</td>\n",
       "      <td>8</td>\n",
       "      <td>2017-09-12 00:00:00-05:00</td>\n",
       "      <td>tall</td>\n",
       "    </tr>\n",
       "  </tbody>\n",
       "</table>\n",
       "</div>"
      ],
      "text/plain": [
       "                                         sitename        lat         lon  \\\n",
       "457  MAC Field Scanner Season 4 Range 49 Column 6  33.076273 -111.974966   \n",
       "484  MAC Field Scanner Season 4 Range 40 Column 2  33.075949 -111.975032   \n",
       "415  MAC Field Scanner Season 4 Range 37 Column 8  33.075842 -111.974934   \n",
       "\n",
       "           trait_description  aboveground_dry_biomass    units  cultivar  \\\n",
       "457  Aboveground Dry Biomass                  23670.0  kg / ha  PI570038   \n",
       "484  Aboveground Dry Biomass                  27310.0  kg / ha  PI329310   \n",
       "415  Aboveground Dry Biomass                  20910.0  kg / ha  PI562970   \n",
       "\n",
       "                               method_name  range  column  \\\n",
       "457  Whole above ground biomass at harvest     49       6   \n",
       "484  Whole above ground biomass at harvest     40       2   \n",
       "415  Whole above ground biomass at harvest     37       8   \n",
       "\n",
       "                         date blocking_height  \n",
       "457 2017-09-12 00:00:00-05:00            tall  \n",
       "484 2017-09-11 00:00:00-05:00            tall  \n",
       "415 2017-09-12 00:00:00-05:00            tall  "
      ]
     },
     "execution_count": 68,
     "metadata": {},
     "output_type": "execute_result"
    }
   ],
   "source": [
    "adb_3 = add_season_4_blocking_height(adb_2, 'range')\n",
    "# print(adb_3.shape)\n",
    "# adb_3.sample(n=3)"
   ]
  },
  {
   "cell_type": "code",
   "execution_count": 71,
   "metadata": {},
   "outputs": [
    {
     "name": "stdout",
     "output_type": "stream",
     "text": [
      "(544, 11)\n"
     ]
    },
    {
     "data": {
      "text/html": [
       "<div>\n",
       "<style scoped>\n",
       "    .dataframe tbody tr th:only-of-type {\n",
       "        vertical-align: middle;\n",
       "    }\n",
       "\n",
       "    .dataframe tbody tr th {\n",
       "        vertical-align: top;\n",
       "    }\n",
       "\n",
       "    .dataframe thead th {\n",
       "        text-align: right;\n",
       "    }\n",
       "</style>\n",
       "<table border=\"1\" class=\"dataframe\">\n",
       "  <thead>\n",
       "    <tr style=\"text-align: right;\">\n",
       "      <th></th>\n",
       "      <th>date</th>\n",
       "      <th>sitename</th>\n",
       "      <th>range</th>\n",
       "      <th>column</th>\n",
       "      <th>lat</th>\n",
       "      <th>lon</th>\n",
       "      <th>cultivar</th>\n",
       "      <th>aboveground_dry_biomass</th>\n",
       "      <th>units</th>\n",
       "      <th>method_name</th>\n",
       "      <th>blocking_height</th>\n",
       "    </tr>\n",
       "  </thead>\n",
       "  <tbody>\n",
       "    <tr>\n",
       "      <th>0</th>\n",
       "      <td>2017-09-12 00:00:00-05:00</td>\n",
       "      <td>MAC Field Scanner Season 4 Range 30 Column 5</td>\n",
       "      <td>30</td>\n",
       "      <td>5</td>\n",
       "      <td>33.075590</td>\n",
       "      <td>-111.974983</td>\n",
       "      <td>PI152727</td>\n",
       "      <td>22040.0</td>\n",
       "      <td>kg / ha</td>\n",
       "      <td>Whole above ground biomass at harvest</td>\n",
       "      <td>tall</td>\n",
       "    </tr>\n",
       "    <tr>\n",
       "      <th>1</th>\n",
       "      <td>2017-09-15 00:00:00-05:00</td>\n",
       "      <td>MAC Field Scanner Season 4 Range 30 Column 9</td>\n",
       "      <td>30</td>\n",
       "      <td>9</td>\n",
       "      <td>33.075590</td>\n",
       "      <td>-111.974917</td>\n",
       "      <td>PI329518</td>\n",
       "      <td>12940.0</td>\n",
       "      <td>kg / ha</td>\n",
       "      <td>Whole above ground biomass at harvest</td>\n",
       "      <td>tall</td>\n",
       "    </tr>\n",
       "    <tr>\n",
       "      <th>2</th>\n",
       "      <td>2017-09-12 00:00:00-05:00</td>\n",
       "      <td>MAC Field Scanner Season 4 Range 2 Column 5</td>\n",
       "      <td>2</td>\n",
       "      <td>5</td>\n",
       "      <td>33.074584</td>\n",
       "      <td>-111.974982</td>\n",
       "      <td>SP1615</td>\n",
       "      <td>37330.0</td>\n",
       "      <td>kg / ha</td>\n",
       "      <td>Whole above ground biomass at harvest</td>\n",
       "      <td>border</td>\n",
       "    </tr>\n",
       "  </tbody>\n",
       "</table>\n",
       "</div>"
      ],
      "text/plain": [
       "                       date                                      sitename  \\\n",
       "0 2017-09-12 00:00:00-05:00  MAC Field Scanner Season 4 Range 30 Column 5   \n",
       "1 2017-09-15 00:00:00-05:00  MAC Field Scanner Season 4 Range 30 Column 9   \n",
       "2 2017-09-12 00:00:00-05:00   MAC Field Scanner Season 4 Range 2 Column 5   \n",
       "\n",
       "   range  column        lat         lon  cultivar  aboveground_dry_biomass  \\\n",
       "0     30       5  33.075590 -111.974983  PI152727                  22040.0   \n",
       "1     30       9  33.075590 -111.974917  PI329518                  12940.0   \n",
       "2      2       5  33.074584 -111.974982    SP1615                  37330.0   \n",
       "\n",
       "     units                            method_name blocking_height  \n",
       "0  kg / ha  Whole above ground biomass at harvest            tall  \n",
       "1  kg / ha  Whole above ground biomass at harvest            tall  \n",
       "2  kg / ha  Whole above ground biomass at harvest          border  "
      ]
     },
     "execution_count": 71,
     "metadata": {},
     "output_type": "execute_result"
    }
   ],
   "source": [
    "new_col_order = ['date', 'sitename', 'range', 'column', 'lat', 'lon', 'cultivar', 'aboveground_dry_biomass', \n",
    "                 'units', 'method_name', 'blocking_height']\n",
    "\n",
    "adb_4 = reorder_columns(adb_3, new_col_order)\n",
    "# print(adb_4.shape)\n",
    "# adb_4.head(3)"
   ]
  },
  {
   "cell_type": "markdown",
   "metadata": {},
   "source": [
    "#### B. Canopy Height - Sensor"
   ]
  },
  {
   "cell_type": "code",
   "execution_count": null,
   "metadata": {},
   "outputs": [],
   "source": [
    "ch_0 = pd.read_csv('data/raw/season_4_traits/season_4_canopy_height_sensor.csv')\n",
    "print(ch_0.shape)\n",
    "# ch_0.head()"
   ]
  },
  {
   "cell_type": "code",
   "execution_count": null,
   "metadata": {},
   "outputs": [],
   "source": [
    "# check_unique_values(ch_0)"
   ]
  },
  {
   "cell_type": "code",
   "execution_count": null,
   "metadata": {},
   "outputs": [],
   "source": [
    "check_for_nulls_duplicates(ch_0)"
   ]
  },
  {
   "cell_type": "markdown",
   "metadata": {},
   "source": [
    "#### Drop duplicates"
   ]
  },
  {
   "cell_type": "code",
   "execution_count": null,
   "metadata": {},
   "outputs": [],
   "source": [
    "ch_1 = ch_0.drop_duplicates(ignore_index=True)\n",
    "print(ch_1.shape)\n",
    "check_for_nulls_duplicates(ch_1)"
   ]
  },
  {
   "cell_type": "code",
   "execution_count": null,
   "metadata": {},
   "outputs": [],
   "source": [
    "check_for_subplots(ch_1, 'plot')"
   ]
  },
  {
   "cell_type": "code",
   "execution_count": null,
   "metadata": {},
   "outputs": [],
   "source": [
    "ch_2 = extract_range_column_values(ch_1, 'plot')\n",
    "print(ch_2.shape)\n",
    "# ch_2.sample(n=3)"
   ]
  },
  {
   "cell_type": "code",
   "execution_count": null,
   "metadata": {},
   "outputs": [],
   "source": [
    "ch_3 = convert_datetime_column(ch_2, 'date')\n",
    "print(ch_3.shape)\n",
    "# ch_3.dtypes"
   ]
  },
  {
   "cell_type": "code",
   "execution_count": null,
   "metadata": {},
   "outputs": [],
   "source": [
    "ch_4 = rename_value_column(ch_3, 'mean', 'trait')\n",
    "print(ch_4.shape)\n",
    "# ch_4.tail(3)"
   ]
  },
  {
   "cell_type": "code",
   "execution_count": null,
   "metadata": {},
   "outputs": [],
   "source": [
    "ch_5 = add_season_4_blocking_height(ch_4, 'range')\n",
    "# ch_5.sample(n=3)"
   ]
  },
  {
   "cell_type": "code",
   "execution_count": null,
   "metadata": {},
   "outputs": [],
   "source": [
    "ch_6 = ch_5.drop(labels=['checked', 'author', 'season'], axis=1)\n",
    "print(ch_6.shape)"
   ]
  },
  {
   "cell_type": "markdown",
   "metadata": {},
   "source": [
    "#### Add units column\n",
    "- cm"
   ]
  },
  {
   "cell_type": "code",
   "execution_count": null,
   "metadata": {},
   "outputs": [],
   "source": [
    "ch_7 = ch_6.copy()\n",
    "ch_7['units'] = 'cm'\n",
    "print(ch_7.shape)\n",
    "# ch_7.head(3)"
   ]
  },
  {
   "cell_type": "code",
   "execution_count": null,
   "metadata": {},
   "outputs": [],
   "source": [
    "new_col_order = ['date', 'plot', 'range', 'column', 'scientificname', 'genotype', 'treatment', 'blocking_height', \n",
    "                 'method', 'canopy_height', 'units', 'method_type']\n",
    "\n",
    "ch_8 = reorder_columns(ch_7, new_col_order)\n",
    "print(ch_8.shape)\n",
    "ch_8.head(3)"
   ]
  },
  {
   "cell_type": "markdown",
   "metadata": {},
   "source": [
    "#### C. Canopy Height - Manual\n",
    "- using SQLite for `groupby`"
   ]
  },
  {
   "cell_type": "code",
   "execution_count": null,
   "metadata": {},
   "outputs": [],
   "source": [
    "chm_0 = pd.read_csv('data/raw/season_4_traits/season_4_canopy_height_manual.csv')\n",
    "print(chm_0.shape)\n",
    "# chm_0.head()"
   ]
  },
  {
   "cell_type": "code",
   "execution_count": null,
   "metadata": {},
   "outputs": [],
   "source": [
    "check_for_nulls_duplicates(chm_0)"
   ]
  },
  {
   "cell_type": "code",
   "execution_count": null,
   "metadata": {},
   "outputs": [],
   "source": [
    "# check_unique_values(chm_0)"
   ]
  },
  {
   "cell_type": "code",
   "execution_count": null,
   "metadata": {},
   "outputs": [],
   "source": [
    "chm_1 = extract_range_column_values(chm_0, 'plot')\n",
    "print(chm_1.shape)\n",
    "# chm_1.sample(n=3)"
   ]
  },
  {
   "cell_type": "code",
   "execution_count": null,
   "metadata": {},
   "outputs": [],
   "source": [
    "chm_2 = convert_datetime_column(chm_1, 'date')\n",
    "print(chm_2.shape)\n",
    "# chm_2.head()"
   ]
  },
  {
   "cell_type": "markdown",
   "metadata": {},
   "source": [
    "#### Identify and Remove Subplot Designations"
   ]
  },
  {
   "cell_type": "code",
   "execution_count": null,
   "metadata": {},
   "outputs": [],
   "source": [
    "check_for_subplots(chm_2, 'plot')"
   ]
  },
  {
   "cell_type": "code",
   "execution_count": null,
   "metadata": {},
   "outputs": [],
   "source": [
    "chm_3 = strip_subplots(chm_2, 'plot', 'plot')\n",
    "print(chm_3.shape)\n",
    "# chm_3.sample(n=3)"
   ]
  },
  {
   "cell_type": "code",
   "execution_count": null,
   "metadata": {},
   "outputs": [],
   "source": [
    "check_for_subplots(chm_3, 'plot')"
   ]
  },
  {
   "cell_type": "code",
   "execution_count": null,
   "metadata": {},
   "outputs": [],
   "source": [
    "# check for plot/date/mean/treatment duplicates\n",
    "\n",
    "chm_3.duplicated(subset=['plot', 'date', 'mean', 'treatment']).value_counts()"
   ]
  },
  {
   "cell_type": "code",
   "execution_count": null,
   "metadata": {},
   "outputs": [],
   "source": [
    "# Drop Duplicates\n",
    "\n",
    "chm_4 = chm_3.drop_duplicates(ignore_index=True, subset=['plot', 'genotype', 'treatment', 'mean', 'range', 'column',\n",
    "                                                        'date'])\n",
    "\n",
    "print(chm_4.shape)\n",
    "chm_4.duplicated().value_counts()"
   ]
  },
  {
   "cell_type": "code",
   "execution_count": null,
   "metadata": {},
   "outputs": [],
   "source": [
    "chm_5 = add_season_4_blocking_height(chm_4, 'range')\n",
    "print(chm_5.shape)\n",
    "# chm_5.sample(n=3)"
   ]
  },
  {
   "cell_type": "markdown",
   "metadata": {},
   "source": [
    "#### Use sqlite database to group by `plot`, `date`, and `mean` \n",
    "- rename `mean` to `canopy_height_cm`\n",
    "- can also drop and reorder columns at this time"
   ]
  },
  {
   "cell_type": "code",
   "execution_count": null,
   "metadata": {},
   "outputs": [],
   "source": [
    "conn = sqlite3.connect('data/interim/canopy_heights_manual_season_4.sqlite')\n",
    "cursor = conn.cursor()\n",
    "print(\"Opened database successfully\")"
   ]
  },
  {
   "cell_type": "code",
   "execution_count": null,
   "metadata": {},
   "outputs": [],
   "source": [
    "# comment next line out if db has already been created\n",
    "chm_5.to_sql('canopy_heights_manual_season_4.sqlite', conn)"
   ]
  },
  {
   "cell_type": "code",
   "execution_count": null,
   "metadata": {},
   "outputs": [],
   "source": [
    "chm_6 = pd.read_sql_query(\"\"\"\n",
    "                            SELECT date, plot, range, column, scientificname, genotype, treatment, blocking_height,\n",
    "                            method, ROUND(AVG([mean]), 2) AS canopy_height_cm, method_type\n",
    "                            FROM 'canopy_heights_manual_season_4.sqlite'\n",
    "                            GROUP BY plot, date,[mean]\n",
    "                            ORDER BY date ASC;\n",
    "                            \"\"\", conn)\n",
    "\n",
    "print(chm_6.shape)\n",
    "chm_6.head(3)"
   ]
  },
  {
   "cell_type": "markdown",
   "metadata": {},
   "source": [
    "#### D. Days & GDD to Flowering"
   ]
  },
  {
   "cell_type": "code",
   "execution_count": null,
   "metadata": {},
   "outputs": [],
   "source": [
    "fl_0 = pd.read_csv('data/raw/season_4_traits/season_4_flowering_time_manual.csv')\n",
    "print(fl_0.shape)\n",
    "# fl_0.head()"
   ]
  },
  {
   "cell_type": "markdown",
   "metadata": {},
   "source": [
    "#### Read in updated processed weather dataset for season 4"
   ]
  },
  {
   "cell_type": "code",
   "execution_count": null,
   "metadata": {},
   "outputs": [],
   "source": [
    "weather_0 = pd.read_csv('data/processed/mac_season_4_daily_weather_2020-07-01T144735.csv')\n",
    "print(weather_0.shape)\n",
    "# weather_0.head()"
   ]
  },
  {
   "cell_type": "code",
   "execution_count": null,
   "metadata": {},
   "outputs": [],
   "source": [
    "plot_hist(fl_0, 'mean', 'trait')"
   ]
  },
  {
   "cell_type": "code",
   "execution_count": null,
   "metadata": {},
   "outputs": [],
   "source": [
    "check_for_nulls_duplicates(fl_0)"
   ]
  },
  {
   "cell_type": "code",
   "execution_count": null,
   "metadata": {},
   "outputs": [],
   "source": [
    "check_for_subplots(fl_0, 'plot')"
   ]
  },
  {
   "cell_type": "code",
   "execution_count": null,
   "metadata": {},
   "outputs": [],
   "source": [
    "# check_unique_values(fl_0)"
   ]
  },
  {
   "cell_type": "markdown",
   "metadata": {},
   "source": [
    "#### Add planting date 2017-04-20"
   ]
  },
  {
   "cell_type": "code",
   "execution_count": null,
   "metadata": {},
   "outputs": [],
   "source": [
    "day_of_planting = datetime.date(2017,4,20)\n",
    "flower_df_1 = fl_0.copy()\n",
    "\n",
    "flower_df_1['date_of_planting'] = day_of_planting\n",
    "print(flower_df_1.shape)\n",
    "# flower_df_1.head(3)"
   ]
  },
  {
   "cell_type": "markdown",
   "metadata": {},
   "source": [
    "#### Create datetime with days to flowering (`mean`)"
   ]
  },
  {
   "cell_type": "code",
   "execution_count": null,
   "metadata": {},
   "outputs": [],
   "source": [
    "timedelta = pd.Series([pd.Timedelta(days=i) for i in flower_df_1['mean'].values])\n",
    "dates_of_flowering = []\n",
    "\n",
    "for td in timedelta:\n",
    "    \n",
    "    date_of_flowering = day_of_planting + td\n",
    "    dates_of_flowering.append(date_of_flowering)\n",
    "    \n",
    "print(flower_df_1.shape[0])\n",
    "print(len(dates_of_flowering))"
   ]
  },
  {
   "cell_type": "code",
   "execution_count": null,
   "metadata": {},
   "outputs": [],
   "source": [
    "flower_df_2 = flower_df_1.copy()\n",
    "flower_df_2['date_of_flowering'] = dates_of_flowering\n",
    "print(flower_df_2.shape)\n",
    "# flower_df_2.head(3)"
   ]
  },
  {
   "cell_type": "markdown",
   "metadata": {},
   "source": [
    "#### Add GDD to flowering dataframe"
   ]
  },
  {
   "cell_type": "code",
   "execution_count": null,
   "metadata": {},
   "outputs": [],
   "source": [
    "# slice weather df for date and cumulative gdd values only\n",
    "\n",
    "season_4_gdd = weather_0[['date', 'gdd']]\n",
    "print(season_4_gdd.shape)\n",
    "# season_4_gdd.head(3)"
   ]
  },
  {
   "cell_type": "code",
   "execution_count": null,
   "metadata": {},
   "outputs": [],
   "source": [
    "season_4_gdd.dtypes"
   ]
  },
  {
   "cell_type": "code",
   "execution_count": null,
   "metadata": {},
   "outputs": [],
   "source": [
    "flower_df_3 = flower_df_2.copy()\n",
    "flower_df_3.date_of_flowering = pd.to_datetime(flower_df_3.date_of_flowering)\n",
    "# flower_df_3.dtypes"
   ]
  },
  {
   "cell_type": "code",
   "execution_count": null,
   "metadata": {},
   "outputs": [],
   "source": [
    "season_4_gdd_1 = season_4_gdd.copy()\n",
    "season_4_gdd_1['date'] = pd.to_datetime(season_4_gdd_1['date'])\n",
    "season_4_gdd_1.dtypes"
   ]
  },
  {
   "cell_type": "code",
   "execution_count": null,
   "metadata": {},
   "outputs": [],
   "source": [
    "flower_df_4 = flower_df_3.merge(season_4_gdd_1, how='left', left_on='date_of_flowering', right_on='date')\n",
    "print(flower_df_4.shape)\n",
    "# flower_df_4.head(3)"
   ]
  },
  {
   "cell_type": "code",
   "execution_count": null,
   "metadata": {},
   "outputs": [],
   "source": [
    "flower_df_5 = extract_range_column_values(flower_df_4, 'plot')\n",
    "flower_df_6 = add_season_4_blocking_height(flower_df_5, 'range')\n",
    "\n",
    "print(flower_df_6.shape)\n",
    "# flower_df_6.tail(3)"
   ]
  },
  {
   "cell_type": "code",
   "execution_count": null,
   "metadata": {},
   "outputs": [],
   "source": [
    "flower_df_7 = rename_value_column(flower_df_6, 'mean', 'trait')\n",
    "# flower_df_7.sample(n=3)"
   ]
  },
  {
   "cell_type": "code",
   "execution_count": null,
   "metadata": {},
   "outputs": [],
   "source": [
    "flower_df_8 = flower_df_7.rename({'flowering_time': 'days_to_flowering', 'gdd': 'gdd_to_flowering'}, axis=1)\n",
    "# flower_df_8.head(2)"
   ]
  },
  {
   "cell_type": "code",
   "execution_count": null,
   "metadata": {},
   "outputs": [],
   "source": [
    "cols_to_drop = ['date_x', 'checked', 'author', 'season', 'date_of_planting', 'date_y']\n",
    "\n",
    "flower_df_9 = flower_df_8.drop(labels=cols_to_drop, axis=1)\n",
    "print(flower_df_9.shape)\n",
    "# flower_df_9.sample(n=3)"
   ]
  },
  {
   "cell_type": "code",
   "execution_count": null,
   "metadata": {},
   "outputs": [],
   "source": [
    "new_col_order = ['plot', 'range', 'column', 'scientificname', 'genotype', 'treatment', 'blocking_height', \n",
    "                 'method', 'date_of_flowering', 'days_to_flowering', 'gdd_to_flowering', 'method_type']\n",
    "\n",
    "flower_df_10 = reorder_columns(flower_df_9, new_col_order)\n",
    "print(flower_df_10.shape)\n",
    "flower_df_10.head(3)"
   ]
  },
  {
   "cell_type": "markdown",
   "metadata": {},
   "source": [
    "#### E. Days & GDD to Flag Leaf Emergence"
   ]
  },
  {
   "cell_type": "code",
   "execution_count": null,
   "metadata": {},
   "outputs": [],
   "source": [
    "fle_0 = pd.read_csv('data/raw/season_4_traits/season_4_flag_leaf_emergence_time_manual.csv')\n",
    "print(fle_0.shape)\n",
    "# fle_0.head()"
   ]
  },
  {
   "cell_type": "markdown",
   "metadata": {},
   "source": [
    "#### Read in updated processed weather dataset for season 4\n",
    "Code used to process weather data for season 4 can be found in the `season_4_weather_data_cleaning` notebook in this repository"
   ]
  },
  {
   "cell_type": "code",
   "execution_count": null,
   "metadata": {},
   "outputs": [],
   "source": [
    "weather_0 = pd.read_csv('data/processed/mac_season_4_daily_weather_2020-07-01T144735.csv')\n",
    "print(weather_0.shape)\n",
    "# weather_0.head()"
   ]
  },
  {
   "cell_type": "code",
   "execution_count": null,
   "metadata": {},
   "outputs": [],
   "source": [
    "plot_hist(fle_0, 'mean', 'trait')"
   ]
  },
  {
   "cell_type": "code",
   "execution_count": null,
   "metadata": {},
   "outputs": [],
   "source": [
    "check_for_nulls_duplicates(fle_0)"
   ]
  },
  {
   "cell_type": "code",
   "execution_count": null,
   "metadata": {},
   "outputs": [],
   "source": [
    "check_for_subplots(fle_0, 'plot')"
   ]
  },
  {
   "cell_type": "code",
   "execution_count": null,
   "metadata": {},
   "outputs": [],
   "source": [
    "# check_unique_values(fle_0)"
   ]
  },
  {
   "cell_type": "markdown",
   "metadata": {},
   "source": [
    "#### Add planting date 2017-04-20"
   ]
  },
  {
   "cell_type": "code",
   "execution_count": null,
   "metadata": {},
   "outputs": [],
   "source": [
    "day_of_planting = datetime.date(2017,4,20)\n",
    "fle_df_1 = fle_0.copy()\n",
    "\n",
    "fle_df_1['date_of_planting'] = day_of_planting\n",
    "print(fle_df_1.shape)\n",
    "# fle_df_1.head(3)"
   ]
  },
  {
   "cell_type": "markdown",
   "metadata": {},
   "source": [
    "#### Create timedelta using days to flag leaf emergence (`mean`)"
   ]
  },
  {
   "cell_type": "code",
   "execution_count": null,
   "metadata": {},
   "outputs": [],
   "source": [
    "timedelta = pd.Series([pd.Timedelta(days=i) for i in fle_df_1['mean'].values])\n",
    "dates_of_flag_leaf_emergence = []\n",
    "\n",
    "for td in timedelta:\n",
    "    \n",
    "    date_of_flag_leaf_emergence = day_of_planting + td\n",
    "    dates_of_flag_leaf_emergence.append(date_of_flag_leaf_emergence)\n",
    "    \n",
    "print(fle_df_1.shape[0])\n",
    "print(len(dates_of_flag_leaf_emergence))"
   ]
  },
  {
   "cell_type": "code",
   "execution_count": null,
   "metadata": {},
   "outputs": [],
   "source": [
    "fle_df_2 = fle_df_1.copy()\n",
    "fle_df_2['date_of_flag_leaf_emergence'] = dates_of_flag_leaf_emergence\n",
    "print(fle_df_2.shape)\n",
    "# fle_df_2.head(3)"
   ]
  },
  {
   "cell_type": "markdown",
   "metadata": {},
   "source": [
    "#### Add GDD values to flag leaf emergence dataframe"
   ]
  },
  {
   "cell_type": "code",
   "execution_count": null,
   "metadata": {},
   "outputs": [],
   "source": [
    "# slice weather df for date and cumulative gdd values only\n",
    "\n",
    "season_4_gdd = weather_0[['date', 'gdd']]\n",
    "print(season_4_gdd.shape)\n",
    "# season_4_gdd.head(3)"
   ]
  },
  {
   "cell_type": "code",
   "execution_count": null,
   "metadata": {},
   "outputs": [],
   "source": [
    "fle_df_3 = fle_df_2.copy()\n",
    "fle_df_3.date_of_flag_leaf_emergence = pd.to_datetime(fle_df_3.date_of_flag_leaf_emergence)\n",
    "# fle_df_3.dtypes"
   ]
  },
  {
   "cell_type": "code",
   "execution_count": null,
   "metadata": {},
   "outputs": [],
   "source": [
    "season_4_gdd_1 = season_4_gdd.copy()\n",
    "season_4_gdd_1['date'] = pd.to_datetime(season_4_gdd_1['date'])\n",
    "season_4_gdd_1.dtypes"
   ]
  },
  {
   "cell_type": "code",
   "execution_count": null,
   "metadata": {},
   "outputs": [],
   "source": [
    "fle_df_4 = fle_df_3.merge(season_4_gdd_1, how='left', left_on='date_of_flag_leaf_emergence', right_on='date')\n",
    "print(fle_df_4.shape)\n",
    "# fle_df_4.head(3)"
   ]
  },
  {
   "cell_type": "code",
   "execution_count": null,
   "metadata": {},
   "outputs": [],
   "source": [
    "fle_df_5 = extract_range_column_values(fle_df_4, 'plot')\n",
    "fle_df_6 = add_season_4_blocking_height(fle_df_5, 'range')\n",
    "\n",
    "print(fle_df_6.shape)\n",
    "# fle_df_6.tail(3)"
   ]
  },
  {
   "cell_type": "code",
   "execution_count": null,
   "metadata": {},
   "outputs": [],
   "source": [
    "fle_df_7 = rename_value_column(fle_df_6, 'mean', 'trait')\n",
    "# fle_df_7.sample(n=3)"
   ]
  },
  {
   "cell_type": "code",
   "execution_count": null,
   "metadata": {},
   "outputs": [],
   "source": [
    "fle_df_8 = fle_df_7.rename({'flag_leaf_emergence_time': 'days_to_flag_leaf_emergence', 'gdd': 'gdd_to_flag_leaf_emergence'}, axis=1)\n",
    "# fle_df_8.head(2)"
   ]
  },
  {
   "cell_type": "code",
   "execution_count": null,
   "metadata": {},
   "outputs": [],
   "source": [
    "cols_to_drop = ['date_x', 'checked', 'author', 'season', 'date_of_planting', 'date_y']\n",
    "\n",
    "fle_df_9 = fle_df_8.drop(labels=cols_to_drop, axis=1)\n",
    "print(fle_df_9.shape)\n",
    "# fle_df_9.sample(n=3)"
   ]
  },
  {
   "cell_type": "code",
   "execution_count": null,
   "metadata": {},
   "outputs": [],
   "source": [
    "new_col_order = ['plot', 'range', 'column', 'scientificname', 'genotype', 'treatment', 'blocking_height', \n",
    "                 'method', 'date_of_flag_leaf_emergence', 'days_to_flag_leaf_emergence', \n",
    "                 'gdd_to_flag_leaf_emergence', 'method_type']\n",
    "\n",
    "fle_df_10 = reorder_columns(fle_df_9, new_col_order)\n",
    "print(fle_df_10.shape)\n",
    "fle_df_10.head(3)"
   ]
  },
  {
   "cell_type": "markdown",
   "metadata": {},
   "source": [
    "### Save all datasets to separate csv files"
   ]
  },
  {
   "cell_type": "code",
   "execution_count": null,
   "metadata": {},
   "outputs": [],
   "source": [
    "list_of_dfs = [adb_7, ch_8, chm_6, flower_df_10, fle_df_10]\n",
    "list_of_output_filenames = ['data/processed/mac_season_4_aboveground_dry_biomass.csv',\n",
    "                           'data/processed/mac_season_4_canopy_height_sensor.csv',\n",
    "                           'data/processed/mac_season_4_canopy_height_manual.csv',\n",
    "                           'data/processed/mac_season_4_days_gdd_to_flowering.csv',\n",
    "                           'data/processed/mac_season_4_days_gdd_to_flag_leaf_emergence.csv']"
   ]
  },
  {
   "cell_type": "code",
   "execution_count": null,
   "metadata": {},
   "outputs": [],
   "source": [
    "save_to_csv_without_timestamp(list_of_dfs, list_of_output_filenames)"
   ]
  }
 ],
 "metadata": {
  "kernelspec": {
   "display_name": "Python 3",
   "language": "python",
   "name": "python3"
  },
  "language_info": {
   "codemirror_mode": {
    "name": "ipython",
    "version": 3
   },
   "file_extension": ".py",
   "mimetype": "text/x-python",
   "name": "python",
   "nbconvert_exporter": "python",
   "pygments_lexer": "ipython3",
   "version": "3.8.3"
  }
 },
 "nbformat": 4,
 "nbformat_minor": 4
}
