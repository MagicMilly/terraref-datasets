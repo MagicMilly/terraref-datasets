{
 "cells": [
  {
   "cell_type": "markdown",
   "metadata": {},
   "source": [
    "### Maricopa Agricultural Center Season 6"
   ]
  },
  {
   "cell_type": "markdown",
   "metadata": {},
   "source": [
    "### Citation for Input Trait Data\n",
    "\n",
    "LeBauer, David et al. (2020), Data From: TERRA-REF, An open reference data set from high resolution genomics, phenomics, and imaging sensors, v6, Dryad, Dataset, https://doi.org/10.5061/dryad.4b8gtht99\n",
    "\n",
    "##### Environmental weather data can be downloaded from the MAC weather station [website](https://cals.arizona.edu/azmet/06.htm)\n",
    "\n",
    "Please email dlebauer@email.arizona.edu or ejcain@email.arizona.edu with any questions or comments, or create an issue in this [repository](https://github.com/genophenoenvo/terraref-datasets) "
   ]
  },
  {
   "cell_type": "code",
   "execution_count": 1,
   "metadata": {},
   "outputs": [],
   "source": [
    "import datetime\n",
    "import matplotlib.pyplot as plt\n",
    "import numpy as np\n",
    "import os\n",
    "import pandas as pd\n",
    "import requests"
   ]
  },
  {
   "cell_type": "code",
   "execution_count": null,
   "metadata": {},
   "outputs": [],
   "source": []
  },
  {
   "cell_type": "code",
   "execution_count": 2,
   "metadata": {},
   "outputs": [],
   "source": [
    "def download_csv(url, folder_name, file_name):\n",
    "    response = requests.get(url)\n",
    "    with open(os.path.join(folder_name, file_name), 'wb') as f:\n",
    "        f.write(response.content)"
   ]
  },
  {
   "cell_type": "code",
   "execution_count": 3,
   "metadata": {},
   "outputs": [],
   "source": [
    "def read_in_csv(folder_name, file_name):\n",
    "    df = pd.read_csv(folder_name + '/' + file_name, low_memory=False)\n",
    "    return df"
   ]
  },
  {
   "cell_type": "code",
   "execution_count": 4,
   "metadata": {},
   "outputs": [],
   "source": [
    "def plot_hist(df, value_column, trait_column):\n",
    "    \n",
    "    trait_name = df[trait_column].unique()[0]\n",
    "    return df[value_column].hist(color='navy').set_xlabel(trait_name);"
   ]
  },
  {
   "cell_type": "code",
   "execution_count": 5,
   "metadata": {},
   "outputs": [],
   "source": [
    "def check_for_nulls_duplicates(df):\n",
    "    \n",
    "    print(\n",
    "        f'Sum of null values:\\n{df.isnull().sum()}\\n-----\\n'\n",
    "        f'Value counts for duplicates:\\n{df.duplicated().value_counts()}'\n",
    "    )"
   ]
  },
  {
   "cell_type": "code",
   "execution_count": 6,
   "metadata": {},
   "outputs": [],
   "source": [
    "def check_unique_values(df):\n",
    "\n",
    "    for col in df.columns:\n",
    "        \n",
    "        if df[col].nunique() < 5:\n",
    "            print(f'{df[col].nunique()} unique value(s) for {col} column: {df[col].unique()}')\n",
    "            \n",
    "        else:\n",
    "            print(f'{df[col].nunique()} values for {col} column')"
   ]
  },
  {
   "cell_type": "code",
   "execution_count": 7,
   "metadata": {},
   "outputs": [],
   "source": [
    "def extract_range_column_values(working_df, plot_column):\n",
    "    \n",
    "    new_df = working_df.copy()\n",
    "\n",
    "    new_df['range'] = new_df[plot_column].str.extract(\"Range (\\d+)\").astype(int)\n",
    "    new_df['column'] = new_df[plot_column].str.extract(\"Column (\\d+)\").astype(int)\n",
    "    \n",
    "    return new_df"
   ]
  },
  {
   "cell_type": "code",
   "execution_count": 8,
   "metadata": {},
   "outputs": [],
   "source": [
    "def convert_datetime_column(working_df, date_column):\n",
    "    \n",
    "    new_datetimes = pd.to_datetime(working_df[date_column])\n",
    "    \n",
    "    new_df_0 = working_df.drop(labels=date_column, axis=1)\n",
    "    new_df_1 = new_df_0.copy()\n",
    "    new_df_1['date'] = new_datetimes\n",
    "    \n",
    "    return new_df_1"
   ]
  },
  {
   "cell_type": "code",
   "execution_count": 9,
   "metadata": {},
   "outputs": [],
   "source": [
    "def rename_value_column(working_df, value_column, trait_column):\n",
    "    \n",
    "    trait = working_df[trait_column].unique()[0]\n",
    "    \n",
    "    new_df_0 = working_df.rename({value_column: trait}, axis=1)\n",
    "    new_df_1 = new_df_0.drop(labels=trait_column, axis=1)\n",
    "    \n",
    "    return new_df_1"
   ]
  },
  {
   "cell_type": "code",
   "execution_count": 10,
   "metadata": {},
   "outputs": [],
   "source": [
    "def reorder_columns(working_df, new_col_order_list):\n",
    "    \n",
    "    working_df_1 = pd.DataFrame(data=working_df, columns=new_col_order_list)\n",
    "    return working_df_1"
   ]
  },
  {
   "cell_type": "code",
   "execution_count": 12,
   "metadata": {},
   "outputs": [],
   "source": [
    "def save_to_csv_with_timestamp(df, name_of_dataset):\n",
    "    \n",
    "    timestamp = datetime.datetime.now().replace(microsecond=0).isoformat()\n",
    "    output_filename = ('data/processed/' + f'{name_of_dataset}_' + f'{timestamp}.csv').replace(':', '')\n",
    "\n",
    "    df.to_csv(output_filename, index=False)"
   ]
  },
  {
   "cell_type": "code",
   "execution_count": 13,
   "metadata": {},
   "outputs": [],
   "source": [
    "def save_to_csv_without_timestamp(list_of_dfs, list_of_output_filenames):\n",
    "\n",
    "    for i,j in zip(list_of_dfs, list_of_output_filenames):\n",
    "        i.to_csv(j, index=False)"
   ]
  },
  {
   "cell_type": "markdown",
   "metadata": {},
   "source": [
    "#### A. Aboveground Dry Biomass"
   ]
  },
  {
   "cell_type": "code",
   "execution_count": 14,
   "metadata": {},
   "outputs": [],
   "source": [
    "folder_name = 'data'\n",
    "if not os.path.exists(folder_name):\n",
    "    os.makedirs(folder_name)"
   ]
  },
  {
   "cell_type": "code",
   "execution_count": 15,
   "metadata": {},
   "outputs": [],
   "source": [
    "aboveground_dry_biomass_s6_url = 'https://de.cyverse.org/dl/d/1333BF0F-9462-4F0A-8D35-2B446F0CC989/season_6_aboveground_dry_biomass_manual.csv'\n",
    "aboveground_dry_biomass_s6_input_filename = 'aboveground_dry_biomass_s6.csv'"
   ]
  },
  {
   "cell_type": "code",
   "execution_count": 16,
   "metadata": {},
   "outputs": [],
   "source": [
    "download_csv(aboveground_dry_biomass_s6_url, folder_name=folder_name, file_name=aboveground_dry_biomass_s6_input_filename)"
   ]
  },
  {
   "cell_type": "code",
   "execution_count": 17,
   "metadata": {},
   "outputs": [
    {
     "name": "stdout",
     "output_type": "stream",
     "text": [
      "(693, 12)\n"
     ]
    },
    {
     "data": {
      "text/html": [
       "<div>\n",
       "<style scoped>\n",
       "    .dataframe tbody tr th:only-of-type {\n",
       "        vertical-align: middle;\n",
       "    }\n",
       "\n",
       "    .dataframe tbody tr th {\n",
       "        vertical-align: top;\n",
       "    }\n",
       "\n",
       "    .dataframe thead th {\n",
       "        text-align: right;\n",
       "    }\n",
       "</style>\n",
       "<table border=\"1\" class=\"dataframe\">\n",
       "  <thead>\n",
       "    <tr style=\"text-align: right;\">\n",
       "      <th></th>\n",
       "      <th>plot</th>\n",
       "      <th>scientificname</th>\n",
       "      <th>genotype</th>\n",
       "      <th>treatment</th>\n",
       "      <th>date</th>\n",
       "      <th>trait</th>\n",
       "      <th>method</th>\n",
       "      <th>mean</th>\n",
       "      <th>checked</th>\n",
       "      <th>author</th>\n",
       "      <th>season</th>\n",
       "      <th>method_type</th>\n",
       "    </tr>\n",
       "  </thead>\n",
       "  <tbody>\n",
       "    <tr>\n",
       "      <th>0</th>\n",
       "      <td>MAC Field Scanner Season 6 Range 3 Column 9</td>\n",
       "      <td>Sorghum bicolor</td>\n",
       "      <td>PI329440</td>\n",
       "      <td>MAC Season 6: Sorghum</td>\n",
       "      <td>2018-07-31</td>\n",
       "      <td>aboveground_dry_biomass</td>\n",
       "      <td>Whole above ground biomass at harvest</td>\n",
       "      <td>1410</td>\n",
       "      <td>0</td>\n",
       "      <td>Newcomb, Maria</td>\n",
       "      <td>Season 6</td>\n",
       "      <td>manual</td>\n",
       "    </tr>\n",
       "    <tr>\n",
       "      <th>1</th>\n",
       "      <td>MAC Field Scanner Season 6 Range 4 Column 7</td>\n",
       "      <td>Sorghum bicolor</td>\n",
       "      <td>PI570400</td>\n",
       "      <td>MAC Season 6: Sorghum</td>\n",
       "      <td>2018-07-31</td>\n",
       "      <td>aboveground_dry_biomass</td>\n",
       "      <td>Whole above ground biomass at harvest</td>\n",
       "      <td>11800</td>\n",
       "      <td>0</td>\n",
       "      <td>Newcomb, Maria</td>\n",
       "      <td>Season 6</td>\n",
       "      <td>manual</td>\n",
       "    </tr>\n",
       "    <tr>\n",
       "      <th>2</th>\n",
       "      <td>MAC Field Scanner Season 6 Range 4 Column 8</td>\n",
       "      <td>Sorghum bicolor</td>\n",
       "      <td>PI329711</td>\n",
       "      <td>MAC Season 6: Sorghum</td>\n",
       "      <td>2018-07-31</td>\n",
       "      <td>aboveground_dry_biomass</td>\n",
       "      <td>Whole above ground biomass at harvest</td>\n",
       "      <td>12300</td>\n",
       "      <td>0</td>\n",
       "      <td>Newcomb, Maria</td>\n",
       "      <td>Season 6</td>\n",
       "      <td>manual</td>\n",
       "    </tr>\n",
       "    <tr>\n",
       "      <th>3</th>\n",
       "      <td>MAC Field Scanner Season 6 Range 4 Column 11</td>\n",
       "      <td>Sorghum bicolor</td>\n",
       "      <td>PI521152</td>\n",
       "      <td>MAC Season 6: Sorghum</td>\n",
       "      <td>2018-07-31</td>\n",
       "      <td>aboveground_dry_biomass</td>\n",
       "      <td>Whole above ground biomass at harvest</td>\n",
       "      <td>12200</td>\n",
       "      <td>0</td>\n",
       "      <td>Newcomb, Maria</td>\n",
       "      <td>Season 6</td>\n",
       "      <td>manual</td>\n",
       "    </tr>\n",
       "    <tr>\n",
       "      <th>4</th>\n",
       "      <td>MAC Field Scanner Season 6 Range 5 Column 7</td>\n",
       "      <td>Sorghum bicolor</td>\n",
       "      <td>PI569264</td>\n",
       "      <td>MAC Season 6: Sorghum</td>\n",
       "      <td>2018-07-31</td>\n",
       "      <td>aboveground_dry_biomass</td>\n",
       "      <td>Whole above ground biomass at harvest</td>\n",
       "      <td>14000</td>\n",
       "      <td>0</td>\n",
       "      <td>Newcomb, Maria</td>\n",
       "      <td>Season 6</td>\n",
       "      <td>manual</td>\n",
       "    </tr>\n",
       "  </tbody>\n",
       "</table>\n",
       "</div>"
      ],
      "text/plain": [
       "                                           plot   scientificname  genotype  \\\n",
       "0   MAC Field Scanner Season 6 Range 3 Column 9  Sorghum bicolor  PI329440   \n",
       "1   MAC Field Scanner Season 6 Range 4 Column 7  Sorghum bicolor  PI570400   \n",
       "2   MAC Field Scanner Season 6 Range 4 Column 8  Sorghum bicolor  PI329711   \n",
       "3  MAC Field Scanner Season 6 Range 4 Column 11  Sorghum bicolor  PI521152   \n",
       "4   MAC Field Scanner Season 6 Range 5 Column 7  Sorghum bicolor  PI569264   \n",
       "\n",
       "               treatment        date                    trait  \\\n",
       "0  MAC Season 6: Sorghum  2018-07-31  aboveground_dry_biomass   \n",
       "1  MAC Season 6: Sorghum  2018-07-31  aboveground_dry_biomass   \n",
       "2  MAC Season 6: Sorghum  2018-07-31  aboveground_dry_biomass   \n",
       "3  MAC Season 6: Sorghum  2018-07-31  aboveground_dry_biomass   \n",
       "4  MAC Season 6: Sorghum  2018-07-31  aboveground_dry_biomass   \n",
       "\n",
       "                                  method   mean  checked          author  \\\n",
       "0  Whole above ground biomass at harvest   1410        0  Newcomb, Maria   \n",
       "1  Whole above ground biomass at harvest  11800        0  Newcomb, Maria   \n",
       "2  Whole above ground biomass at harvest  12300        0  Newcomb, Maria   \n",
       "3  Whole above ground biomass at harvest  12200        0  Newcomb, Maria   \n",
       "4  Whole above ground biomass at harvest  14000        0  Newcomb, Maria   \n",
       "\n",
       "     season method_type  \n",
       "0  Season 6      manual  \n",
       "1  Season 6      manual  \n",
       "2  Season 6      manual  \n",
       "3  Season 6      manual  \n",
       "4  Season 6      manual  "
      ]
     },
     "execution_count": 17,
     "metadata": {},
     "output_type": "execute_result"
    }
   ],
   "source": [
    "adb_0 = read_in_csv(folder_name=folder_name, file_name=aboveground_dry_biomass_s6_input_filename)\n",
    "# print(adb_0.shape)\n",
    "# adb_0.head()"
   ]
  },
  {
   "cell_type": "code",
   "execution_count": 18,
   "metadata": {},
   "outputs": [
    {
     "data": {
      "text/plain": [
       "Text(0.5, 0, 'aboveground_dry_biomass')"
      ]
     },
     "execution_count": 18,
     "metadata": {},
     "output_type": "execute_result"
    },
    {
     "data": {
      "image/png": "[encoded data removed]",
      "text/plain": [
       "<Figure size 432x288 with 1 Axes>"
      ]
     },
     "metadata": {
      "needs_background": "light"
     },
     "output_type": "display_data"
    }
   ],
   "source": [
    "# plot_hist(adb_0, 'mean', 'trait')"
   ]
  },
  {
   "cell_type": "code",
   "execution_count": 19,
   "metadata": {},
   "outputs": [
    {
     "name": "stdout",
     "output_type": "stream",
     "text": [
      "Sum of null values:\n",
      "plot              0\n",
      "scientificname    0\n",
      "genotype          0\n",
      "treatment         0\n",
      "date              0\n",
      "trait             0\n",
      "method            0\n",
      "mean              0\n",
      "checked           0\n",
      "author            0\n",
      "season            0\n",
      "method_type       0\n",
      "dtype: int64\n",
      "-----\n",
      "Value counts for duplicates:\n",
      "False    693\n",
      "dtype: int64\n"
     ]
    }
   ],
   "source": [
    "# check_for_nulls_duplicates(adb_0)"
   ]
  },
  {
   "cell_type": "code",
   "execution_count": 20,
   "metadata": {},
   "outputs": [],
   "source": [
    "adb_1 = extract_range_column_values(adb_0, 'plot')\n",
    "# print(adb_1.shape)\n",
    "# adb_1.sample(n=3)"
   ]
  },
  {
   "cell_type": "markdown",
   "metadata": {},
   "source": [
    "#### Add Blocking Heights"
   ]
  },
  {
   "cell_type": "code",
   "execution_count": 21,
   "metadata": {},
   "outputs": [],
   "source": [
    "bh_s6_url = 'https://de.cyverse.org/dl/d/73900334-1A0F-4C56-8F96-FAC303671431/s6_blocks.csv.txt'\n",
    "bh_s6_input_filename = 'blocking_heights_s6.csv'"
   ]
  },
  {
   "cell_type": "code",
   "execution_count": 22,
   "metadata": {},
   "outputs": [],
   "source": [
    "download_csv(bh_s6_url, folder_name=folder_name, file_name=bh_s6_input_filename)"
   ]
  },
  {
   "cell_type": "code",
   "execution_count": 25,
   "metadata": {},
   "outputs": [
    {
     "name": "stdout",
     "output_type": "stream",
     "text": [
      "(999, 2)\n"
     ]
    },
    {
     "data": {
      "text/html": [
       "<div>\n",
       "<style scoped>\n",
       "    .dataframe tbody tr th:only-of-type {\n",
       "        vertical-align: middle;\n",
       "    }\n",
       "\n",
       "    .dataframe tbody tr th {\n",
       "        vertical-align: top;\n",
       "    }\n",
       "\n",
       "    .dataframe thead th {\n",
       "        text-align: right;\n",
       "    }\n",
       "</style>\n",
       "<table border=\"1\" class=\"dataframe\">\n",
       "  <thead>\n",
       "    <tr style=\"text-align: right;\">\n",
       "      <th></th>\n",
       "      <th>height_block</th>\n",
       "      <th>plot</th>\n",
       "    </tr>\n",
       "  </thead>\n",
       "  <tbody>\n",
       "    <tr>\n",
       "      <th>0</th>\n",
       "      <td>border</td>\n",
       "      <td>MAC Field Scanner Season 6 Range 2 Column 2</td>\n",
       "    </tr>\n",
       "    <tr>\n",
       "      <th>1</th>\n",
       "      <td>border</td>\n",
       "      <td>MAC Field Scanner Season 6 Range 2 Column 3</td>\n",
       "    </tr>\n",
       "    <tr>\n",
       "      <th>2</th>\n",
       "      <td>border</td>\n",
       "      <td>MAC Field Scanner Season 6 Range 2 Column 4</td>\n",
       "    </tr>\n",
       "    <tr>\n",
       "      <th>3</th>\n",
       "      <td>border</td>\n",
       "      <td>MAC Field Scanner Season 6 Range 2 Column 5</td>\n",
       "    </tr>\n",
       "    <tr>\n",
       "      <th>4</th>\n",
       "      <td>border</td>\n",
       "      <td>MAC Field Scanner Season 6 Range 2 Column 6</td>\n",
       "    </tr>\n",
       "  </tbody>\n",
       "</table>\n",
       "</div>"
      ],
      "text/plain": [
       "  height_block                                         plot\n",
       "0       border  MAC Field Scanner Season 6 Range 2 Column 2\n",
       "1       border  MAC Field Scanner Season 6 Range 2 Column 3\n",
       "2       border  MAC Field Scanner Season 6 Range 2 Column 4\n",
       "3       border  MAC Field Scanner Season 6 Range 2 Column 5\n",
       "4       border  MAC Field Scanner Season 6 Range 2 Column 6"
      ]
     },
     "execution_count": 25,
     "metadata": {},
     "output_type": "execute_result"
    }
   ],
   "source": [
    "bh_df = read_in_csv(folder_name=folder_name, file_name=bh_s6_input_filename)\n",
    "print(bh_df.shape)\n",
    "bh_df.head()"
   ]
  },
  {
   "cell_type": "code",
   "execution_count": 26,
   "metadata": {},
   "outputs": [
    {
     "data": {
      "text/plain": [
       "tall      542\n",
       "short     130\n",
       "border     42\n",
       "Name: height_block, dtype: int64"
      ]
     },
     "execution_count": 26,
     "metadata": {},
     "output_type": "execute_result"
    }
   ],
   "source": [
    "# bh_df.height_block.value_counts()"
   ]
  },
  {
   "cell_type": "code",
   "execution_count": 27,
   "metadata": {},
   "outputs": [
    {
     "name": "stdout",
     "output_type": "stream",
     "text": [
      "Sum of null values:\n",
      "height_block    285\n",
      "plot            285\n",
      "dtype: int64\n",
      "-----\n",
      "Value counts for duplicates:\n",
      "False    715\n",
      "True     284\n",
      "dtype: int64\n"
     ]
    }
   ],
   "source": [
    "# check_for_nulls_duplicates(bh_df)"
   ]
  },
  {
   "cell_type": "code",
   "execution_count": 28,
   "metadata": {},
   "outputs": [
    {
     "data": {
      "text/plain": [
       "(714, 2)"
      ]
     },
     "execution_count": 28,
     "metadata": {},
     "output_type": "execute_result"
    }
   ],
   "source": [
    "bh_df_1 = bh_df.dropna(axis=0, how='all')\n",
    "# bh_df_1.shape"
   ]
  },
  {
   "cell_type": "markdown",
   "metadata": {},
   "source": [
    "#### Merge blocking heights with aboveground dry biomass dataframe"
   ]
  },
  {
   "cell_type": "code",
   "execution_count": 31,
   "metadata": {},
   "outputs": [
    {
     "name": "stdout",
     "output_type": "stream",
     "text": [
      "(693, 15)\n"
     ]
    },
    {
     "data": {
      "text/html": [
       "<div>\n",
       "<style scoped>\n",
       "    .dataframe tbody tr th:only-of-type {\n",
       "        vertical-align: middle;\n",
       "    }\n",
       "\n",
       "    .dataframe tbody tr th {\n",
       "        vertical-align: top;\n",
       "    }\n",
       "\n",
       "    .dataframe thead th {\n",
       "        text-align: right;\n",
       "    }\n",
       "</style>\n",
       "<table border=\"1\" class=\"dataframe\">\n",
       "  <thead>\n",
       "    <tr style=\"text-align: right;\">\n",
       "      <th></th>\n",
       "      <th>plot</th>\n",
       "      <th>scientificname</th>\n",
       "      <th>genotype</th>\n",
       "      <th>treatment</th>\n",
       "      <th>date</th>\n",
       "      <th>trait</th>\n",
       "      <th>method</th>\n",
       "      <th>mean</th>\n",
       "      <th>checked</th>\n",
       "      <th>author</th>\n",
       "      <th>season</th>\n",
       "      <th>method_type</th>\n",
       "      <th>range</th>\n",
       "      <th>column</th>\n",
       "      <th>height_block</th>\n",
       "    </tr>\n",
       "  </thead>\n",
       "  <tbody>\n",
       "    <tr>\n",
       "      <th>0</th>\n",
       "      <td>MAC Field Scanner Season 6 Range 3 Column 9</td>\n",
       "      <td>Sorghum bicolor</td>\n",
       "      <td>PI329440</td>\n",
       "      <td>MAC Season 6: Sorghum</td>\n",
       "      <td>2018-07-31</td>\n",
       "      <td>aboveground_dry_biomass</td>\n",
       "      <td>Whole above ground biomass at harvest</td>\n",
       "      <td>1410</td>\n",
       "      <td>0</td>\n",
       "      <td>Newcomb, Maria</td>\n",
       "      <td>Season 6</td>\n",
       "      <td>manual</td>\n",
       "      <td>3</td>\n",
       "      <td>9</td>\n",
       "      <td>border</td>\n",
       "    </tr>\n",
       "    <tr>\n",
       "      <th>1</th>\n",
       "      <td>MAC Field Scanner Season 6 Range 4 Column 7</td>\n",
       "      <td>Sorghum bicolor</td>\n",
       "      <td>PI570400</td>\n",
       "      <td>MAC Season 6: Sorghum</td>\n",
       "      <td>2018-07-31</td>\n",
       "      <td>aboveground_dry_biomass</td>\n",
       "      <td>Whole above ground biomass at harvest</td>\n",
       "      <td>11800</td>\n",
       "      <td>0</td>\n",
       "      <td>Newcomb, Maria</td>\n",
       "      <td>Season 6</td>\n",
       "      <td>manual</td>\n",
       "      <td>4</td>\n",
       "      <td>7</td>\n",
       "      <td>tall</td>\n",
       "    </tr>\n",
       "    <tr>\n",
       "      <th>2</th>\n",
       "      <td>MAC Field Scanner Season 6 Range 4 Column 8</td>\n",
       "      <td>Sorghum bicolor</td>\n",
       "      <td>PI329711</td>\n",
       "      <td>MAC Season 6: Sorghum</td>\n",
       "      <td>2018-07-31</td>\n",
       "      <td>aboveground_dry_biomass</td>\n",
       "      <td>Whole above ground biomass at harvest</td>\n",
       "      <td>12300</td>\n",
       "      <td>0</td>\n",
       "      <td>Newcomb, Maria</td>\n",
       "      <td>Season 6</td>\n",
       "      <td>manual</td>\n",
       "      <td>4</td>\n",
       "      <td>8</td>\n",
       "      <td>tall</td>\n",
       "    </tr>\n",
       "  </tbody>\n",
       "</table>\n",
       "</div>"
      ],
      "text/plain": [
       "                                          plot   scientificname  genotype  \\\n",
       "0  MAC Field Scanner Season 6 Range 3 Column 9  Sorghum bicolor  PI329440   \n",
       "1  MAC Field Scanner Season 6 Range 4 Column 7  Sorghum bicolor  PI570400   \n",
       "2  MAC Field Scanner Season 6 Range 4 Column 8  Sorghum bicolor  PI329711   \n",
       "\n",
       "               treatment        date                    trait  \\\n",
       "0  MAC Season 6: Sorghum  2018-07-31  aboveground_dry_biomass   \n",
       "1  MAC Season 6: Sorghum  2018-07-31  aboveground_dry_biomass   \n",
       "2  MAC Season 6: Sorghum  2018-07-31  aboveground_dry_biomass   \n",
       "\n",
       "                                  method   mean  checked          author  \\\n",
       "0  Whole above ground biomass at harvest   1410        0  Newcomb, Maria   \n",
       "1  Whole above ground biomass at harvest  11800        0  Newcomb, Maria   \n",
       "2  Whole above ground biomass at harvest  12300        0  Newcomb, Maria   \n",
       "\n",
       "     season method_type  range  column height_block  \n",
       "0  Season 6      manual      3       9       border  \n",
       "1  Season 6      manual      4       7         tall  \n",
       "2  Season 6      manual      4       8         tall  "
      ]
     },
     "execution_count": 31,
     "metadata": {},
     "output_type": "execute_result"
    }
   ],
   "source": [
    "adb_2 = adb_1.merge(bh_df_1, how='left', left_on='plot', right_on='plot')\n",
    "# print(adb_2.shape)\n",
    "# adb_2.head(3)"
   ]
  },
  {
   "cell_type": "code",
   "execution_count": 34,
   "metadata": {},
   "outputs": [
    {
     "name": "stdout",
     "output_type": "stream",
     "text": [
      "(693, 15)\n"
     ]
    }
   ],
   "source": [
    "adb_3 = convert_datetime_column(adb_2, 'date')\n",
    "# print(adb_3.shape)\n",
    "# adb_3.head(3)"
   ]
  },
  {
   "cell_type": "code",
   "execution_count": 35,
   "metadata": {},
   "outputs": [],
   "source": [
    "adb_4 = rename_value_column(adb_3, 'mean', 'trait')\n",
    "# print(adb_4.shape)\n",
    "# adb_4.tail(3)"
   ]
  },
  {
   "cell_type": "code",
   "execution_count": 36,
   "metadata": {},
   "outputs": [],
   "source": [
    "cols_to_drop = ['checked', 'author', 'season', 'treatment']\n",
    "\n",
    "adb_5 = adb_4.drop(labels=cols_to_drop, axis=1)\n",
    "# print(adb_5.shape)\n",
    "# adb_5.head(3)"
   ]
  },
  {
   "cell_type": "markdown",
   "metadata": {},
   "source": [
    "##### Add units (kg/ha) column to aboveground dry biomass dataset"
   ]
  },
  {
   "cell_type": "code",
   "execution_count": 37,
   "metadata": {},
   "outputs": [],
   "source": [
    "adb_6 = adb_5.copy()\n",
    "adb_6['units'] = 'kg/ha'\n",
    "\n",
    "# print(adb_6.shape)\n",
    "# adb_6.tail(3)"
   ]
  },
  {
   "cell_type": "code",
   "execution_count": 38,
   "metadata": {},
   "outputs": [
    {
     "name": "stdout",
     "output_type": "stream",
     "text": [
      "(693, 11)\n"
     ]
    },
    {
     "data": {
      "text/html": [
       "<div>\n",
       "<style scoped>\n",
       "    .dataframe tbody tr th:only-of-type {\n",
       "        vertical-align: middle;\n",
       "    }\n",
       "\n",
       "    .dataframe tbody tr th {\n",
       "        vertical-align: top;\n",
       "    }\n",
       "\n",
       "    .dataframe thead th {\n",
       "        text-align: right;\n",
       "    }\n",
       "</style>\n",
       "<table border=\"1\" class=\"dataframe\">\n",
       "  <thead>\n",
       "    <tr style=\"text-align: right;\">\n",
       "      <th></th>\n",
       "      <th>date</th>\n",
       "      <th>plot</th>\n",
       "      <th>range</th>\n",
       "      <th>column</th>\n",
       "      <th>scientificname</th>\n",
       "      <th>genotype</th>\n",
       "      <th>height_block</th>\n",
       "      <th>method</th>\n",
       "      <th>aboveground_dry_biomass</th>\n",
       "      <th>units</th>\n",
       "      <th>method_type</th>\n",
       "    </tr>\n",
       "  </thead>\n",
       "  <tbody>\n",
       "    <tr>\n",
       "      <th>0</th>\n",
       "      <td>2018-07-31</td>\n",
       "      <td>MAC Field Scanner Season 6 Range 3 Column 9</td>\n",
       "      <td>3</td>\n",
       "      <td>9</td>\n",
       "      <td>Sorghum bicolor</td>\n",
       "      <td>PI329440</td>\n",
       "      <td>border</td>\n",
       "      <td>Whole above ground biomass at harvest</td>\n",
       "      <td>1410</td>\n",
       "      <td>kg/ha</td>\n",
       "      <td>manual</td>\n",
       "    </tr>\n",
       "    <tr>\n",
       "      <th>1</th>\n",
       "      <td>2018-07-31</td>\n",
       "      <td>MAC Field Scanner Season 6 Range 4 Column 7</td>\n",
       "      <td>4</td>\n",
       "      <td>7</td>\n",
       "      <td>Sorghum bicolor</td>\n",
       "      <td>PI570400</td>\n",
       "      <td>tall</td>\n",
       "      <td>Whole above ground biomass at harvest</td>\n",
       "      <td>11800</td>\n",
       "      <td>kg/ha</td>\n",
       "      <td>manual</td>\n",
       "    </tr>\n",
       "    <tr>\n",
       "      <th>2</th>\n",
       "      <td>2018-07-31</td>\n",
       "      <td>MAC Field Scanner Season 6 Range 4 Column 8</td>\n",
       "      <td>4</td>\n",
       "      <td>8</td>\n",
       "      <td>Sorghum bicolor</td>\n",
       "      <td>PI329711</td>\n",
       "      <td>tall</td>\n",
       "      <td>Whole above ground biomass at harvest</td>\n",
       "      <td>12300</td>\n",
       "      <td>kg/ha</td>\n",
       "      <td>manual</td>\n",
       "    </tr>\n",
       "  </tbody>\n",
       "</table>\n",
       "</div>"
      ],
      "text/plain": [
       "        date                                         plot  range  column  \\\n",
       "0 2018-07-31  MAC Field Scanner Season 6 Range 3 Column 9      3       9   \n",
       "1 2018-07-31  MAC Field Scanner Season 6 Range 4 Column 7      4       7   \n",
       "2 2018-07-31  MAC Field Scanner Season 6 Range 4 Column 8      4       8   \n",
       "\n",
       "    scientificname  genotype height_block  \\\n",
       "0  Sorghum bicolor  PI329440       border   \n",
       "1  Sorghum bicolor  PI570400         tall   \n",
       "2  Sorghum bicolor  PI329711         tall   \n",
       "\n",
       "                                  method  aboveground_dry_biomass  units  \\\n",
       "0  Whole above ground biomass at harvest                     1410  kg/ha   \n",
       "1  Whole above ground biomass at harvest                    11800  kg/ha   \n",
       "2  Whole above ground biomass at harvest                    12300  kg/ha   \n",
       "\n",
       "  method_type  \n",
       "0      manual  \n",
       "1      manual  \n",
       "2      manual  "
      ]
     },
     "execution_count": 38,
     "metadata": {},
     "output_type": "execute_result"
    }
   ],
   "source": [
    "new_col_order = ['date', 'plot', 'range', 'column', 'scientificname', 'genotype', 'height_block', 'method', \n",
    "                 'aboveground_dry_biomass', 'units', 'method_type']\n",
    "\n",
    "adb_7 = reorder_columns(adb_6, new_col_order)\n",
    "# print(adb_7.shape)\n",
    "# adb_7.head(3)"
   ]
  },
  {
   "cell_type": "markdown",
   "metadata": {},
   "source": [
    "#### B. Canopy Height - Sensor"
   ]
  },
  {
   "cell_type": "code",
   "execution_count": 43,
   "metadata": {},
   "outputs": [],
   "source": [
    "canopy_height_s6_url = 'https://de.cyverse.org/dl/d/D069737A-76F3-4B69-A213-4B8811A357C0/season_6_canopy_height_sensor.csv'\n",
    "canopy_height_s6_input_filename = 'canopy_height_s6.csv'"
   ]
  },
  {
   "cell_type": "code",
   "execution_count": 44,
   "metadata": {},
   "outputs": [],
   "source": [
    "download_csv(canopy_height_s6_url, folder_name=folder_name, file_name=canopy_height_s6_input_filename)"
   ]
  },
  {
   "cell_type": "code",
   "execution_count": 45,
   "metadata": {},
   "outputs": [
    {
     "name": "stdout",
     "output_type": "stream",
     "text": [
      "(51463, 12)\n"
     ]
    },
    {
     "data": {
      "text/html": [
       "<div>\n",
       "<style scoped>\n",
       "    .dataframe tbody tr th:only-of-type {\n",
       "        vertical-align: middle;\n",
       "    }\n",
       "\n",
       "    .dataframe tbody tr th {\n",
       "        vertical-align: top;\n",
       "    }\n",
       "\n",
       "    .dataframe thead th {\n",
       "        text-align: right;\n",
       "    }\n",
       "</style>\n",
       "<table border=\"1\" class=\"dataframe\">\n",
       "  <thead>\n",
       "    <tr style=\"text-align: right;\">\n",
       "      <th></th>\n",
       "      <th>plot</th>\n",
       "      <th>scientificname</th>\n",
       "      <th>genotype</th>\n",
       "      <th>treatment</th>\n",
       "      <th>date</th>\n",
       "      <th>trait</th>\n",
       "      <th>method</th>\n",
       "      <th>mean</th>\n",
       "      <th>checked</th>\n",
       "      <th>author</th>\n",
       "      <th>season</th>\n",
       "      <th>method_type</th>\n",
       "    </tr>\n",
       "  </thead>\n",
       "  <tbody>\n",
       "    <tr>\n",
       "      <th>0</th>\n",
       "      <td>MAC Field Scanner Season 6 Range 53 Column 10</td>\n",
       "      <td>Sorghum bicolor</td>\n",
       "      <td>PI329440</td>\n",
       "      <td>MAC Season 6: Sorghum</td>\n",
       "      <td>2018-05-28</td>\n",
       "      <td>canopy_height</td>\n",
       "      <td>Scanner 3d ply data to height</td>\n",
       "      <td>85</td>\n",
       "      <td>0</td>\n",
       "      <td>Zongyang, Li</td>\n",
       "      <td>Season 6</td>\n",
       "      <td>sensor</td>\n",
       "    </tr>\n",
       "    <tr>\n",
       "      <th>1</th>\n",
       "      <td>MAC Field Scanner Season 6 Range 53 Column 13</td>\n",
       "      <td>Sorghum bicolor</td>\n",
       "      <td>SP1516</td>\n",
       "      <td>MAC Season 6: Sorghum</td>\n",
       "      <td>2018-05-28</td>\n",
       "      <td>canopy_height</td>\n",
       "      <td>Scanner 3d ply data to height</td>\n",
       "      <td>96</td>\n",
       "      <td>0</td>\n",
       "      <td>Zongyang, Li</td>\n",
       "      <td>Season 6</td>\n",
       "      <td>sensor</td>\n",
       "    </tr>\n",
       "    <tr>\n",
       "      <th>2</th>\n",
       "      <td>MAC Field Scanner Season 6 Range 53 Column 12</td>\n",
       "      <td>Sorghum bicolor</td>\n",
       "      <td>SP1516</td>\n",
       "      <td>MAC Season 6: Sorghum</td>\n",
       "      <td>2018-05-28</td>\n",
       "      <td>canopy_height</td>\n",
       "      <td>Scanner 3d ply data to height</td>\n",
       "      <td>97</td>\n",
       "      <td>0</td>\n",
       "      <td>Zongyang, Li</td>\n",
       "      <td>Season 6</td>\n",
       "      <td>sensor</td>\n",
       "    </tr>\n",
       "    <tr>\n",
       "      <th>3</th>\n",
       "      <td>MAC Field Scanner Season 6 Range 53 Column 9</td>\n",
       "      <td>Sorghum bicolor</td>\n",
       "      <td>SP1516</td>\n",
       "      <td>MAC Season 6: Sorghum</td>\n",
       "      <td>2018-05-28</td>\n",
       "      <td>canopy_height</td>\n",
       "      <td>Scanner 3d ply data to height</td>\n",
       "      <td>95</td>\n",
       "      <td>0</td>\n",
       "      <td>Zongyang, Li</td>\n",
       "      <td>Season 6</td>\n",
       "      <td>sensor</td>\n",
       "    </tr>\n",
       "    <tr>\n",
       "      <th>4</th>\n",
       "      <td>MAC Field Scanner Season 6 Range 53 Column 5</td>\n",
       "      <td>Sorghum bicolor</td>\n",
       "      <td>SP1516</td>\n",
       "      <td>MAC Season 6: Sorghum</td>\n",
       "      <td>2018-05-28</td>\n",
       "      <td>canopy_height</td>\n",
       "      <td>Scanner 3d ply data to height</td>\n",
       "      <td>98</td>\n",
       "      <td>0</td>\n",
       "      <td>Zongyang, Li</td>\n",
       "      <td>Season 6</td>\n",
       "      <td>sensor</td>\n",
       "    </tr>\n",
       "  </tbody>\n",
       "</table>\n",
       "</div>"
      ],
      "text/plain": [
       "                                            plot   scientificname  genotype  \\\n",
       "0  MAC Field Scanner Season 6 Range 53 Column 10  Sorghum bicolor  PI329440   \n",
       "1  MAC Field Scanner Season 6 Range 53 Column 13  Sorghum bicolor    SP1516   \n",
       "2  MAC Field Scanner Season 6 Range 53 Column 12  Sorghum bicolor    SP1516   \n",
       "3   MAC Field Scanner Season 6 Range 53 Column 9  Sorghum bicolor    SP1516   \n",
       "4   MAC Field Scanner Season 6 Range 53 Column 5  Sorghum bicolor    SP1516   \n",
       "\n",
       "               treatment        date          trait  \\\n",
       "0  MAC Season 6: Sorghum  2018-05-28  canopy_height   \n",
       "1  MAC Season 6: Sorghum  2018-05-28  canopy_height   \n",
       "2  MAC Season 6: Sorghum  2018-05-28  canopy_height   \n",
       "3  MAC Season 6: Sorghum  2018-05-28  canopy_height   \n",
       "4  MAC Season 6: Sorghum  2018-05-28  canopy_height   \n",
       "\n",
       "                          method  mean  checked        author    season  \\\n",
       "0  Scanner 3d ply data to height    85        0  Zongyang, Li  Season 6   \n",
       "1  Scanner 3d ply data to height    96        0  Zongyang, Li  Season 6   \n",
       "2  Scanner 3d ply data to height    97        0  Zongyang, Li  Season 6   \n",
       "3  Scanner 3d ply data to height    95        0  Zongyang, Li  Season 6   \n",
       "4  Scanner 3d ply data to height    98        0  Zongyang, Li  Season 6   \n",
       "\n",
       "  method_type  \n",
       "0      sensor  \n",
       "1      sensor  \n",
       "2      sensor  \n",
       "3      sensor  \n",
       "4      sensor  "
      ]
     },
     "execution_count": 45,
     "metadata": {},
     "output_type": "execute_result"
    }
   ],
   "source": [
    "ch_0 = read_in_csv(folder_name=folder_name, file_name=canopy_height_s6_input_filename)\n",
    "# print(ch_0.shape)\n",
    "# ch_0.head()"
   ]
  },
  {
   "cell_type": "code",
   "execution_count": 46,
   "metadata": {},
   "outputs": [
    {
     "name": "stdout",
     "output_type": "stream",
     "text": [
      "Sum of null values:\n",
      "plot              0\n",
      "scientificname    0\n",
      "genotype          0\n",
      "treatment         0\n",
      "date              0\n",
      "trait             0\n",
      "method            0\n",
      "mean              0\n",
      "checked           0\n",
      "author            0\n",
      "season            0\n",
      "method_type       0\n",
      "dtype: int64\n",
      "-----\n",
      "Value counts for duplicates:\n",
      "False    48088\n",
      "True      3375\n",
      "dtype: int64\n"
     ]
    }
   ],
   "source": [
    "# check_for_nulls_duplicates(ch_0)"
   ]
  },
  {
   "cell_type": "markdown",
   "metadata": {},
   "source": [
    "#### Drop duplicates"
   ]
  },
  {
   "cell_type": "code",
   "execution_count": 48,
   "metadata": {},
   "outputs": [
    {
     "name": "stdout",
     "output_type": "stream",
     "text": [
      "(48088, 12)\n",
      "Sum of null values:\n",
      "plot              0\n",
      "scientificname    0\n",
      "genotype          0\n",
      "treatment         0\n",
      "date              0\n",
      "trait             0\n",
      "method            0\n",
      "mean              0\n",
      "checked           0\n",
      "author            0\n",
      "season            0\n",
      "method_type       0\n",
      "dtype: int64\n",
      "-----\n",
      "Value counts for duplicates:\n",
      "False    48088\n",
      "dtype: int64\n"
     ]
    }
   ],
   "source": [
    "ch_1 = ch_0.drop_duplicates(ignore_index=True)\n",
    "# print(ch_1.shape)\n",
    "# check_for_nulls_duplicates(ch_1)"
   ]
  },
  {
   "cell_type": "code",
   "execution_count": 49,
   "metadata": {},
   "outputs": [],
   "source": [
    "ch_2 = extract_range_column_values(ch_1, 'plot')\n",
    "# print(ch_2.shape)\n",
    "# ch_2.sample(n=3)"
   ]
  },
  {
   "cell_type": "code",
   "execution_count": 50,
   "metadata": {},
   "outputs": [],
   "source": [
    "ch_3 = convert_datetime_column(ch_2, 'date')\n",
    "# print(ch_3.shape)\n",
    "# ch_3.dtypes"
   ]
  },
  {
   "cell_type": "code",
   "execution_count": 51,
   "metadata": {},
   "outputs": [],
   "source": [
    "ch_4 = rename_value_column(ch_3, 'mean', 'trait')\n",
    "# print(ch_4.shape)\n",
    "# ch_4.tail(3)"
   ]
  },
  {
   "cell_type": "code",
   "execution_count": 52,
   "metadata": {},
   "outputs": [],
   "source": [
    "# add units (cm) to column name\n",
    "\n",
    "ch_5 = ch_4.rename({'canopy_height': 'canopy_height_cm'}, axis=1)\n",
    "# ch_5.sample(n=3)"
   ]
  },
  {
   "cell_type": "markdown",
   "metadata": {},
   "source": [
    "#### Add blocking heights"
   ]
  },
  {
   "cell_type": "code",
   "execution_count": 53,
   "metadata": {},
   "outputs": [
    {
     "data": {
      "text/html": [
       "<div>\n",
       "<style scoped>\n",
       "    .dataframe tbody tr th:only-of-type {\n",
       "        vertical-align: middle;\n",
       "    }\n",
       "\n",
       "    .dataframe tbody tr th {\n",
       "        vertical-align: top;\n",
       "    }\n",
       "\n",
       "    .dataframe thead th {\n",
       "        text-align: right;\n",
       "    }\n",
       "</style>\n",
       "<table border=\"1\" class=\"dataframe\">\n",
       "  <thead>\n",
       "    <tr style=\"text-align: right;\">\n",
       "      <th></th>\n",
       "      <th>height_block</th>\n",
       "      <th>plot</th>\n",
       "    </tr>\n",
       "  </thead>\n",
       "  <tbody>\n",
       "    <tr>\n",
       "      <th>0</th>\n",
       "      <td>border</td>\n",
       "      <td>MAC Field Scanner Season 6 Range 2 Column 2</td>\n",
       "    </tr>\n",
       "    <tr>\n",
       "      <th>1</th>\n",
       "      <td>border</td>\n",
       "      <td>MAC Field Scanner Season 6 Range 2 Column 3</td>\n",
       "    </tr>\n",
       "    <tr>\n",
       "      <th>2</th>\n",
       "      <td>border</td>\n",
       "      <td>MAC Field Scanner Season 6 Range 2 Column 4</td>\n",
       "    </tr>\n",
       "  </tbody>\n",
       "</table>\n",
       "</div>"
      ],
      "text/plain": [
       "  height_block                                         plot\n",
       "0       border  MAC Field Scanner Season 6 Range 2 Column 2\n",
       "1       border  MAC Field Scanner Season 6 Range 2 Column 3\n",
       "2       border  MAC Field Scanner Season 6 Range 2 Column 4"
      ]
     },
     "execution_count": 53,
     "metadata": {},
     "output_type": "execute_result"
    }
   ],
   "source": [
    "bh_df_1.head(3)"
   ]
  },
  {
   "cell_type": "code",
   "execution_count": 56,
   "metadata": {},
   "outputs": [
    {
     "name": "stdout",
     "output_type": "stream",
     "text": [
      "714\n",
      "809\n"
     ]
    }
   ],
   "source": [
    "print(bh_df_1['plot'].nunique())\n",
    "print(ch_0['plot'].nunique())"
   ]
  },
  {
   "cell_type": "markdown",
   "metadata": {},
   "source": [
    "There is not a height block provided for every plot, so the final canopy height dataframe will contain some nulls."
   ]
  },
  {
   "cell_type": "code",
   "execution_count": 58,
   "metadata": {},
   "outputs": [
    {
     "name": "stdout",
     "output_type": "stream",
     "text": [
      "(48088, 14)\n"
     ]
    },
    {
     "data": {
      "text/html": [
       "<div>\n",
       "<style scoped>\n",
       "    .dataframe tbody tr th:only-of-type {\n",
       "        vertical-align: middle;\n",
       "    }\n",
       "\n",
       "    .dataframe tbody tr th {\n",
       "        vertical-align: top;\n",
       "    }\n",
       "\n",
       "    .dataframe thead th {\n",
       "        text-align: right;\n",
       "    }\n",
       "</style>\n",
       "<table border=\"1\" class=\"dataframe\">\n",
       "  <thead>\n",
       "    <tr style=\"text-align: right;\">\n",
       "      <th></th>\n",
       "      <th>plot</th>\n",
       "      <th>scientificname</th>\n",
       "      <th>genotype</th>\n",
       "      <th>treatment</th>\n",
       "      <th>method</th>\n",
       "      <th>canopy_height_cm</th>\n",
       "      <th>checked</th>\n",
       "      <th>author</th>\n",
       "      <th>season</th>\n",
       "      <th>method_type</th>\n",
       "      <th>range</th>\n",
       "      <th>column</th>\n",
       "      <th>date</th>\n",
       "      <th>height_block</th>\n",
       "    </tr>\n",
       "  </thead>\n",
       "  <tbody>\n",
       "    <tr>\n",
       "      <th>48085</th>\n",
       "      <td>MAC Field Scanner Season 6 Range 30 Column 15</td>\n",
       "      <td>Sorghum bicolor</td>\n",
       "      <td>PI641830</td>\n",
       "      <td>MAC Season 6: Sorghum</td>\n",
       "      <td>3D scanner to 98th quantile height</td>\n",
       "      <td>239</td>\n",
       "      <td>0</td>\n",
       "      <td>Zongyang, Li</td>\n",
       "      <td>Season 6</td>\n",
       "      <td>sensor</td>\n",
       "      <td>30</td>\n",
       "      <td>15</td>\n",
       "      <td>2018-07-25</td>\n",
       "      <td>short</td>\n",
       "    </tr>\n",
       "    <tr>\n",
       "      <th>48086</th>\n",
       "      <td>MAC Field Scanner Season 6 Range 30 Column 15</td>\n",
       "      <td>Sorghum bicolor</td>\n",
       "      <td>PI641830</td>\n",
       "      <td>MAC Season 6: Sorghum</td>\n",
       "      <td>3D scanner to 98th quantile height</td>\n",
       "      <td>238</td>\n",
       "      <td>0</td>\n",
       "      <td>Zongyang, Li</td>\n",
       "      <td>Season 6</td>\n",
       "      <td>sensor</td>\n",
       "      <td>30</td>\n",
       "      <td>15</td>\n",
       "      <td>2018-07-27</td>\n",
       "      <td>short</td>\n",
       "    </tr>\n",
       "    <tr>\n",
       "      <th>48087</th>\n",
       "      <td>MAC Field Scanner Season 6 Range 30 Column 15</td>\n",
       "      <td>Sorghum bicolor</td>\n",
       "      <td>PI641830</td>\n",
       "      <td>MAC Season 6: Sorghum</td>\n",
       "      <td>3D scanner to 98th quantile height</td>\n",
       "      <td>239</td>\n",
       "      <td>0</td>\n",
       "      <td>Zongyang, Li</td>\n",
       "      <td>Season 6</td>\n",
       "      <td>sensor</td>\n",
       "      <td>30</td>\n",
       "      <td>15</td>\n",
       "      <td>2018-07-30</td>\n",
       "      <td>short</td>\n",
       "    </tr>\n",
       "  </tbody>\n",
       "</table>\n",
       "</div>"
      ],
      "text/plain": [
       "                                                plot   scientificname  \\\n",
       "48085  MAC Field Scanner Season 6 Range 30 Column 15  Sorghum bicolor   \n",
       "48086  MAC Field Scanner Season 6 Range 30 Column 15  Sorghum bicolor   \n",
       "48087  MAC Field Scanner Season 6 Range 30 Column 15  Sorghum bicolor   \n",
       "\n",
       "       genotype              treatment                              method  \\\n",
       "48085  PI641830  MAC Season 6: Sorghum  3D scanner to 98th quantile height   \n",
       "48086  PI641830  MAC Season 6: Sorghum  3D scanner to 98th quantile height   \n",
       "48087  PI641830  MAC Season 6: Sorghum  3D scanner to 98th quantile height   \n",
       "\n",
       "       canopy_height_cm  checked        author    season method_type  range  \\\n",
       "48085               239        0  Zongyang, Li  Season 6      sensor     30   \n",
       "48086               238        0  Zongyang, Li  Season 6      sensor     30   \n",
       "48087               239        0  Zongyang, Li  Season 6      sensor     30   \n",
       "\n",
       "       column       date height_block  \n",
       "48085      15 2018-07-25        short  \n",
       "48086      15 2018-07-27        short  \n",
       "48087      15 2018-07-30        short  "
      ]
     },
     "execution_count": 58,
     "metadata": {},
     "output_type": "execute_result"
    }
   ],
   "source": [
    "ch_6 = ch_5.merge(bh_df_1, how='left', left_on='plot', right_on='plot')\n",
    "# print(ch_6.shape)\n",
    "# ch_6.tail(3)"
   ]
  },
  {
   "cell_type": "code",
   "execution_count": 59,
   "metadata": {},
   "outputs": [],
   "source": [
    "ch_7 = ch_6.drop(labels=['checked', 'author', 'season', 'treatment'], axis=1)\n",
    "# print(ch_7.shape)\n",
    "# ch_7.tail(3)"
   ]
  },
  {
   "cell_type": "code",
   "execution_count": 60,
   "metadata": {},
   "outputs": [
    {
     "data": {
      "text/plain": [
       "plot                   0\n",
       "scientificname         0\n",
       "genotype               0\n",
       "method                 0\n",
       "canopy_height_cm       0\n",
       "method_type            0\n",
       "range                  0\n",
       "column                 0\n",
       "date                   0\n",
       "height_block        1400\n",
       "dtype: int64"
      ]
     },
     "execution_count": 60,
     "metadata": {},
     "output_type": "execute_result"
    }
   ],
   "source": [
    "# ch_7.isnull().sum()"
   ]
  },
  {
   "cell_type": "code",
   "execution_count": 61,
   "metadata": {},
   "outputs": [
    {
     "name": "stdout",
     "output_type": "stream",
     "text": [
      "(48088, 10)\n"
     ]
    },
    {
     "data": {
      "text/html": [
       "<div>\n",
       "<style scoped>\n",
       "    .dataframe tbody tr th:only-of-type {\n",
       "        vertical-align: middle;\n",
       "    }\n",
       "\n",
       "    .dataframe tbody tr th {\n",
       "        vertical-align: top;\n",
       "    }\n",
       "\n",
       "    .dataframe thead th {\n",
       "        text-align: right;\n",
       "    }\n",
       "</style>\n",
       "<table border=\"1\" class=\"dataframe\">\n",
       "  <thead>\n",
       "    <tr style=\"text-align: right;\">\n",
       "      <th></th>\n",
       "      <th>date</th>\n",
       "      <th>plot</th>\n",
       "      <th>range</th>\n",
       "      <th>column</th>\n",
       "      <th>scientificname</th>\n",
       "      <th>genotype</th>\n",
       "      <th>method</th>\n",
       "      <th>canopy_height_cm</th>\n",
       "      <th>height_block</th>\n",
       "      <th>method_type</th>\n",
       "    </tr>\n",
       "  </thead>\n",
       "  <tbody>\n",
       "    <tr>\n",
       "      <th>0</th>\n",
       "      <td>2018-05-28</td>\n",
       "      <td>MAC Field Scanner Season 6 Range 53 Column 10</td>\n",
       "      <td>53</td>\n",
       "      <td>10</td>\n",
       "      <td>Sorghum bicolor</td>\n",
       "      <td>PI329440</td>\n",
       "      <td>Scanner 3d ply data to height</td>\n",
       "      <td>85</td>\n",
       "      <td>NaN</td>\n",
       "      <td>sensor</td>\n",
       "    </tr>\n",
       "    <tr>\n",
       "      <th>1</th>\n",
       "      <td>2018-05-28</td>\n",
       "      <td>MAC Field Scanner Season 6 Range 53 Column 13</td>\n",
       "      <td>53</td>\n",
       "      <td>13</td>\n",
       "      <td>Sorghum bicolor</td>\n",
       "      <td>SP1516</td>\n",
       "      <td>Scanner 3d ply data to height</td>\n",
       "      <td>96</td>\n",
       "      <td>NaN</td>\n",
       "      <td>sensor</td>\n",
       "    </tr>\n",
       "    <tr>\n",
       "      <th>2</th>\n",
       "      <td>2018-05-28</td>\n",
       "      <td>MAC Field Scanner Season 6 Range 53 Column 12</td>\n",
       "      <td>53</td>\n",
       "      <td>12</td>\n",
       "      <td>Sorghum bicolor</td>\n",
       "      <td>SP1516</td>\n",
       "      <td>Scanner 3d ply data to height</td>\n",
       "      <td>97</td>\n",
       "      <td>NaN</td>\n",
       "      <td>sensor</td>\n",
       "    </tr>\n",
       "  </tbody>\n",
       "</table>\n",
       "</div>"
      ],
      "text/plain": [
       "        date                                           plot  range  column  \\\n",
       "0 2018-05-28  MAC Field Scanner Season 6 Range 53 Column 10     53      10   \n",
       "1 2018-05-28  MAC Field Scanner Season 6 Range 53 Column 13     53      13   \n",
       "2 2018-05-28  MAC Field Scanner Season 6 Range 53 Column 12     53      12   \n",
       "\n",
       "    scientificname  genotype                         method  canopy_height_cm  \\\n",
       "0  Sorghum bicolor  PI329440  Scanner 3d ply data to height                85   \n",
       "1  Sorghum bicolor    SP1516  Scanner 3d ply data to height                96   \n",
       "2  Sorghum bicolor    SP1516  Scanner 3d ply data to height                97   \n",
       "\n",
       "  height_block method_type  \n",
       "0          NaN      sensor  \n",
       "1          NaN      sensor  \n",
       "2          NaN      sensor  "
      ]
     },
     "execution_count": 61,
     "metadata": {},
     "output_type": "execute_result"
    }
   ],
   "source": [
    "new_col_order = ['date', 'plot', 'range', 'column', 'scientificname', 'genotype', 'method', 'canopy_height_cm', \n",
    "                 'height_block', 'method_type']\n",
    "\n",
    "ch_8 = reorder_columns(ch_7, new_col_order)\n",
    "# print(ch_8.shape)\n",
    "# ch_8.head(3)"
   ]
  },
  {
   "cell_type": "markdown",
   "metadata": {},
   "source": [
    "#### IV. Write derived data to csv files"
   ]
  },
  {
   "cell_type": "code",
   "execution_count": null,
   "metadata": {},
   "outputs": [],
   "source": [
    "list_of_dfs = [adb_7, ch_8]\n",
    "list_of_file_output_names = ['mac_season_6_aboveground_dry_biomass.csv',\n",
    "                            'mac_season_6_canopy_height_sensor.csv']\n",
    "\n",
    "save_to_csv_without_timestamp(list_of_dfs, list_of_file_output_names)"
   ]
  },
  {
   "cell_type": "code",
   "execution_count": null,
   "metadata": {},
   "outputs": [],
   "source": []
  },
  {
   "cell_type": "code",
   "execution_count": null,
   "metadata": {},
   "outputs": [],
   "source": []
  },
  {
   "cell_type": "code",
   "execution_count": null,
   "metadata": {},
   "outputs": [],
   "source": []
  },
  {
   "cell_type": "code",
   "execution_count": null,
   "metadata": {},
   "outputs": [],
   "source": []
  },
  {
   "cell_type": "markdown",
   "metadata": {},
   "source": []
  }
 ],
 "metadata": {
  "kernelspec": {
   "display_name": "Python 3",
   "language": "python",
   "name": "python3"
  },
  "language_info": {
   "codemirror_mode": {
    "name": "ipython",
    "version": 3
   },
   "file_extension": ".py",
   "mimetype": "text/x-python",
   "name": "python",
   "nbconvert_exporter": "python",
   "pygments_lexer": "ipython3",
   "version": "3.8.3"
  }
 },
 "nbformat": 4,
 "nbformat_minor": 4
}
