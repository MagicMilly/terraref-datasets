{
 "cells": [
  {
   "cell_type": "markdown",
   "metadata": {},
   "source": [
    "### Clemson Sorghum Experiments Data Cleaning Notebook\n",
    "#### Data from [Brenton et al., 2016](https://www.genetics.org/content/204/1/21) collected from Clemson University Pee Dee Research and Education Center in 2014\n",
    "- goal: to gather more cultivar and environmental data in addition to MAC Sorghum Seasons 4 & 6 and KSU Experiments\n",
    "- please contact Emily Cain at ejcain@arizona.edu with any questions or feedback"
   ]
  },
  {
   "cell_type": "code",
   "execution_count": 1,
   "metadata": {},
   "outputs": [],
   "source": [
    "import datetime\n",
    "import numpy as np\n",
    "import pandas as pd"
   ]
  },
  {
   "cell_type": "markdown",
   "metadata": {},
   "source": [
    "#### Read in data queried from betydb in `R` using this code:\n",
    "```\n",
    "library(traits)\n",
    "\n",
    "options(betydb_url = \"https://terraref.ncsa.illinois.edu/bety/\",\n",
    "        betydb_api_version = 'v1',\n",
    "        betydb_key = 'secret_api_key_123456_abcde')\n",
    "        \n",
    "clemson <- betydb_query(sitename  = \"~Clemson\",\n",
    "                         limit     =  \"none\")\n",
    "                      \n",
    "write.csv(clemson, file = \"clemson_data_2020-06-01.csv\")\n",
    "```"
   ]
  },
  {
   "cell_type": "code",
   "execution_count": null,
   "metadata": {},
   "outputs": [],
   "source": []
  },
  {
   "cell_type": "code",
   "execution_count": null,
   "metadata": {},
   "outputs": [],
   "source": []
  },
  {
   "cell_type": "code",
   "execution_count": 4,
   "metadata": {},
   "outputs": [
    {
     "name": "stdout",
     "output_type": "stream",
     "text": [
      "/Users/ejcain/UA-AG/for-data-publication\n"
     ]
    }
   ],
   "source": [
    "%cd '/Users/ejcain/UA-AG/for-data-publication/'\n"
   ]
  },
  {
   "cell_type": "code",
   "execution_count": null,
   "metadata": {},
   "outputs": [],
   "source": []
  },
  {
   "cell_type": "code",
   "execution_count": null,
   "metadata": {},
   "outputs": [],
   "source": []
  },
  {
   "cell_type": "code",
   "execution_count": 5,
   "metadata": {},
   "outputs": [
    {
     "name": "stdout",
     "output_type": "stream",
     "text": [
      "(1657, 39)\n"
     ]
    },
    {
     "data": {
      "text/html": [
       "<div>\n",
       "<style scoped>\n",
       "    .dataframe tbody tr th:only-of-type {\n",
       "        vertical-align: middle;\n",
       "    }\n",
       "\n",
       "    .dataframe tbody tr th {\n",
       "        vertical-align: top;\n",
       "    }\n",
       "\n",
       "    .dataframe thead th {\n",
       "        text-align: right;\n",
       "    }\n",
       "</style>\n",
       "<table border=\"1\" class=\"dataframe\">\n",
       "  <thead>\n",
       "    <tr style=\"text-align: right;\">\n",
       "      <th></th>\n",
       "      <th>Unnamed: 0</th>\n",
       "      <th>checked</th>\n",
       "      <th>result_type</th>\n",
       "      <th>id</th>\n",
       "      <th>citation_id</th>\n",
       "      <th>site_id</th>\n",
       "      <th>treatment_id</th>\n",
       "      <th>sitename</th>\n",
       "      <th>city</th>\n",
       "      <th>lat</th>\n",
       "      <th>...</th>\n",
       "      <th>n</th>\n",
       "      <th>statname</th>\n",
       "      <th>stat</th>\n",
       "      <th>notes</th>\n",
       "      <th>access_level</th>\n",
       "      <th>cultivar</th>\n",
       "      <th>entity</th>\n",
       "      <th>method_name</th>\n",
       "      <th>view_url</th>\n",
       "      <th>edit_url</th>\n",
       "    </tr>\n",
       "  </thead>\n",
       "  <tbody>\n",
       "    <tr>\n",
       "      <th>0</th>\n",
       "      <td>1</td>\n",
       "      <td>0</td>\n",
       "      <td>traits</td>\n",
       "      <td>6005980183</td>\n",
       "      <td>6000000027</td>\n",
       "      <td>6000025503</td>\n",
       "      <td>6000000042</td>\n",
       "      <td>Clemson University Pee Dee Research and Educat...</td>\n",
       "      <td>Florence</td>\n",
       "      <td>34.289</td>\n",
       "      <td>...</td>\n",
       "      <td>NaN</td>\n",
       "      <td>NaN</td>\n",
       "      <td>NaN</td>\n",
       "      <td>NaN</td>\n",
       "      <td>2</td>\n",
       "      <td>PI641862</td>\n",
       "      <td>NaN</td>\n",
       "      <td>NaN</td>\n",
       "      <td>https://terraref.ncsa.illinois.edu/bety/traits...</td>\n",
       "      <td>https://terraref.ncsa.illinois.edu/bety/traits...</td>\n",
       "    </tr>\n",
       "    <tr>\n",
       "      <th>1</th>\n",
       "      <td>2</td>\n",
       "      <td>0</td>\n",
       "      <td>traits</td>\n",
       "      <td>6005980184</td>\n",
       "      <td>6000000027</td>\n",
       "      <td>6000025503</td>\n",
       "      <td>6000000042</td>\n",
       "      <td>Clemson University Pee Dee Research and Educat...</td>\n",
       "      <td>Florence</td>\n",
       "      <td>34.289</td>\n",
       "      <td>...</td>\n",
       "      <td>NaN</td>\n",
       "      <td>NaN</td>\n",
       "      <td>NaN</td>\n",
       "      <td>NaN</td>\n",
       "      <td>2</td>\n",
       "      <td>PI641862</td>\n",
       "      <td>NaN</td>\n",
       "      <td>NaN</td>\n",
       "      <td>https://terraref.ncsa.illinois.edu/bety/traits...</td>\n",
       "      <td>https://terraref.ncsa.illinois.edu/bety/traits...</td>\n",
       "    </tr>\n",
       "    <tr>\n",
       "      <th>2</th>\n",
       "      <td>3</td>\n",
       "      <td>0</td>\n",
       "      <td>traits</td>\n",
       "      <td>6005980185</td>\n",
       "      <td>6000000027</td>\n",
       "      <td>6000025503</td>\n",
       "      <td>6000000042</td>\n",
       "      <td>Clemson University Pee Dee Research and Educat...</td>\n",
       "      <td>Florence</td>\n",
       "      <td>34.289</td>\n",
       "      <td>...</td>\n",
       "      <td>NaN</td>\n",
       "      <td>NaN</td>\n",
       "      <td>NaN</td>\n",
       "      <td>NaN</td>\n",
       "      <td>2</td>\n",
       "      <td>PI653616</td>\n",
       "      <td>NaN</td>\n",
       "      <td>NaN</td>\n",
       "      <td>https://terraref.ncsa.illinois.edu/bety/traits...</td>\n",
       "      <td>https://terraref.ncsa.illinois.edu/bety/traits...</td>\n",
       "    </tr>\n",
       "  </tbody>\n",
       "</table>\n",
       "<p>3 rows × 39 columns</p>\n",
       "</div>"
      ],
      "text/plain": [
       "   Unnamed: 0  checked result_type          id  citation_id     site_id  \\\n",
       "0           1        0      traits  6005980183   6000000027  6000025503   \n",
       "1           2        0      traits  6005980184   6000000027  6000025503   \n",
       "2           3        0      traits  6005980185   6000000027  6000025503   \n",
       "\n",
       "   treatment_id                                           sitename      city  \\\n",
       "0    6000000042  Clemson University Pee Dee Research and Educat...  Florence   \n",
       "1    6000000042  Clemson University Pee Dee Research and Educat...  Florence   \n",
       "2    6000000042  Clemson University Pee Dee Research and Educat...  Florence   \n",
       "\n",
       "      lat  ...   n statname stat notes  access_level  cultivar entity  \\\n",
       "0  34.289  ... NaN      NaN  NaN   NaN             2  PI641862    NaN   \n",
       "1  34.289  ... NaN      NaN  NaN   NaN             2  PI641862    NaN   \n",
       "2  34.289  ... NaN      NaN  NaN   NaN             2  PI653616    NaN   \n",
       "\n",
       "   method_name                                           view_url  \\\n",
       "0          NaN  https://terraref.ncsa.illinois.edu/bety/traits...   \n",
       "1          NaN  https://terraref.ncsa.illinois.edu/bety/traits...   \n",
       "2          NaN  https://terraref.ncsa.illinois.edu/bety/traits...   \n",
       "\n",
       "                                            edit_url  \n",
       "0  https://terraref.ncsa.illinois.edu/bety/traits...  \n",
       "1  https://terraref.ncsa.illinois.edu/bety/traits...  \n",
       "2  https://terraref.ncsa.illinois.edu/bety/traits...  \n",
       "\n",
       "[3 rows x 39 columns]"
      ]
     },
     "execution_count": 5,
     "metadata": {},
     "output_type": "execute_result"
    }
   ],
   "source": [
    "df_0 = pd.read_csv('data/raw/clemson/clemson_data_2020-06-01.csv')\n",
    "print(df_0.shape)\n",
    "df_0.head(3)"
   ]
  },
  {
   "cell_type": "code",
   "execution_count": 6,
   "metadata": {},
   "outputs": [
    {
     "name": "stdout",
     "output_type": "stream",
     "text": [
      "2014-07-12 19:00:00 -0500\n",
      "2014-10-15 19:00:00 -0500\n"
     ]
    }
   ],
   "source": [
    "print(df_0.raw_date.min())\n",
    "print(df_0.raw_date.max())"
   ]
  },
  {
   "cell_type": "code",
   "execution_count": 10,
   "metadata": {},
   "outputs": [
    {
     "data": {
      "text/plain": [
       "Series([], Name: trait, dtype: int64)"
      ]
     },
     "execution_count": 10,
     "metadata": {},
     "output_type": "execute_result"
    }
   ],
   "source": [
    "df_0.loc[df_0.raw_date == '2014-10-13 19:00:00 -0500']['trait'].value_counts()"
   ]
  },
  {
   "cell_type": "markdown",
   "metadata": {},
   "source": [
    "#### Slice for selected traits\n",
    "- plant height\n",
    "- days & GDD to flowering\n",
    "- aboveground dry biomass\n",
    "- may use other traits as needed for future models"
   ]
  },
  {
   "cell_type": "code",
   "execution_count": null,
   "metadata": {},
   "outputs": [],
   "source": [
    "df_0.trait.unique()"
   ]
  },
  {
   "cell_type": "code",
   "execution_count": null,
   "metadata": {},
   "outputs": [],
   "source": [
    "df_1 = df_0.loc[(df_0.trait == 'flowering_time') | (df_0.trait == 'plant_height') | (df_0.trait == 'aboveground_dry_biomass')]\n",
    "print(df_1.shape)\n",
    "# df_1.tail()"
   ]
  },
  {
   "cell_type": "markdown",
   "metadata": {},
   "source": [
    "#### Drop & Rename Columns\n",
    "- rename `mean` to `value`\n",
    "- convert `raw_date` to new datetime object\n",
    "- new datetime object will be in `date` column\n",
    "- drop `raw_date` column"
   ]
  },
  {
   "cell_type": "code",
   "execution_count": null,
   "metadata": {},
   "outputs": [],
   "source": [
    "# df_1.columns"
   ]
  },
  {
   "cell_type": "code",
   "execution_count": null,
   "metadata": {},
   "outputs": [],
   "source": [
    "# Can drop most columns with only one value\n",
    "\n",
    "# for col in df_1.columns:\n",
    "    \n",
    "#     if df_1[col].nunique() < 5:\n",
    "#         print(f'Unique values for {col}: {df_1[col].unique()}')"
   ]
  },
  {
   "cell_type": "code",
   "execution_count": null,
   "metadata": {},
   "outputs": [],
   "source": [
    "cols_to_drop = ['Unnamed: 0', 'checked', 'result_type', 'id', 'citation_id', 'site_id', 'treatment_id', \n",
    "                'commonname', 'genus', 'species_id', 'cultivar_id', 'month', 'year', 'dateloc', 'n', 'statname', \n",
    "                'stat', 'notes', 'access_level', 'entity', 'view_url', 'edit_url', 'date', 'time', 'method_name', \n",
    "                'treatment']\n",
    "\n",
    "df_2 = df_1.drop(labels=cols_to_drop, axis=1)\n",
    "print(df_2.shape)\n",
    "# df_2.head()"
   ]
  },
  {
   "cell_type": "markdown",
   "metadata": {},
   "source": [
    "#### Convert `raw_date` to datetime object"
   ]
  },
  {
   "cell_type": "code",
   "execution_count": null,
   "metadata": {},
   "outputs": [],
   "source": [
    "# df_2.dtypes"
   ]
  },
  {
   "cell_type": "code",
   "execution_count": null,
   "metadata": {},
   "outputs": [],
   "source": [
    "new_dates = pd.to_datetime(df_2.raw_date)\n",
    "\n",
    "df_3 = df_2.copy()\n",
    "df_3['date'] = new_dates\n",
    "\n",
    "print(df_2.shape)\n",
    "print(df_3.shape)\n",
    "\n",
    "# df_3.head(3)"
   ]
  },
  {
   "cell_type": "code",
   "execution_count": null,
   "metadata": {},
   "outputs": [],
   "source": [
    "df_4 = df_3.rename({'mean': 'value'}, axis=1)\n",
    "print(df_4.shape)\n",
    "# df_4.tail(3)"
   ]
  },
  {
   "cell_type": "code",
   "execution_count": null,
   "metadata": {},
   "outputs": [],
   "source": [
    "df_5 = df_4.drop(labels=['raw_date'], axis=1)\n",
    "print(df_5.shape)\n",
    "# df_5.head()"
   ]
  },
  {
   "cell_type": "markdown",
   "metadata": {},
   "source": [
    "### Add Weather Data\n",
    "- downloaded from [Daymet](https://daymet.ornl.gov/getdata) and [Climate Engine](http://climateengine.org/data)\n",
    "- Raw data transformed to interim data using [code](https://github.com/MagicMilly/for-data-publication/tree/main/notebooks) within the `clemson_2014_daily_weather` notebook\n",
    "- will use temperature values to calculate Growing Degree Days to Flowering"
   ]
  },
  {
   "cell_type": "code",
   "execution_count": null,
   "metadata": {},
   "outputs": [],
   "source": [
    "weather_0 = pd.read_csv('data/interim/updated_clemson_weather_2014_2020-06-24.csv')\n",
    "print(weather_0.shape)\n",
    "# weather_0.head()"
   ]
  },
  {
   "cell_type": "markdown",
   "metadata": {},
   "source": [
    "### A. Days & GDD to Flowering\n",
    "- planting date: 2014-05-06"
   ]
  },
  {
   "cell_type": "code",
   "execution_count": null,
   "metadata": {},
   "outputs": [],
   "source": [
    "fl_0 = df_5.loc[df_5.trait == 'flowering_time']\n",
    "print(fl_0.shape)\n",
    "# fl_0.head()"
   ]
  },
  {
   "cell_type": "markdown",
   "metadata": {},
   "source": [
    "#### Add planting date"
   ]
  },
  {
   "cell_type": "code",
   "execution_count": null,
   "metadata": {},
   "outputs": [],
   "source": [
    "day_of_planting = datetime.date(2014,5,6)\n",
    "fl_1 = fl_0.copy()\n",
    "\n",
    "fl_1['date_of_planting'] = day_of_planting\n",
    "print(fl_1.shape)\n",
    "# fl_1.head(5)"
   ]
  },
  {
   "cell_type": "markdown",
   "metadata": {},
   "source": [
    "#### Create timedelta using days to flowering"
   ]
  },
  {
   "cell_type": "code",
   "execution_count": null,
   "metadata": {},
   "outputs": [],
   "source": [
    "timedelta_values = fl_1['value'].values\n",
    "dates_of_flowering = []\n",
    "\n",
    "for val in timedelta_values:\n",
    "    \n",
    "    date_of_flowering = day_of_planting + datetime.timedelta(days=val)\n",
    "    dates_of_flowering.append(date_of_flowering)\n",
    "    \n",
    "print(fl_1.shape[0])\n",
    "print(len(dates_of_flowering))"
   ]
  },
  {
   "cell_type": "code",
   "execution_count": null,
   "metadata": {},
   "outputs": [],
   "source": [
    "fl_2 = fl_1.copy()\n",
    "fl_2['date_of_flowering'] = dates_of_flowering\n",
    "print(fl_2.shape)\n",
    "# fl_2.tail()"
   ]
  },
  {
   "cell_type": "markdown",
   "metadata": {},
   "source": [
    "#### Merge temperature data from weather dataframe with flowering dataframe"
   ]
  },
  {
   "cell_type": "code",
   "execution_count": null,
   "metadata": {},
   "outputs": [],
   "source": [
    "temp_df = weather_0[['date', 'day_of_year', 'temp_min_c', 'temp_max_c']]\n",
    "print(temp_df.shape)\n",
    "# temp_df.head()"
   ]
  },
  {
   "cell_type": "markdown",
   "metadata": {},
   "source": [
    "#### Add GDD to weather df for seasonal dates"
   ]
  },
  {
   "cell_type": "code",
   "execution_count": null,
   "metadata": {},
   "outputs": [],
   "source": [
    "temp_df_1 = temp_df.loc[temp_df['date'] >= '2014-05-06']\n",
    "print(temp_df_1.shape)\n",
    "# temp_df_1.head()"
   ]
  },
  {
   "cell_type": "code",
   "execution_count": null,
   "metadata": {},
   "outputs": [],
   "source": [
    "temp_df_2 = temp_df_1.copy()\n",
    "temp_df_2['daily_gdd'] = (((temp_df_2['temp_min_c'] + temp_df_2['temp_max_c'])) / 2) - 10\n",
    "print(temp_df_2.shape)\n",
    "# temp_df_2.head(10)"
   ]
  },
  {
   "cell_type": "code",
   "execution_count": null,
   "metadata": {},
   "outputs": [],
   "source": [
    "# Check for negative daily gdd values\n",
    "# Can disregard if negative values are on days after harvesting\n",
    "\n",
    "# temp_df_2.loc[temp_df_2.daily_gdd < 0]"
   ]
  },
  {
   "cell_type": "code",
   "execution_count": null,
   "metadata": {},
   "outputs": [],
   "source": [
    "# Uncomment this cell if needed\n",
    "# Change all negative values to 0\n",
    "\n",
    "# temp_df_3 = temp_df_2.copy()\n",
    "\n",
    "# for k,v in temp_df_2.iteritems():\n",
    "    \n",
    "#     if k == 'daily_gdd':\n",
    "#         v[v < 0] = 0"
   ]
  },
  {
   "cell_type": "code",
   "execution_count": null,
   "metadata": {},
   "outputs": [],
   "source": [
    "# Should return empty df now\n",
    "\n",
    "# temp_df_3.loc[temp_df_2.daily_gdd < 0]"
   ]
  },
  {
   "cell_type": "code",
   "execution_count": null,
   "metadata": {},
   "outputs": [],
   "source": [
    "# compare to df with negative values\n",
    "\n",
    "# temp_df_3.loc[temp_df_2.daily_gdd == 0]"
   ]
  },
  {
   "cell_type": "code",
   "execution_count": null,
   "metadata": {},
   "outputs": [],
   "source": [
    "temp_df_3 = temp_df_2.copy()\n",
    "temp_df_3['gdd'] = np.rint(np.cumsum(temp_df_3['daily_gdd']))\n",
    "\n",
    "print(temp_df_3.shape)\n",
    "# temp_df_3.head()"
   ]
  },
  {
   "cell_type": "code",
   "execution_count": null,
   "metadata": {},
   "outputs": [],
   "source": [
    "temp_df_4 = temp_df_3[['date', 'gdd']]\n",
    "print(temp_df_4.shape)\n",
    "# temp_df_4.head()"
   ]
  },
  {
   "cell_type": "markdown",
   "metadata": {},
   "source": [
    "#### Convert dates to datetime objects\n",
    "- date of flowering\n",
    "- date in the weather df"
   ]
  },
  {
   "cell_type": "code",
   "execution_count": null,
   "metadata": {},
   "outputs": [],
   "source": [
    "fl_3 = fl_2.copy()\n",
    "fl_3.date_of_flowering = pd.to_datetime(fl_3.date_of_flowering)\n",
    "# fl_3.dtypes"
   ]
  },
  {
   "cell_type": "code",
   "execution_count": null,
   "metadata": {},
   "outputs": [],
   "source": [
    "# temp_df_4.dtypes"
   ]
  },
  {
   "cell_type": "code",
   "execution_count": null,
   "metadata": {},
   "outputs": [],
   "source": [
    "temp_df_5 = temp_df_4.copy()\n",
    "temp_df_5.date = pd.to_datetime(temp_df_5.date)"
   ]
  },
  {
   "cell_type": "code",
   "execution_count": null,
   "metadata": {},
   "outputs": [],
   "source": [
    "temp_df_5.dtypes"
   ]
  },
  {
   "cell_type": "code",
   "execution_count": null,
   "metadata": {},
   "outputs": [],
   "source": [
    "fl_4 = fl_3.merge(temp_df_5, how='left', left_on='date_of_flowering', right_on='date')\n",
    "print(fl_4.shape)\n",
    "# fl_4.tail()"
   ]
  },
  {
   "cell_type": "markdown",
   "metadata": {},
   "source": [
    "#### Rename & Drop Columns"
   ]
  },
  {
   "cell_type": "code",
   "execution_count": null,
   "metadata": {},
   "outputs": [],
   "source": [
    "# fl_4.columns"
   ]
  },
  {
   "cell_type": "code",
   "execution_count": null,
   "metadata": {},
   "outputs": [],
   "source": [
    "cols_to_drop = ['scientificname', 'author', 'citation_year', 'trait', 'units', 'date_of_planting', 'date_x', 'date_y']\n",
    "\n",
    "fl_5 = fl_4.drop(labels=cols_to_drop, axis=1)\n",
    "print(fl_5.shape)\n",
    "# fl_5.head()"
   ]
  },
  {
   "cell_type": "code",
   "execution_count": null,
   "metadata": {},
   "outputs": [],
   "source": [
    "fl_6 = fl_5.rename({'value': 'days_to_flowering', 'gdd': 'gdd_to_flowering'}, axis=1)\n",
    "print(fl_6.shape)\n",
    "# fl_6.head()"
   ]
  },
  {
   "cell_type": "code",
   "execution_count": null,
   "metadata": {},
   "outputs": [],
   "source": [
    "# fl_6.columns"
   ]
  },
  {
   "cell_type": "code",
   "execution_count": null,
   "metadata": {},
   "outputs": [],
   "source": [
    "new_col_order = ['sitename', 'city', 'lat', 'lon', 'trait_description', 'cultivar', \n",
    "                 'days_to_flowering', 'gdd_to_flowering', 'date_of_flowering']\n",
    "\n",
    "fl_7 = pd.DataFrame(data=fl_6, columns=new_col_order)\n",
    "print(fl_7.shape)\n",
    "fl_7.head(3)"
   ]
  },
  {
   "cell_type": "markdown",
   "metadata": {},
   "source": [
    "#### Write days to flowering df to `.csv`"
   ]
  },
  {
   "cell_type": "code",
   "execution_count": null,
   "metadata": {},
   "outputs": [],
   "source": [
    "timestamp = datetime.datetime.now().replace(microsecond=0).isoformat()\n",
    "output_filename = f'data/processed/clemson_days_to_flowering_{timestamp}.csv'.replace(':', '')\n",
    "\n",
    "fl_7.to_csv(output_filename, index=False)"
   ]
  },
  {
   "cell_type": "code",
   "execution_count": null,
   "metadata": {},
   "outputs": [],
   "source": []
  },
  {
   "cell_type": "markdown",
   "metadata": {},
   "source": [
    "### B. Plant Height"
   ]
  },
  {
   "cell_type": "code",
   "execution_count": null,
   "metadata": {},
   "outputs": [],
   "source": [
    "# df_5.trait.unique()"
   ]
  },
  {
   "cell_type": "code",
   "execution_count": null,
   "metadata": {},
   "outputs": [],
   "source": [
    "ph_0 = df_5.loc[df_5.trait == 'plant_height']\n",
    "print(ph_0.shape)\n",
    "# ph_0.head()"
   ]
  },
  {
   "cell_type": "markdown",
   "metadata": {},
   "source": [
    "#### Rename, Drop, & Reorder Columns"
   ]
  },
  {
   "cell_type": "code",
   "execution_count": null,
   "metadata": {},
   "outputs": [],
   "source": [
    "ph_1 = ph_0.rename({'value': 'plant_height_cm'}, axis=1)\n",
    "# ph_1.tail()"
   ]
  },
  {
   "cell_type": "code",
   "execution_count": null,
   "metadata": {},
   "outputs": [],
   "source": [
    "cols_to_drop = ['author', 'citation_year', 'trait', 'units']\n",
    "\n",
    "ph_2 = ph_1.drop(labels=cols_to_drop, axis=1)\n",
    "print(ph_2.shape)\n",
    "# ph_2.head()"
   ]
  },
  {
   "cell_type": "code",
   "execution_count": null,
   "metadata": {},
   "outputs": [],
   "source": [
    "new_col_order = ['sitename', 'city', 'lat', 'lon', 'scientificname', 'trait_description', 'cultivar', \n",
    "                'plant_height_cm', 'date']\n",
    "\n",
    "ph_3 = pd.DataFrame(data=ph_2, columns=new_col_order)\n",
    "print(ph_3.shape)\n",
    "# ph_3.head()"
   ]
  },
  {
   "cell_type": "code",
   "execution_count": null,
   "metadata": {},
   "outputs": [],
   "source": [
    "ph_4 = ph_3.set_index(keys=['date'])\n",
    "# ph_4.tail()"
   ]
  },
  {
   "cell_type": "code",
   "execution_count": null,
   "metadata": {},
   "outputs": [],
   "source": [
    "# sort index ascending\n",
    "\n",
    "ph_5 = ph_4.sort_index()\n",
    "print(ph_5.shape)\n",
    "ph_5.head(3)"
   ]
  },
  {
   "cell_type": "markdown",
   "metadata": {},
   "source": [
    "#### Write canopy heights to `.csv`"
   ]
  },
  {
   "cell_type": "code",
   "execution_count": null,
   "metadata": {},
   "outputs": [],
   "source": [
    "timestamp = datetime.datetime.now().replace(microsecond=0).isoformat()\n",
    "output_filename = f'data/processed/clemson_canopy_heights_{timestamp}.csv'.replace(':', '')\n",
    "\n",
    "ph_5.to_csv(output_filename, index=True, index_label='date')"
   ]
  },
  {
   "cell_type": "code",
   "execution_count": null,
   "metadata": {},
   "outputs": [],
   "source": []
  },
  {
   "cell_type": "markdown",
   "metadata": {},
   "source": [
    "### C. Aboveground dry biomass"
   ]
  },
  {
   "cell_type": "code",
   "execution_count": null,
   "metadata": {},
   "outputs": [],
   "source": [
    "adb_0 = df_5.loc[df_5.trait == 'aboveground_dry_biomass']\n",
    "print(adb_0.shape)\n",
    "# adb_0.head()"
   ]
  },
  {
   "cell_type": "markdown",
   "metadata": {},
   "source": [
    "#### Rename, Drop, & Reorder Columns"
   ]
  },
  {
   "cell_type": "code",
   "execution_count": null,
   "metadata": {},
   "outputs": [],
   "source": [
    "adb_1 = adb_0.rename({'value': 'aboveground_dry_biomass'}, axis=1)\n",
    "# adb_1.tail()"
   ]
  },
  {
   "cell_type": "code",
   "execution_count": null,
   "metadata": {},
   "outputs": [],
   "source": [
    "cols_to_drop = ['author', 'citation_year', 'trait', 'trait_description']\n",
    "\n",
    "adb_2 = adb_1.drop(labels=cols_to_drop, axis=1)\n",
    "print(adb_2.shape)\n",
    "# adb_2.head()"
   ]
  },
  {
   "cell_type": "code",
   "execution_count": null,
   "metadata": {},
   "outputs": [],
   "source": [
    "new_col_order = ['date', 'sitename', 'city', 'lat', 'lon', 'scientificname', 'cultivar', \n",
    "                'aboveground_dry_biomass', 'units']\n",
    "\n",
    "adb_3 = pd.DataFrame(data=adb_2, columns=new_col_order)\n",
    "print(adb_3.shape)\n",
    "# adb_3.head()"
   ]
  },
  {
   "cell_type": "code",
   "execution_count": null,
   "metadata": {},
   "outputs": [],
   "source": [
    "adb_4 = adb_3.set_index(keys=['date'])\n",
    "adb_4.tail(3)"
   ]
  },
  {
   "cell_type": "markdown",
   "metadata": {},
   "source": [
    "#### Write aboveground dry biomass df to `.csv`"
   ]
  },
  {
   "cell_type": "code",
   "execution_count": null,
   "metadata": {},
   "outputs": [],
   "source": [
    "timestamp = datetime.datetime.now().replace(microsecond=0).isoformat()\n",
    "output_filename = f'data/processed/clemson_aboveground_dry_biomass_{timestamp}.csv'.replace(':', '')\n",
    "\n",
    "adb_4.to_csv(output_filename, index=True)"
   ]
  },
  {
   "cell_type": "code",
   "execution_count": null,
   "metadata": {},
   "outputs": [],
   "source": []
  }
 ],
 "metadata": {
  "kernelspec": {
   "display_name": "Python 3",
   "language": "python",
   "name": "python3"
  },
  "language_info": {
   "codemirror_mode": {
    "name": "ipython",
    "version": 3
   },
   "file_extension": ".py",
   "mimetype": "text/x-python",
   "name": "python",
   "nbconvert_exporter": "python",
   "pygments_lexer": "ipython3",
   "version": "3.8.3"
  }
 },
 "nbformat": 4,
 "nbformat_minor": 4
}
